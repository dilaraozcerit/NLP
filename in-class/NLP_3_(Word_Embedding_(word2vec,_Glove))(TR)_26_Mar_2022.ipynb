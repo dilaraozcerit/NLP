{
  "cells": [
    {
      "cell_type": "markdown",
      "metadata": {
        "id": "view-in-github",
        "colab_type": "text"
      },
      "source": [
        "<a href=\"https://colab.research.google.com/github/dilaraozcerit/NLP/blob/master/NLP_3_(Word_Embedding_(word2vec%2C_Glove))(TR)_26_Mar_2022.ipynb\" target=\"_parent\"><img src=\"https://colab.research.google.com/assets/colab-badge.svg\" alt=\"Open In Colab\"/></a>"
      ]
    },
    {
      "cell_type": "markdown",
      "metadata": {
        "id": "p21BbxresQ5L"
      },
      "source": [
        "## Word_embedding"
      ]
    },
    {
      "cell_type": "markdown",
      "metadata": {
        "id": "huUHGX-hsQ5O"
      },
      "source": [
        "## Word2Vec"
      ]
    },
    {
      "cell_type": "code",
      "execution_count": null,
      "metadata": {
        "id": "qGkioN_rsQ5P"
      },
      "outputs": [],
      "source": [
        "# pip install gensim"
      ]
    },
    {
      "cell_type": "code",
      "execution_count": null,
      "metadata": {
        "id": "0u4V-ooFsQ5Q"
      },
      "outputs": [],
      "source": [
        "import numpy as np\n",
        "from gensim.models import Word2Vec\n",
        "#from sklearn.manifold import TSNE\n",
        "#import matplotlib.pyplot as plt"
      ]
    },
    {
      "cell_type": "code",
      "execution_count": null,
      "metadata": {
        "id": "er2eUd_tsQ5Q"
      },
      "outputs": [],
      "source": [
        "text = open('newspaper.txt', 'r', encoding='utf8')\n",
        "text = text.read()\n",
        "list_sent = text.split('\\n')\n",
        "\n",
        "corpus = []\n",
        "\n",
        "for sent in list_sent:\n",
        "    corpus.append(sent.split()) # split defaultumuz boşluk. Boşluklara göre ayırıyor."
      ]
    },
    {
      "cell_type": "code",
      "execution_count": null,
      "metadata": {
        "id": "PR1vm3s2sQ5S",
        "outputId": "f283a037-0ff3-4c88-cb10-35f826460d1e"
      },
      "outputs": [
        {
          "data": {
            "text/plain": [
              "'iran devlet televizyonu ülkedeki eyaletin sinde yapılan reformcuları protesto amaçlı yürüyüşlere milyonlarca kişinin katıldığını bildirdi \\ngösterilerde fitnecilere ölüm münafıklara ölüm abd ye ölüm ingiltere ye ölüm sloganları atıldı \\ndini lider ali hamaney ve cumhurbaşkanı mahmud ahmedinejad ı destekleyen iranlılar son olaylarda yeğeni öldürülen mir hüseyin musevi başta olmak üzere muhalefet liderlerini kınadılar \\nmusevi ye ölüm ve idam idam sloganları duyuldu \\nmuhalefet liderleri kaçtı mı aşure günü yaşanan çatışmalarda devlet kaynaklarına göre u terörist olmak üzere kişi ölmüştü \\nden fazla kişinin yaralandığı olaylar sırasında en az kişi tutuklanmıştı \\nöte yandan iran haber ajansı irna muhalif liderler mir hüseyin musevi ve mehdi kerrubi nin başkentten kaçarak ülkenin kuzeyine geçtiğini ileri sürdü ancak muhalefet iddiayı yalanladı \\nhamaney in bir dönem korumalığını yapan ve şu anda fransa da saklandığı söylenen bir kişinin muhalefete verdiği bilgilere göre münzevi yaşamı na rağmen '"
            ]
          },
          "execution_count": 4,
          "metadata": {},
          "output_type": "execute_result"
        }
      ],
      "source": [
        "text[:1000]"
      ]
    },
    {
      "cell_type": "code",
      "execution_count": null,
      "metadata": {
        "id": "aCTc-fg9sQ5T",
        "outputId": "fb673fb4-f751-48ce-8780-c1893b258d09"
      },
      "outputs": [
        {
          "data": {
            "text/plain": [
              "['iran devlet televizyonu ülkedeki eyaletin sinde yapılan reformcuları protesto amaçlı yürüyüşlere milyonlarca kişinin katıldığını bildirdi ',\n",
              " 'gösterilerde fitnecilere ölüm münafıklara ölüm abd ye ölüm ingiltere ye ölüm sloganları atıldı ',\n",
              " 'dini lider ali hamaney ve cumhurbaşkanı mahmud ahmedinejad ı destekleyen iranlılar son olaylarda yeğeni öldürülen mir hüseyin musevi başta olmak üzere muhalefet liderlerini kınadılar ',\n",
              " 'musevi ye ölüm ve idam idam sloganları duyuldu ',\n",
              " 'muhalefet liderleri kaçtı mı aşure günü yaşanan çatışmalarda devlet kaynaklarına göre u terörist olmak üzere kişi ölmüştü ',\n",
              " 'den fazla kişinin yaralandığı olaylar sırasında en az kişi tutuklanmıştı ',\n",
              " 'öte yandan iran haber ajansı irna muhalif liderler mir hüseyin musevi ve mehdi kerrubi nin başkentten kaçarak ülkenin kuzeyine geçtiğini ileri sürdü ancak muhalefet iddiayı yalanladı ',\n",
              " 'hamaney in bir dönem korumalığını yapan ve şu anda fransa da saklandığı söylenen bir kişinin muhalefete verdiği bilgilere göre münzevi yaşamı na rağmen dini liderin havyara karşı korkunç bir iştahı var ',\n",
              " 'baston ve at meraklısı hamaney aynı zamanda değerli mücevherlerle bezenmiş bastonların ve cins atların koleksiyonunu yapıyor ',\n",
              " 'hamaney in antika bastonlarının sayısı ']"
            ]
          },
          "execution_count": 5,
          "metadata": {},
          "output_type": "execute_result"
        }
      ],
      "source": [
        "list_sent[:10]"
      ]
    },
    {
      "cell_type": "code",
      "execution_count": null,
      "metadata": {
        "id": "pNVw4QY1sQ5U",
        "outputId": "28b4dfdf-1fd4-4eb8-d7e8-6f12224343bd"
      },
      "outputs": [
        {
          "data": {
            "text/plain": [
              "['iran',\n",
              " 'devlet',\n",
              " 'televizyonu',\n",
              " 'ülkedeki',\n",
              " 'eyaletin',\n",
              " 'sinde',\n",
              " 'yapılan',\n",
              " 'reformcuları',\n",
              " 'protesto',\n",
              " 'amaçlı',\n",
              " 'yürüyüşlere',\n",
              " 'milyonlarca',\n",
              " 'kişinin',\n",
              " 'katıldığını',\n",
              " 'bildirdi']"
            ]
          },
          "execution_count": 6,
          "metadata": {},
          "output_type": "execute_result"
        }
      ],
      "source": [
        "list_sent[0].split()"
      ]
    },
    {
      "cell_type": "code",
      "execution_count": null,
      "metadata": {
        "id": "Fu5BCtQwsQ5U",
        "outputId": "861c9f0d-5374-4c89-980d-01251f7361e7"
      },
      "outputs": [
        {
          "name": "stdout",
          "output_type": "stream",
          "text": [
            "[['iran', 'devlet', 'televizyonu', 'ülkedeki', 'eyaletin', 'sinde', 'yapılan', 'reformcuları', 'protesto', 'amaçlı', 'yürüyüşlere', 'milyonlarca', 'kişinin', 'katıldığını', 'bildirdi'], ['gösterilerde', 'fitnecilere', 'ölüm', 'münafıklara', 'ölüm', 'abd', 'ye', 'ölüm', 'ingiltere', 'ye', 'ölüm', 'sloganları', 'atıldı'], ['dini', 'lider', 'ali', 'hamaney', 've', 'cumhurbaşkanı', 'mahmud', 'ahmedinejad', 'ı', 'destekleyen', 'iranlılar', 'son', 'olaylarda', 'yeğeni', 'öldürülen', 'mir', 'hüseyin', 'musevi', 'başta', 'olmak', 'üzere', 'muhalefet', 'liderlerini', 'kınadılar'], ['musevi', 'ye', 'ölüm', 've', 'idam', 'idam', 'sloganları', 'duyuldu'], ['muhalefet', 'liderleri', 'kaçtı', 'mı', 'aşure', 'günü', 'yaşanan', 'çatışmalarda', 'devlet', 'kaynaklarına', 'göre', 'u', 'terörist', 'olmak', 'üzere', 'kişi', 'ölmüştü'], ['den', 'fazla', 'kişinin', 'yaralandığı', 'olaylar', 'sırasında', 'en', 'az', 'kişi', 'tutuklanmıştı'], ['öte', 'yandan', 'iran', 'haber', 'ajansı', 'irna', 'muhalif', 'liderler', 'mir', 'hüseyin', 'musevi', 've', 'mehdi', 'kerrubi', 'nin', 'başkentten', 'kaçarak', 'ülkenin', 'kuzeyine', 'geçtiğini', 'ileri', 'sürdü', 'ancak', 'muhalefet', 'iddiayı', 'yalanladı'], ['hamaney', 'in', 'bir', 'dönem', 'korumalığını', 'yapan', 've', 'şu', 'anda', 'fransa', 'da', 'saklandığı', 'söylenen', 'bir', 'kişinin', 'muhalefete', 'verdiği', 'bilgilere', 'göre', 'münzevi', 'yaşamı', 'na', 'rağmen', 'dini', 'liderin', 'havyara', 'karşı', 'korkunç', 'bir', 'iştahı', 'var'], ['baston', 've', 'at', 'meraklısı', 'hamaney', 'aynı', 'zamanda', 'değerli', 'mücevherlerle', 'bezenmiş', 'bastonların', 've', 'cins', 'atların', 'koleksiyonunu', 'yapıyor'], ['hamaney', 'in', 'antika', 'bastonlarının', 'sayısı']]\n"
          ]
        }
      ],
      "source": [
        "print(corpus[:10])"
      ]
    },
    {
      "cell_type": "code",
      "execution_count": null,
      "metadata": {
        "id": "gJCSWzTysQ5V"
      },
      "outputs": [],
      "source": [
        ""
      ]
    },
    {
      "cell_type": "code",
      "execution_count": null,
      "metadata": {
        "id": "voQ4oWSosQ5V"
      },
      "outputs": [],
      "source": [
        "model = Word2Vec(corpus, size=100, window=5, min_count=5, sg=1)\n",
        "# size her kelimem için word embedding kaç feature olsun. İSter 50 ister 100 yapın ama genelde 50,100 ve 300.\n",
        "# sürüm farklılıklarından dolayı size = 100 ---> vector_size = 100 olacak şekilde düzeltme yapılabilir.\n",
        "# min_count = 5 benim corpusumda 5 veya daha az geçenleri eğitime dahil etme\n",
        "# sg --> skip gram --> bunun defaultu 0 normalde. sd 0 demek cbow demek\n",
        "# büyük corpuslarda cbow tercih ediyoruz."
      ]
    },
    {
      "cell_type": "code",
      "execution_count": null,
      "metadata": {
        "id": "e6dXuifUsQ5V",
        "outputId": "cd3c98cd-6327-4b93-a8a0-ae1e23fb215f"
      },
      "outputs": [
        {
          "data": {
            "text/plain": [
              "array([ 0.28217924,  0.16531119, -0.16471666, -0.05895628, -0.02606362,\n",
              "        0.00791687,  0.00321149,  0.46223375,  0.1400612 , -0.25810117,\n",
              "        0.09864391, -0.71330756, -0.26317605, -0.16120598, -0.6148293 ,\n",
              "        0.10216376, -0.17879976, -0.5341073 , -0.18080308, -0.03437465,\n",
              "       -0.3629723 , -0.5805339 ,  0.17517376, -0.22676924, -0.10460117,\n",
              "       -0.14536485, -0.3058267 , -0.09443143, -0.06910472,  0.8208352 ,\n",
              "        0.44363418,  0.16989139,  0.13532332, -0.03182735,  0.02672669,\n",
              "       -0.09820661, -0.54740524,  0.2494628 , -0.2121178 ,  0.05324606,\n",
              "       -0.07193967,  0.65916115, -0.4551725 ,  0.16642651,  0.12621738,\n",
              "       -0.35641447, -0.14480068,  0.14348252,  0.05410026,  0.50777143,\n",
              "       -0.28843743, -0.62839353,  0.07999117, -0.02725016,  0.4889934 ,\n",
              "       -0.10930897,  0.20048201, -0.56499135,  0.85182005,  0.24248925,\n",
              "       -0.09024525, -0.07321922, -0.03803238,  0.04449771,  0.26287046,\n",
              "       -0.11018717,  0.37467387,  0.5947802 , -0.44046584,  0.12361155,\n",
              "        0.54044336, -0.4014421 , -0.54128724, -0.44200435, -0.18385027,\n",
              "        0.37392756, -0.0481265 , -0.5445239 , -0.24299535, -0.52239674,\n",
              "       -0.21544155,  0.03624937,  0.16756803, -0.2373491 ,  0.06881052,\n",
              "        0.25426733, -0.3144435 , -0.24790236, -0.2198077 , -0.79129475,\n",
              "        0.28274438,  0.4526285 ,  0.16939473,  0.32626286,  0.18537723,\n",
              "       -0.3251953 , -0.09176803,  0.262969  , -0.21386811, -0.12631707],\n",
              "      dtype=float32)"
            ]
          },
          "execution_count": 9,
          "metadata": {},
          "output_type": "execute_result"
        }
      ],
      "source": [
        "model.wv['ankara']\n",
        "# hangi tokene ait word embedding görmek istiyorsam onu yazıyorum. \n",
        "# Hepsi 1 ve -1 arasında"
      ]
    },
    {
      "cell_type": "code",
      "execution_count": null,
      "metadata": {
        "id": "KiqcRgClsQ5W",
        "outputId": "75b0adac-4bf5-4a1e-ec79-76a4bf00d06a"
      },
      "outputs": [
        {
          "data": {
            "text/plain": [
              "[('birşey', 0.8002350926399231),\n",
              " ('şeyin', 0.7672483325004578),\n",
              " ('şeyim', 0.7592860460281372),\n",
              " ('şeyler', 0.7530828714370728),\n",
              " ('şeyle', 0.751874566078186),\n",
              " ('şeyimiz', 0.7459698915481567),\n",
              " ('şeyi', 0.7346823215484619),\n",
              " ('haberim', 0.7239826917648315),\n",
              " ('bilgimiz', 0.7219926714897156),\n",
              " ('sorunum', 0.7182484865188599)]"
            ]
          },
          "execution_count": 10,
          "metadata": {},
          "output_type": "execute_result"
        }
      ],
      "source": [
        "model.wv.most_similar('şey')\n",
        "# most similar yazdıktan sonra hangi token'i verirsek onunla en çok benzeşen, anlamsal benzerlikleri olan 10 kelimeyi döndürüyor, defaultu 10.\n",
        "\n",
        "# haberim ve sorunum neden?\n",
        "# sorunum olan şey.\n",
        "# demekki bu kelimelerden önce veya sonra 'şey' kelimesi çok gelmiş.\n",
        "# \"hicbir seyden haberim yok.\"\n",
        "\n",
        "# burda corpus küçük olduğu için anlamsal benzeşmeler biraz daha sıkıntılı olabilir."
      ]
    },
    {
      "cell_type": "code",
      "execution_count": null,
      "metadata": {
        "id": "wXyYV9c0sQ5W",
        "outputId": "5f80510c-a308-4f5c-d4f8-f3c072b50121"
      },
      "outputs": [
        {
          "data": {
            "text/plain": [
              "[('çizgileri', 0.7133355140686035),\n",
              " ('gömlekliler', 0.6443299055099487),\n",
              " ('ışıkta', 0.627669095993042),\n",
              " ('turuncu', 0.6223363876342773),\n",
              " ('bülten', 0.6150221824645996),\n",
              " ('gömlekli', 0.6131349802017212),\n",
              " ('gömleklilerin', 0.6086685657501221),\n",
              " ('bültenle', 0.6041914224624634),\n",
              " ('halıdan', 0.5888624787330627),\n",
              " ('halıda', 0.5877746939659119)]"
            ]
          },
          "execution_count": 11,
          "metadata": {},
          "output_type": "execute_result"
        }
      ],
      "source": [
        "model.wv.most_similar('kırmızı')\n",
        "# biz bunu gazetelerden topladığımız için mesela ilk sırayı çizgi almış--> \"kırmızı çizgi\""
      ]
    },
    {
      "cell_type": "code",
      "execution_count": null,
      "metadata": {
        "id": "HyZWEHgmsQ5X",
        "outputId": "6a419278-503b-4a7d-efec-5dcf9454da56"
      },
      "outputs": [
        {
          "data": {
            "text/plain": [
              "[('evine', 0.8499783277511597),\n",
              " ('dükkana', 0.776181161403656),\n",
              " ('apartmana', 0.7696876525878906),\n",
              " ('mağazaya', 0.7625304460525513),\n",
              " ('arabaya', 0.7488479614257812),\n",
              " ('hapishaneye', 0.7246628999710083),\n",
              " ('odasına', 0.7235920429229736),\n",
              " ('köye', 0.7233304977416992),\n",
              " ('karakola', 0.7176992893218994),\n",
              " ('arabadan', 0.7165572643280029)]"
            ]
          },
          "execution_count": 12,
          "metadata": {},
          "output_type": "execute_result"
        }
      ],
      "source": [
        "model.wv.most_similar('eve')"
      ]
    },
    {
      "cell_type": "code",
      "execution_count": null,
      "metadata": {
        "id": "W5vKPqgbsQ5X",
        "outputId": "6cac2e6e-eb3c-4e49-9a22-5a791b7f1450"
      },
      "outputs": [
        {
          "data": {
            "text/plain": [
              "[('marmara', 0.8945493698120117),\n",
              " ('baskınıyla', 0.6603778600692749),\n",
              " ('gemisine', 0.660006046295166),\n",
              " ('baskınına', 0.6463791728019714),\n",
              " ('baskınının', 0.6270555853843689),\n",
              " ('dökme', 0.6210524439811707),\n",
              " ('filosundaki', 0.6188602447509766),\n",
              " ('filodaki', 0.6139384508132935),\n",
              " ('filo', 0.6117265224456787),\n",
              " ('gazze', 0.5938047170639038)]"
            ]
          },
          "execution_count": 13,
          "metadata": {},
          "output_type": "execute_result"
        }
      ],
      "source": [
        "model.wv.most_similar('mavi')"
      ]
    },
    {
      "cell_type": "code",
      "execution_count": null,
      "metadata": {
        "id": "EbR1OTRCsQ5Y",
        "outputId": "cc2a7b06-6f93-43a6-bc50-825ecc22033a"
      },
      "outputs": [
        {
          "data": {
            "text/plain": [
              "[('kaliteli', 0.6552212238311768)]"
            ]
          },
          "execution_count": 14,
          "metadata": {},
          "output_type": "execute_result"
        }
      ],
      "source": [
        "model.wv.most_similar(positive=['öğrenme', 'doktor'], negative=['tedavi'], topn=1)\n",
        "# doktordan tedaviyi çıkardık ve tedaviyi ekledik. Bunun öğretmen olmasını bekleriz ama kaliteli çıkmış. NE alakaa?? Çünkü datamız yetersiz :("
      ]
    },
    {
      "cell_type": "markdown",
      "source": [
        "![image.png](data:image/png;base64,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)"
      ],
      "metadata": {
        "id": "ehzpv4RfxlWQ"
      }
    },
    {
      "cell_type": "code",
      "execution_count": null,
      "metadata": {
        "id": "TwBeIB1_sQ5Y",
        "outputId": "1c5a382c-79c5-47e0-c142-5b7adc2256f0"
      },
      "outputs": [
        {
          "data": {
            "text/plain": [
              "[('türkiye', 0.7180782556533813)]"
            ]
          },
          "execution_count": 15,
          "metadata": {},
          "output_type": "execute_result"
        }
      ],
      "source": [
        "model.wv.most_similar(positive=['ankara', 'rusya'], negative=['moskova'], topn=1)"
      ]
    },
    {
      "cell_type": "code",
      "execution_count": null,
      "metadata": {
        "id": "3CiOrbNVsQ5Z"
      },
      "outputs": [],
      "source": [
        "model.save(\"word2vec.model\")"
      ]
    },
    {
      "cell_type": "code",
      "execution_count": null,
      "metadata": {
        "id": "XGUehq_0sQ5Z"
      },
      "outputs": [],
      "source": [
        "model = Word2Vec.load(\"word2vec.model\")"
      ]
    },
    {
      "cell_type": "markdown",
      "metadata": {
        "id": "VSu5BFljsQ5Z"
      },
      "source": [
        "## Glove"
      ]
    },
    {
      "cell_type": "code",
      "execution_count": null,
      "metadata": {
        "id": "hkSA6Ws_sQ5a"
      },
      "outputs": [],
      "source": [
        "from gensim.scripts.glove2word2vec import glove2word2vec\n",
        "from gensim.models import KeyedVectors"
      ]
    },
    {
      "cell_type": "code",
      "execution_count": null,
      "metadata": {
        "id": "xwwf3LHysQ5a",
        "outputId": "79fc85d4-9d9b-4af8-cf11-60f56be27f8f"
      },
      "outputs": [
        {
          "data": {
            "text/plain": [
              "(400000, 100)"
            ]
          },
          "execution_count": 19,
          "metadata": {},
          "output_type": "execute_result"
        }
      ],
      "source": [
        "glove_model = 'glove.6B.100d.txt' # bunu biz uydurmadık, install bu şekilde edebiliyorduk o yüzden böyle yazdık.\n",
        "word2vec = 'glove.6B.100d.glove'  # burasına istediğimizi yazabiliriz. burda Johnson hocamız glove yazmış mesela.\n",
        "glove2word2vec(glove_model, word2vec) # glove modelimiz ve dönüşmesini istediğimiz yeni modeli veriyoruz.\n",
        "# glove'dan word2vec'e dönüştüyüyor burda.\n",
        "# 6B.100d -->  6 milyar tokenle eğitilmiş ve her bir token de 100 boyutlu."
      ]
    },
    {
      "cell_type": "markdown",
      "source": [
        "400000 tane kelimem var."
      ],
      "metadata": {
        "id": "A6r_59PWybks"
      }
    },
    {
      "cell_type": "code",
      "execution_count": null,
      "metadata": {
        "id": "Iglz6pgLsQ5a"
      },
      "outputs": [],
      "source": [
        "model2 = KeyedVectors.load_word2vec_format(word2vec)"
      ]
    },
    {
      "cell_type": "markdown",
      "source": [
        "Glove modelimiz Ing olduğu için Türkçe kelimeler verirsek hata alırız. Şehir isimlerini bilebiliyor fakat \"geldim\", \"gittim\" falan yazarsak ---> ERROR!"
      ],
      "metadata": {
        "id": "4ToY_Wjly2ss"
      }
    },
    {
      "cell_type": "code",
      "execution_count": null,
      "metadata": {
        "id": "ZnWCinKOsQ5b",
        "outputId": "28a85731-9f8b-4abe-b97b-f9311362f79d"
      },
      "outputs": [
        {
          "data": {
            "text/plain": [
              "array([ 0.0021052, -0.1504   ,  0.44277  , -0.77653  ,  0.049685 ,\n",
              "        0.36162  , -0.64556  ,  0.031965 ,  0.32785  ,  1.0492   ,\n",
              "       -0.40957  , -0.43448  ,  0.86788  ,  0.13176  , -0.33421  ,\n",
              "        0.078688 , -0.44023  , -0.78494  , -0.80508  , -0.053829 ,\n",
              "        0.21349  , -0.1304   ,  0.55552  ,  0.80507  , -0.54116  ,\n",
              "        0.14223  , -0.086403 ,  0.049789 ,  0.16237  ,  0.51762  ,\n",
              "       -0.86124  , -0.35288  ,  0.42465  ,  0.29504  , -0.058929 ,\n",
              "       -0.042059 , -0.28304  ,  0.68163  , -0.38128  , -0.92071  ,\n",
              "        0.15022  , -0.48653  , -0.032471 , -1.0217   , -0.2536   ,\n",
              "        0.32984  ,  0.87331  , -0.25659  ,  0.41713  ,  0.70187  ,\n",
              "        0.26844  , -0.073702 ,  0.44943  ,  0.37148  , -1.1613   ,\n",
              "        0.18607  ,  0.22148  , -0.30284  , -0.30314  ,  0.14694  ,\n",
              "       -0.33141  ,  0.65478  , -0.047409 ,  0.73868  , -0.88869  ,\n",
              "       -0.10738  , -1.3663   , -0.40605  , -0.84452  ,  0.079424 ,\n",
              "       -0.57159  , -0.54494  ,  0.88383  ,  0.89814  , -0.65429  ,\n",
              "        0.60613  ,  0.32272  ,  0.14067  , -0.38329  ,  0.14519  ,\n",
              "       -0.16869  , -0.33883  , -0.49892  ,  0.76527  ,  0.65141  ,\n",
              "        0.08416  , -0.41384  ,  0.22261  ,  0.6159   , -0.39172  ,\n",
              "        1.4556   ,  0.31275  , -0.61297  , -0.63733  , -0.05102  ,\n",
              "        0.83986  , -0.33486  ,  0.68343  ,  0.80719  ,  0.17428  ],\n",
              "      dtype=float32)"
            ]
          },
          "execution_count": 21,
          "metadata": {},
          "output_type": "execute_result"
        }
      ],
      "source": [
        "model2['izmir']"
      ]
    },
    {
      "cell_type": "code",
      "execution_count": null,
      "metadata": {
        "id": "MIADKMEysQ5b",
        "outputId": "96eb83ea-9079-4152-ee85-ce13353284f0"
      },
      "outputs": [
        {
          "data": {
            "text/plain": [
              "[('turkey', 0.7512096762657166),\n",
              " ('istanbul', 0.6787630915641785),\n",
              " ('turkish', 0.6690374612808228),\n",
              " ('damascus', 0.6372509002685547),\n",
              " ('tbilisi', 0.6322182416915894),\n",
              " ('erdogan', 0.6258037686347961),\n",
              " ('moscow', 0.6217041015625),\n",
              " ('brussels', 0.6181437969207764),\n",
              " ('skopje', 0.6164302825927734),\n",
              " ('cyprus', 0.606403112411499)]"
            ]
          },
          "execution_count": 22,
          "metadata": {},
          "output_type": "execute_result"
        }
      ],
      "source": [
        "model2.most_similar('ankara')"
      ]
    },
    {
      "cell_type": "code",
      "execution_count": null,
      "metadata": {
        "id": "rwuU_PVXsQ5b",
        "outputId": "0edc6eb7-6089-4644-dff5-d703e42b7aa6"
      },
      "outputs": [
        {
          "data": {
            "text/plain": [
              "[('student', 0.8083398938179016),\n",
              " ('school', 0.75455641746521),\n",
              " ('teaching', 0.7521439790725708),\n",
              " ('taught', 0.7411845922470093),\n",
              " ('teachers', 0.7291542887687683),\n",
              " ('graduate', 0.7134960293769836),\n",
              " ('instructor', 0.7077120542526245),\n",
              " ('students', 0.6828974485397339),\n",
              " ('teaches', 0.6552315950393677),\n",
              " ('education', 0.6528990268707275)]"
            ]
          },
          "execution_count": 23,
          "metadata": {},
          "output_type": "execute_result"
        }
      ],
      "source": [
        "model2.most_similar('teacher')\n",
        "# normalde sözlük bakımından teacher ve instructor daha ilişkili. FAKAT!\n",
        "# modelimizde kaç kez instructor kaç kez student kullanıyor bu da önemli.\n",
        "# Ama \"instructor\" az kullanılmasına rağmen yine de fena değil."
      ]
    },
    {
      "cell_type": "raw",
      "metadata": {
        "id": "5GoVGGDTsQ5c"
      },
      "source": [
        "BERT models\n",
        "\n",
        "teacher    \n",
        "\n",
        "student    0.9222786\n",
        "\n",
        "school     0.9295052\n",
        "\n",
        "teaching   0.9878557\n",
        "\n",
        "taught     0.94827914\n",
        "\n",
        "teachers   0.96148443\n",
        "\n",
        "graduate   0.9457023\n",
        "\n",
        "instructor 0.84273684\n",
        "\n",
        "students   0.98318183\n",
        "\n",
        "teaches    0.9890878\n",
        "\n",
        "education  0.94292575"
      ]
    },
    {
      "cell_type": "markdown",
      "source": [
        "Bunu Johnson hocamız BERT modelde denemiş ve skorlarımızdaki benzerlik daha da artmış çünkü BERT 2018'de çıkan daha yeni bir model.\n",
        "\n",
        "Eğitimi 4 gün süren o data! (2018'de wikipedia'daki datalarla eğitilmiş.)"
      ],
      "metadata": {
        "id": "d4xzwjvpzjcJ"
      }
    },
    {
      "cell_type": "code",
      "execution_count": null,
      "metadata": {
        "id": "7toPsLnmsQ5c",
        "outputId": "576c1b59-a85f-40e7-f361-69f3e4a746b8"
      },
      "outputs": [
        {
          "data": {
            "text/plain": [
              "[('physician', 0.7673239707946777),\n",
              " ('nurse', 0.75215083360672),\n",
              " ('dr.', 0.7175193428993225),\n",
              " ('doctors', 0.7080885171890259),\n",
              " ('patient', 0.7074184417724609),\n",
              " ('medical', 0.6995993256568909),\n",
              " ('surgeon', 0.6905338764190674),\n",
              " ('hospital', 0.690092921257019),\n",
              " ('psychiatrist', 0.658909797668457),\n",
              " ('dentist', 0.6447421312332153)]"
            ]
          },
          "execution_count": 24,
          "metadata": {},
          "output_type": "execute_result"
        }
      ],
      "source": [
        "model2.most_similar('doctor')"
      ]
    },
    {
      "cell_type": "raw",
      "metadata": {
        "id": "x-53MD1esQ5c"
      },
      "source": [
        "BERT models\n",
        "\n",
        "doctor       \n",
        "\n",
        "physician    0.98596996\n",
        "\n",
        "nurse        0.75534743\n",
        "\n",
        "dr.          0.88797665\n",
        "\n",
        "doctors      0.9910818\n",
        "\n",
        "patient      0.98758376\n",
        "\n",
        "medical      0.97713757\n",
        "\n",
        "surgeon      0.95054865\n",
        "\n",
        "hospital     0.82682276\n",
        "\n",
        "psychiatrist 0.91220266"
      ]
    },
    {
      "cell_type": "code",
      "execution_count": null,
      "metadata": {
        "id": "DbxUAWiFsQ5d",
        "outputId": "52bbd1b5-a474-4581-f0b4-1a98532fdb5f"
      },
      "outputs": [
        {
          "data": {
            "text/plain": [
              "[('daughter', 0.8917792439460754)]"
            ]
          },
          "execution_count": 25,
          "metadata": {},
          "output_type": "execute_result"
        }
      ],
      "source": [
        "model2.most_similar(positive=['woman', 'brother'], negative=['man'], topn=1)"
      ]
    },
    {
      "cell_type": "code",
      "execution_count": null,
      "metadata": {
        "id": "PgqlgNamsQ5d",
        "outputId": "c313d18e-0418-4f5d-84cf-26bd5caa8d8a"
      },
      "outputs": [
        {
          "data": {
            "text/plain": [
              "[('mother', 0.9024620056152344)]"
            ]
          },
          "execution_count": 26,
          "metadata": {},
          "output_type": "execute_result"
        }
      ],
      "source": [
        "model2.most_similar(positive=['woman', 'father'], negative=['man'], topn=1)"
      ]
    },
    {
      "cell_type": "code",
      "execution_count": null,
      "metadata": {
        "id": "bpTq-L9QsQ5d",
        "outputId": "c6d79538-f571-4ee6-ad8c-c2b120dc73b3"
      },
      "outputs": [
        {
          "data": {
            "text/plain": [
              "[('aunt', 0.8368030786514282)]"
            ]
          },
          "execution_count": 27,
          "metadata": {},
          "output_type": "execute_result"
        }
      ],
      "source": [
        "model2.most_similar(positive=['woman', 'uncle'], negative=['man'], topn=1)"
      ]
    },
    {
      "cell_type": "code",
      "execution_count": null,
      "metadata": {
        "id": "pe9l6YOVsQ5d",
        "outputId": "09e8ef94-8019-453b-ed62-10a8a90a4e67"
      },
      "outputs": [
        {
          "data": {
            "text/plain": [
              "[('turkey', 0.8147119283676147)]"
            ]
          },
          "execution_count": 28,
          "metadata": {},
          "output_type": "execute_result"
        }
      ],
      "source": [
        "model2.most_similar(positive=['ankara', 'germany'], negative=['berlin'], topn=1)"
      ]
    },
    {
      "cell_type": "code",
      "execution_count": null,
      "metadata": {
        "id": "CmMiMh3dsQ5e",
        "outputId": "4f7e6426-6f36-450a-ba0f-fabd7cb5ea12"
      },
      "outputs": [
        {
          "data": {
            "text/plain": [
              "[('teacher', 0.7610154151916504)]"
            ]
          },
          "execution_count": 29,
          "metadata": {},
          "output_type": "execute_result"
        }
      ],
      "source": [
        "model2.most_similar(positive=['teach', 'doctor'], negative=['treat'], topn=1)"
      ]
    },
    {
      "cell_type": "code",
      "execution_count": null,
      "metadata": {
        "id": "k4pv2NpqsQ5e",
        "outputId": "1a669e8b-87fc-40f2-b646-e2924509c6a8"
      },
      "outputs": [
        {
          "data": {
            "text/plain": [
              "[('queen', 0.7698541283607483)]"
            ]
          },
          "execution_count": 30,
          "metadata": {},
          "output_type": "execute_result"
        }
      ],
      "source": [
        "model2.most_similar(positive=['woman', 'king'], negative=['man'], topn=1)"
      ]
    },
    {
      "cell_type": "code",
      "execution_count": null,
      "metadata": {
        "id": "igr9ry2GsQ5e",
        "outputId": "50de6e6c-e499-4cd0-b909-242bfee790a6"
      },
      "outputs": [
        {
          "data": {
            "text/plain": [
              "[('lover', 0.7032662630081177)]"
            ]
          },
          "execution_count": 31,
          "metadata": {},
          "output_type": "execute_result"
        }
      ],
      "source": [
        "model2.most_similar(positive=['love', 'jealous'], negative=['hate'], topn=1)"
      ]
    },
    {
      "cell_type": "code",
      "execution_count": null,
      "metadata": {
        "id": "OXabpnkwsQ5f"
      },
      "outputs": [],
      "source": [
        ""
      ]
    }
  ],
  "metadata": {
    "kernelspec": {
      "display_name": "Python 3 (ipykernel)",
      "language": "python",
      "name": "python3"
    },
    "language_info": {
      "codemirror_mode": {
        "name": "ipython",
        "version": 3
      },
      "file_extension": ".py",
      "mimetype": "text/x-python",
      "name": "python",
      "nbconvert_exporter": "python",
      "pygments_lexer": "ipython3",
      "version": "3.7.9"
    },
    "colab": {
      "name": "NLP-3 (Word Embedding (word2vec, Glove))(TR)-26 Mar 2022.ipynb",
      "provenance": [],
      "include_colab_link": true
    }
  },
  "nbformat": 4,
  "nbformat_minor": 0
}