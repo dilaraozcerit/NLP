{
  "cells": [
    {
      "cell_type": "markdown",
      "metadata": {
        "id": "view-in-github",
        "colab_type": "text"
      },
      "source": [
        "<a href=\"https://colab.research.google.com/github/dilaraozcerit/NLP/blob/master/NLP_1_(Data_Cleaning_Vectorization)(TR)_24_Mar_2022.ipynb\" target=\"_parent\"><img src=\"https://colab.research.google.com/assets/colab-badge.svg\" alt=\"Open In Colab\"/></a>"
      ]
    },
    {
      "cell_type": "markdown",
      "metadata": {
        "id": "RPc2bKiMU9mu"
      },
      "source": [
        "# Data Cleaning and Vectorization For NLP"
      ]
    },
    {
      "cell_type": "markdown",
      "metadata": {
        "id": "wYooS3l_U9mw"
      },
      "source": [
        "## Install and Import"
      ]
    },
    {
      "cell_type": "code",
      "execution_count": 11,
      "metadata": {
        "id": "uaxB4CqgU9mx"
      },
      "outputs": [],
      "source": [
        "import pandas as pd\n",
        "import numpy as np\n",
        "import warnings\n",
        "warnings.filterwarnings(\"ignore\")\n",
        "pd.set_option('display.max_columns', 50)"
      ]
    },
    {
      "cell_type": "code",
      "execution_count": 12,
      "metadata": {
        "colab": {
          "base_uri": "https://localhost:8080/"
        },
        "id": "lBH1r4lUU9mz",
        "outputId": "6a0c8cfd-5943-48f9-9c55-9344b5eb7d84"
      },
      "outputs": [
        {
          "output_type": "stream",
          "name": "stdout",
          "text": [
            "Requirement already satisfied: nltk in /usr/local/lib/python3.7/dist-packages (3.2.5)\n",
            "Requirement already satisfied: six in /usr/local/lib/python3.7/dist-packages (from nltk) (1.15.0)\n"
          ]
        }
      ],
      "source": [
        "!pip install nltk"
      ]
    },
    {
      "cell_type": "code",
      "source": [
        "nltk.download('punkt')"
      ],
      "metadata": {
        "colab": {
          "base_uri": "https://localhost:8080/"
        },
        "id": "9QVU3xcGWWEI",
        "outputId": "b0688e2d-b4b7-455d-a56a-9d632fdc79c1"
      },
      "execution_count": 13,
      "outputs": [
        {
          "output_type": "stream",
          "name": "stdout",
          "text": [
            "[nltk_data] Downloading package punkt to /root/nltk_data...\n",
            "[nltk_data]   Unzipping tokenizers/punkt.zip.\n"
          ]
        },
        {
          "output_type": "execute_result",
          "data": {
            "text/plain": [
              "True"
            ]
          },
          "metadata": {},
          "execution_count": 13
        }
      ]
    },
    {
      "cell_type": "markdown",
      "metadata": {
        "id": "7VI6QnVHU9m0"
      },
      "source": [
        "## Tokenization"
      ]
    },
    {
      "cell_type": "code",
      "execution_count": 14,
      "metadata": {
        "id": "mcxmdmm_U9m0"
      },
      "outputs": [],
      "source": [
        "import nltk"
      ]
    },
    {
      "cell_type": "code",
      "execution_count": 15,
      "metadata": {
        "id": "5baqymhtU9m1"
      },
      "outputs": [],
      "source": [
        "sample_text= \"Oh man, this is pretty cool. We will do more such things. @mynet\""
      ]
    },
    {
      "cell_type": "code",
      "execution_count": 16,
      "metadata": {
        "id": "vOM2NOu-U9m3"
      },
      "outputs": [],
      "source": [
        "from nltk.tokenize import sent_tokenize, word_tokenize"
      ]
    },
    {
      "cell_type": "code",
      "execution_count": 17,
      "metadata": {
        "colab": {
          "base_uri": "https://localhost:8080/"
        },
        "id": "zltmEOy_U9m3",
        "outputId": "aeb8b909-3685-419e-c42b-18b60b306c8c"
      },
      "outputs": [
        {
          "output_type": "execute_result",
          "data": {
            "text/plain": [
              "['oh man, this is pretty cool.', 'we will do more such things.', '@mynet']"
            ]
          },
          "metadata": {},
          "execution_count": 17
        }
      ],
      "source": [
        "sentence_token = sent_tokenize(sample_text.lower())\n",
        "sentence_token"
      ]
    },
    {
      "cell_type": "code",
      "execution_count": 18,
      "metadata": {
        "colab": {
          "base_uri": "https://localhost:8080/"
        },
        "id": "fcnSaVgEU9m5",
        "outputId": "ad935c7d-c22c-4098-fb37-11b11b340678"
      },
      "outputs": [
        {
          "output_type": "execute_result",
          "data": {
            "text/plain": [
              "['oh',\n",
              " 'man',\n",
              " ',',\n",
              " 'this',\n",
              " 'is',\n",
              " 'pretty',\n",
              " 'cool',\n",
              " '.',\n",
              " 'we',\n",
              " 'will',\n",
              " 'do',\n",
              " 'more',\n",
              " 'such',\n",
              " 'things',\n",
              " '.',\n",
              " '@',\n",
              " 'mynet']"
            ]
          },
          "metadata": {},
          "execution_count": 18
        }
      ],
      "source": [
        "word_token = word_tokenize(sample_text.lower())\n",
        "word_token"
      ]
    },
    {
      "cell_type": "markdown",
      "metadata": {
        "id": "14tIbokoU9m6"
      },
      "source": [
        "## Removing Punctuation and Numbers"
      ]
    },
    {
      "cell_type": "code",
      "execution_count": 19,
      "metadata": {
        "colab": {
          "base_uri": "https://localhost:8080/"
        },
        "id": "OirCS_LNU9m6",
        "outputId": "59280359-2755-4ed5-f973-26524dd88643"
      },
      "outputs": [
        {
          "output_type": "execute_result",
          "data": {
            "text/plain": [
              "['oh',\n",
              " 'man',\n",
              " 'this',\n",
              " 'is',\n",
              " 'pretty',\n",
              " 'cool',\n",
              " 'we',\n",
              " 'will',\n",
              " 'do',\n",
              " 'more',\n",
              " 'such',\n",
              " 'things',\n",
              " 'mynet']"
            ]
          },
          "metadata": {},
          "execution_count": 19
        }
      ],
      "source": [
        "tokens_without_punc = [w for w in word_token if w.isalpha()] # .isalnum() for number and object\n",
        "tokens_without_punc\n",
        "# list comprehension"
      ]
    },
    {
      "cell_type": "markdown",
      "metadata": {
        "id": "COU0a6LCU9m7"
      },
      "source": [
        "## Removing Stopwords"
      ]
    },
    {
      "cell_type": "code",
      "execution_count": 20,
      "metadata": {
        "colab": {
          "base_uri": "https://localhost:8080/"
        },
        "id": "srUgRpEdU9m7",
        "outputId": "8d6b27be-f404-4ce1-808d-333093d9f4e0"
      },
      "outputs": [
        {
          "output_type": "stream",
          "name": "stdout",
          "text": [
            "[nltk_data] Downloading package stopwords to /root/nltk_data...\n",
            "[nltk_data]   Package stopwords is already up-to-date!\n"
          ]
        },
        {
          "output_type": "execute_result",
          "data": {
            "text/plain": [
              "True"
            ]
          },
          "metadata": {},
          "execution_count": 20
        }
      ],
      "source": [
        "nltk.download('stopwords')"
      ]
    },
    {
      "cell_type": "code",
      "execution_count": 21,
      "metadata": {
        "id": "5alDyQn8U9m7"
      },
      "outputs": [],
      "source": [
        "from nltk.corpus import stopwords"
      ]
    },
    {
      "cell_type": "code",
      "execution_count": 22,
      "metadata": {
        "colab": {
          "base_uri": "https://localhost:8080/"
        },
        "id": "ECWnSGr-U9m8",
        "outputId": "269f7dac-cc7f-45d4-dd9e-1e6c25e73461"
      },
      "outputs": [
        {
          "output_type": "execute_result",
          "data": {
            "text/plain": [
              "['acaba',\n",
              " 'ama',\n",
              " 'aslında',\n",
              " 'az',\n",
              " 'bazı',\n",
              " 'belki',\n",
              " 'biri',\n",
              " 'birkaç',\n",
              " 'birşey',\n",
              " 'biz',\n",
              " 'bu',\n",
              " 'çok',\n",
              " 'çünkü',\n",
              " 'da',\n",
              " 'daha',\n",
              " 'de',\n",
              " 'defa',\n",
              " 'diye',\n",
              " 'eğer',\n",
              " 'en',\n",
              " 'gibi',\n",
              " 'hem',\n",
              " 'hep',\n",
              " 'hepsi',\n",
              " 'her',\n",
              " 'hiç',\n",
              " 'için',\n",
              " 'ile',\n",
              " 'ise',\n",
              " 'kez',\n",
              " 'ki',\n",
              " 'kim',\n",
              " 'mı',\n",
              " 'mu',\n",
              " 'mü',\n",
              " 'nasıl',\n",
              " 'ne',\n",
              " 'neden',\n",
              " 'nerde',\n",
              " 'nerede',\n",
              " 'nereye',\n",
              " 'niçin',\n",
              " 'niye',\n",
              " 'o',\n",
              " 'sanki',\n",
              " 'şey',\n",
              " 'siz',\n",
              " 'şu',\n",
              " 'tüm',\n",
              " 've',\n",
              " 'veya',\n",
              " 'ya',\n",
              " 'yani']"
            ]
          },
          "metadata": {},
          "execution_count": 22
        }
      ],
      "source": [
        "stop_words = stopwords.words(\"turkish\")\n",
        "stop_words"
      ]
    },
    {
      "cell_type": "code",
      "source": [
        "stop_words = stopwords.words(\"english\")\n",
        "stop_words"
      ],
      "metadata": {
        "colab": {
          "base_uri": "https://localhost:8080/"
        },
        "id": "CtWIF8Yc6N8y",
        "outputId": "f5f87b3d-cb16-45df-ea8a-dbfff50cbabd"
      },
      "execution_count": 23,
      "outputs": [
        {
          "output_type": "execute_result",
          "data": {
            "text/plain": [
              "['i',\n",
              " 'me',\n",
              " 'my',\n",
              " 'myself',\n",
              " 'we',\n",
              " 'our',\n",
              " 'ours',\n",
              " 'ourselves',\n",
              " 'you',\n",
              " \"you're\",\n",
              " \"you've\",\n",
              " \"you'll\",\n",
              " \"you'd\",\n",
              " 'your',\n",
              " 'yours',\n",
              " 'yourself',\n",
              " 'yourselves',\n",
              " 'he',\n",
              " 'him',\n",
              " 'his',\n",
              " 'himself',\n",
              " 'she',\n",
              " \"she's\",\n",
              " 'her',\n",
              " 'hers',\n",
              " 'herself',\n",
              " 'it',\n",
              " \"it's\",\n",
              " 'its',\n",
              " 'itself',\n",
              " 'they',\n",
              " 'them',\n",
              " 'their',\n",
              " 'theirs',\n",
              " 'themselves',\n",
              " 'what',\n",
              " 'which',\n",
              " 'who',\n",
              " 'whom',\n",
              " 'this',\n",
              " 'that',\n",
              " \"that'll\",\n",
              " 'these',\n",
              " 'those',\n",
              " 'am',\n",
              " 'is',\n",
              " 'are',\n",
              " 'was',\n",
              " 'were',\n",
              " 'be',\n",
              " 'been',\n",
              " 'being',\n",
              " 'have',\n",
              " 'has',\n",
              " 'had',\n",
              " 'having',\n",
              " 'do',\n",
              " 'does',\n",
              " 'did',\n",
              " 'doing',\n",
              " 'a',\n",
              " 'an',\n",
              " 'the',\n",
              " 'and',\n",
              " 'but',\n",
              " 'if',\n",
              " 'or',\n",
              " 'because',\n",
              " 'as',\n",
              " 'until',\n",
              " 'while',\n",
              " 'of',\n",
              " 'at',\n",
              " 'by',\n",
              " 'for',\n",
              " 'with',\n",
              " 'about',\n",
              " 'against',\n",
              " 'between',\n",
              " 'into',\n",
              " 'through',\n",
              " 'during',\n",
              " 'before',\n",
              " 'after',\n",
              " 'above',\n",
              " 'below',\n",
              " 'to',\n",
              " 'from',\n",
              " 'up',\n",
              " 'down',\n",
              " 'in',\n",
              " 'out',\n",
              " 'on',\n",
              " 'off',\n",
              " 'over',\n",
              " 'under',\n",
              " 'again',\n",
              " 'further',\n",
              " 'then',\n",
              " 'once',\n",
              " 'here',\n",
              " 'there',\n",
              " 'when',\n",
              " 'where',\n",
              " 'why',\n",
              " 'how',\n",
              " 'all',\n",
              " 'any',\n",
              " 'both',\n",
              " 'each',\n",
              " 'few',\n",
              " 'more',\n",
              " 'most',\n",
              " 'other',\n",
              " 'some',\n",
              " 'such',\n",
              " 'no',\n",
              " 'nor',\n",
              " 'not',\n",
              " 'only',\n",
              " 'own',\n",
              " 'same',\n",
              " 'so',\n",
              " 'than',\n",
              " 'too',\n",
              " 'very',\n",
              " 's',\n",
              " 't',\n",
              " 'can',\n",
              " 'will',\n",
              " 'just',\n",
              " 'don',\n",
              " \"don't\",\n",
              " 'should',\n",
              " \"should've\",\n",
              " 'now',\n",
              " 'd',\n",
              " 'll',\n",
              " 'm',\n",
              " 'o',\n",
              " 're',\n",
              " 've',\n",
              " 'y',\n",
              " 'ain',\n",
              " 'aren',\n",
              " \"aren't\",\n",
              " 'couldn',\n",
              " \"couldn't\",\n",
              " 'didn',\n",
              " \"didn't\",\n",
              " 'doesn',\n",
              " \"doesn't\",\n",
              " 'hadn',\n",
              " \"hadn't\",\n",
              " 'hasn',\n",
              " \"hasn't\",\n",
              " 'haven',\n",
              " \"haven't\",\n",
              " 'isn',\n",
              " \"isn't\",\n",
              " 'ma',\n",
              " 'mightn',\n",
              " \"mightn't\",\n",
              " 'mustn',\n",
              " \"mustn't\",\n",
              " 'needn',\n",
              " \"needn't\",\n",
              " 'shan',\n",
              " \"shan't\",\n",
              " 'shouldn',\n",
              " \"shouldn't\",\n",
              " 'wasn',\n",
              " \"wasn't\",\n",
              " 'weren',\n",
              " \"weren't\",\n",
              " 'won',\n",
              " \"won't\",\n",
              " 'wouldn',\n",
              " \"wouldn't\"]"
            ]
          },
          "metadata": {},
          "execution_count": 23
        }
      ]
    },
    {
      "cell_type": "code",
      "execution_count": 24,
      "metadata": {
        "colab": {
          "base_uri": "https://localhost:8080/"
        },
        "id": "rBNfFrLLU9m8",
        "outputId": "ae396f50-22e5-4093-cfc6-34af30c9af04"
      },
      "outputs": [
        {
          "output_type": "execute_result",
          "data": {
            "text/plain": [
              "['oh',\n",
              " 'man',\n",
              " 'this',\n",
              " 'is',\n",
              " 'pretty',\n",
              " 'cool',\n",
              " 'we',\n",
              " 'will',\n",
              " 'do',\n",
              " 'more',\n",
              " 'such',\n",
              " 'things',\n",
              " 'mynet']"
            ]
          },
          "metadata": {},
          "execution_count": 24
        }
      ],
      "source": [
        "tokens_without_punc"
      ]
    },
    {
      "cell_type": "code",
      "execution_count": 25,
      "metadata": {
        "colab": {
          "base_uri": "https://localhost:8080/"
        },
        "id": "pCytkghQU9m9",
        "outputId": "4cd575ef-1c5f-4035-914c-1ded3ade9326"
      },
      "outputs": [
        {
          "output_type": "execute_result",
          "data": {
            "text/plain": [
              "['oh', 'man', 'pretty', 'cool', 'things', 'mynet']"
            ]
          },
          "metadata": {},
          "execution_count": 25
        }
      ],
      "source": [
        "token_without_sw = [t for t in tokens_without_punc if t not in stop_words] # if you make a sentiment analysis , you can remove \n",
        "                                                                           # negative auxiliary verb\n",
        "token_without_sw\n",
        "\n",
        "# stop wordlerden temizliyoruz."
      ]
    },
    {
      "cell_type": "markdown",
      "metadata": {
        "id": "oU3PsM7cU9m9"
      },
      "source": [
        "## Data Normalization-Lemmatization"
      ]
    },
    {
      "cell_type": "code",
      "execution_count": 26,
      "metadata": {
        "id": "4KeNXeemU9m-"
      },
      "outputs": [],
      "source": [
        "from nltk.stem import WordNetLemmatizer"
      ]
    },
    {
      "cell_type": "code",
      "execution_count": 27,
      "metadata": {
        "colab": {
          "base_uri": "https://localhost:8080/"
        },
        "id": "eOLY8kLUU9m-",
        "outputId": "89acd07e-8af8-48a9-9342-1fa7cc56f3e2"
      },
      "outputs": [
        {
          "output_type": "stream",
          "name": "stdout",
          "text": [
            "[nltk_data] Downloading package wordnet to /root/nltk_data...\n",
            "[nltk_data]   Unzipping corpora/wordnet.zip.\n"
          ]
        },
        {
          "output_type": "execute_result",
          "data": {
            "text/plain": [
              "True"
            ]
          },
          "metadata": {},
          "execution_count": 27
        }
      ],
      "source": [
        "nltk.download('wordnet')"
      ]
    },
    {
      "cell_type": "code",
      "execution_count": 28,
      "metadata": {
        "colab": {
          "base_uri": "https://localhost:8080/",
          "height": 35
        },
        "id": "dRHgEJM-U9m-",
        "outputId": "a712effc-61c3-419a-8bd2-5bf6778746e6"
      },
      "outputs": [
        {
          "output_type": "execute_result",
          "data": {
            "text/plain": [
              "'child'"
            ],
            "application/vnd.google.colaboratory.intrinsic+json": {
              "type": "string"
            }
          },
          "metadata": {},
          "execution_count": 28
        }
      ],
      "source": [
        "WordNetLemmatizer().lemmatize(\"children\")\n",
        "# sözlükte bir anlamı olduğunu biliyor. Bunun yapım eki olmadığını biliyor"
      ]
    },
    {
      "cell_type": "code",
      "source": [
        "WordNetLemmatizer().lemmatize(\"drove\")\n",
        "# drove normalde drive'ın 2. hali ama sürü anlamına da denk geldiği için böylece tuttu mesela."
      ],
      "metadata": {
        "colab": {
          "base_uri": "https://localhost:8080/",
          "height": 35
        },
        "id": "jSFYsqtlYlvW",
        "outputId": "1d5d07ad-ac18-4ee5-e69a-76aa8a3df3e6"
      },
      "execution_count": 29,
      "outputs": [
        {
          "output_type": "execute_result",
          "data": {
            "text/plain": [
              "'drove'"
            ],
            "application/vnd.google.colaboratory.intrinsic+json": {
              "type": "string"
            }
          },
          "metadata": {},
          "execution_count": 29
        }
      ]
    },
    {
      "cell_type": "code",
      "source": [
        "WordNetLemmatizer().lemmatize(\"drove\", pos=\"v\") # pos=\"v\" dersek bunun verb olduğunu anlıyor ama..."
      ],
      "metadata": {
        "colab": {
          "base_uri": "https://localhost:8080/",
          "height": 35
        },
        "id": "z-cc0Ue2Yt9L",
        "outputId": "f4a3534b-3f07-4363-f424-b3778140c925"
      },
      "execution_count": 30,
      "outputs": [
        {
          "output_type": "execute_result",
          "data": {
            "text/plain": [
              "'drive'"
            ],
            "application/vnd.google.colaboratory.intrinsic+json": {
              "type": "string"
            }
          },
          "metadata": {},
          "execution_count": 30
        }
      ]
    },
    {
      "cell_type": "code",
      "source": [
        "WordNetLemmatizer().lemmatize(\"flowers\")"
      ],
      "metadata": {
        "colab": {
          "base_uri": "https://localhost:8080/",
          "height": 35
        },
        "id": "5AT8z9bcY6WB",
        "outputId": "d6288f2e-1293-464a-d873-db0fd34ce4d7"
      },
      "execution_count": 31,
      "outputs": [
        {
          "output_type": "execute_result",
          "data": {
            "text/plain": [
              "'flower'"
            ],
            "application/vnd.google.colaboratory.intrinsic+json": {
              "type": "string"
            }
          },
          "metadata": {},
          "execution_count": 31
        }
      ]
    },
    {
      "cell_type": "code",
      "execution_count": 32,
      "metadata": {
        "id": "bMOURhN3U9m_"
      },
      "outputs": [],
      "source": [
        "lem = [WordNetLemmatizer().lemmatize(t) for t in token_without_sw]\n",
        "# "
      ]
    },
    {
      "cell_type": "code",
      "execution_count": 33,
      "metadata": {
        "id": "2h0XgHhgU9m_",
        "outputId": "29c28df2-ed18-48f9-971b-faed1d908102",
        "colab": {
          "base_uri": "https://localhost:8080/"
        }
      },
      "outputs": [
        {
          "output_type": "execute_result",
          "data": {
            "text/plain": [
              "['oh', 'man', 'pretty', 'cool', 'thing', 'mynet']"
            ]
          },
          "metadata": {},
          "execution_count": 33
        }
      ],
      "source": [
        "lem"
      ]
    },
    {
      "cell_type": "markdown",
      "metadata": {
        "id": "eQdeLDOXU9m_"
      },
      "source": [
        "## Data Normalization-Stemming"
      ]
    },
    {
      "cell_type": "code",
      "execution_count": 34,
      "metadata": {
        "id": "fJEN9HZrU9nA"
      },
      "outputs": [],
      "source": [
        "from nltk.stem import PorterStemmer"
      ]
    },
    {
      "cell_type": "code",
      "execution_count": 35,
      "metadata": {
        "id": "ISSLbokqU9nA",
        "outputId": "98512a21-0b38-430b-9765-da97bc77b6f4",
        "colab": {
          "base_uri": "https://localhost:8080/",
          "height": 35
        }
      },
      "outputs": [
        {
          "output_type": "execute_result",
          "data": {
            "text/plain": [
              "'drive'"
            ],
            "application/vnd.google.colaboratory.intrinsic+json": {
              "type": "string"
            }
          },
          "metadata": {},
          "execution_count": 35
        }
      ],
      "source": [
        "PorterStemmer().stem(\"driving\")"
      ]
    },
    {
      "cell_type": "code",
      "execution_count": 36,
      "metadata": {
        "id": "sksigBCOU9nA"
      },
      "outputs": [],
      "source": [
        "stem = [PorterStemmer().stem(t) for t in token_without_sw]"
      ]
    },
    {
      "cell_type": "code",
      "execution_count": 37,
      "metadata": {
        "id": "6jPUuqsNU9nA",
        "outputId": "9d0a1987-bc5d-45e4-baee-170692f59f0a",
        "colab": {
          "base_uri": "https://localhost:8080/"
        }
      },
      "outputs": [
        {
          "output_type": "execute_result",
          "data": {
            "text/plain": [
              "['oh', 'man', 'pretti', 'cool', 'thing', 'mynet']"
            ]
          },
          "metadata": {},
          "execution_count": 37
        }
      ],
      "source": [
        "stem"
      ]
    },
    {
      "cell_type": "markdown",
      "metadata": {
        "id": "O8AAeR4lU9nB"
      },
      "source": [
        "## Joining"
      ]
    },
    {
      "cell_type": "code",
      "execution_count": 38,
      "metadata": {
        "id": "ci2gEWUKU9nB",
        "outputId": "cd3519a7-5de1-4c53-f9d7-d47d53f77e95",
        "colab": {
          "base_uri": "https://localhost:8080/",
          "height": 35
        }
      },
      "outputs": [
        {
          "output_type": "execute_result",
          "data": {
            "text/plain": [
              "'oh man pretty cool thing mynet'"
            ],
            "application/vnd.google.colaboratory.intrinsic+json": {
              "type": "string"
            }
          },
          "metadata": {},
          "execution_count": 38
        }
      ],
      "source": [
        "\" \".join(lem)\n",
        "# en son da bunları böyle birleştiriyoruz."
      ]
    },
    {
      "cell_type": "markdown",
      "metadata": {
        "id": "QhhdzCweU9nB"
      },
      "source": [
        "## Cleaning Function - for classification (NOT for sentiment analysis)"
      ]
    },
    {
      "cell_type": "code",
      "execution_count": 39,
      "metadata": {
        "id": "0PAEwddlU9nB"
      },
      "outputs": [],
      "source": [
        "def cleaning(data):\n",
        "    \n",
        "    #1. Tokenize\n",
        "    text_tokens = word_tokenize(data.lower()) \n",
        "    \n",
        "    #2. Remove Puncs\n",
        "    tokens_without_punc = [w for w in text_tokens if w.isalpha()]\n",
        "    \n",
        "    #3. Removing Stopwords\n",
        "    tokens_without_sw = [t for t in tokens_without_punc if t not in stop_words]\n",
        "    \n",
        "    #4. lemma\n",
        "    text_cleaned = [WordNetLemmatizer().lemmatize(t) for t in tokens_without_sw]\n",
        "    \n",
        "    #joining\n",
        "    return \" \".join(text_cleaned)\n",
        "\n",
        "# ama Johnson hocamızın bu koduyla tek tek uğraşmaya gerek yok. Direkt bu kodla temizlik yapabiliyoruz."
      ]
    },
    {
      "cell_type": "code",
      "execution_count": 40,
      "metadata": {
        "id": "JdeEduHdU9nC",
        "outputId": "f7639fed-914e-4cd2-d038-fecd2e603683",
        "colab": {
          "base_uri": "https://localhost:8080/"
        }
      },
      "outputs": [
        {
          "output_type": "execute_result",
          "data": {
            "text/plain": [
              "0    oh man pretty cool thing mynet\n",
              "dtype: object"
            ]
          },
          "metadata": {},
          "execution_count": 40
        }
      ],
      "source": [
        "pd.Series(sample_text).apply(cleaning)"
      ]
    },
    {
      "cell_type": "code",
      "source": [
        ""
      ],
      "metadata": {
        "id": "Icb_mu0GDaRB"
      },
      "execution_count": null,
      "outputs": []
    },
    {
      "cell_type": "markdown",
      "metadata": {
        "id": "97iuvq-sU9nC"
      },
      "source": [
        "## Cleaning Function - for sentiment analysis"
      ]
    },
    {
      "cell_type": "code",
      "execution_count": 41,
      "metadata": {
        "id": "BRZc5xT-U9nC"
      },
      "outputs": [],
      "source": [
        "sample_text= \"Oh man, this is pretty cool. We will do more such things. don't aren't are not. no problem\""
      ]
    },
    {
      "cell_type": "code",
      "execution_count": 42,
      "metadata": {
        "id": "_oog1cjVU9nC",
        "outputId": "31697cfc-ee78-4185-9fc0-035e2ec8e983",
        "colab": {
          "base_uri": "https://localhost:8080/"
        }
      },
      "outputs": [
        {
          "output_type": "execute_result",
          "data": {
            "text/plain": [
              "['Oh',\n",
              " 'man',\n",
              " ',',\n",
              " 'this',\n",
              " 'is',\n",
              " 'pretty',\n",
              " 'cool',\n",
              " '.',\n",
              " 'We',\n",
              " 'will',\n",
              " 'do',\n",
              " 'more',\n",
              " 'such',\n",
              " 'things',\n",
              " '.',\n",
              " 'dont',\n",
              " 'arent',\n",
              " 'are',\n",
              " 'not',\n",
              " '.',\n",
              " 'no',\n",
              " 'problem']"
            ]
          },
          "metadata": {},
          "execution_count": 42
        }
      ],
      "source": [
        "s = sample_text.replace(\"'\",'')  # burası boşluk değil.\n",
        "word = word_tokenize(s)\n",
        "word "
      ]
    },
    {
      "cell_type": "code",
      "execution_count": 43,
      "metadata": {
        "id": "Y7cOSkW7U9nD"
      },
      "outputs": [],
      "source": [
        "#4. Removing Stopwords\n",
        "for i in [\"not\", \"no\"]:\n",
        "        stop_words.remove(i)  #not ve no kelimelerini s.wordsten çıkarıp silinmelerini engelliyorum\n",
        "\n",
        "def cleaning_fsa(data):\n",
        "    \n",
        "    \n",
        "    #1. removing upper brackets to keep negative auxiliary verbs in text\n",
        "    text = data.replace(\"'\",'')\n",
        "         \n",
        "    #2. Tokenize\n",
        "    text_tokens = word_tokenize(text.lower()) \n",
        "    \n",
        "    #3. Remove numbers\n",
        "    tokens_without_punc = [w for w in text_tokens if w.isalpha()]\n",
        "    \n",
        "   \n",
        "        \n",
        "    tokens_without_sw = [t for t in tokens_without_punc if t not in stop_words]\n",
        "    \n",
        "    #5. lemma\n",
        "    text_cleaned = [WordNetLemmatizer().lemmatize(t) for t in tokens_without_sw]\n",
        "    \n",
        "    #joining\n",
        "    return \" \".join(text_cleaned)\n"
      ]
    },
    {
      "cell_type": "code",
      "execution_count": 44,
      "metadata": {
        "id": "i6RyHJOZU9nD",
        "outputId": "5fcc5678-0240-45d1-e820-5f31e1f351d7",
        "colab": {
          "base_uri": "https://localhost:8080/"
        }
      },
      "outputs": [
        {
          "output_type": "execute_result",
          "data": {
            "text/plain": [
              "['i',\n",
              " 'me',\n",
              " 'my',\n",
              " 'myself',\n",
              " 'we',\n",
              " 'our',\n",
              " 'ours',\n",
              " 'ourselves',\n",
              " 'you',\n",
              " \"you're\",\n",
              " \"you've\",\n",
              " \"you'll\",\n",
              " \"you'd\",\n",
              " 'your',\n",
              " 'yours',\n",
              " 'yourself',\n",
              " 'yourselves',\n",
              " 'he',\n",
              " 'him',\n",
              " 'his',\n",
              " 'himself',\n",
              " 'she',\n",
              " \"she's\",\n",
              " 'her',\n",
              " 'hers',\n",
              " 'herself',\n",
              " 'it',\n",
              " \"it's\",\n",
              " 'its',\n",
              " 'itself',\n",
              " 'they',\n",
              " 'them',\n",
              " 'their',\n",
              " 'theirs',\n",
              " 'themselves',\n",
              " 'what',\n",
              " 'which',\n",
              " 'who',\n",
              " 'whom',\n",
              " 'this',\n",
              " 'that',\n",
              " \"that'll\",\n",
              " 'these',\n",
              " 'those',\n",
              " 'am',\n",
              " 'is',\n",
              " 'are',\n",
              " 'was',\n",
              " 'were',\n",
              " 'be',\n",
              " 'been',\n",
              " 'being',\n",
              " 'have',\n",
              " 'has',\n",
              " 'had',\n",
              " 'having',\n",
              " 'do',\n",
              " 'does',\n",
              " 'did',\n",
              " 'doing',\n",
              " 'a',\n",
              " 'an',\n",
              " 'the',\n",
              " 'and',\n",
              " 'but',\n",
              " 'if',\n",
              " 'or',\n",
              " 'because',\n",
              " 'as',\n",
              " 'until',\n",
              " 'while',\n",
              " 'of',\n",
              " 'at',\n",
              " 'by',\n",
              " 'for',\n",
              " 'with',\n",
              " 'about',\n",
              " 'against',\n",
              " 'between',\n",
              " 'into',\n",
              " 'through',\n",
              " 'during',\n",
              " 'before',\n",
              " 'after',\n",
              " 'above',\n",
              " 'below',\n",
              " 'to',\n",
              " 'from',\n",
              " 'up',\n",
              " 'down',\n",
              " 'in',\n",
              " 'out',\n",
              " 'on',\n",
              " 'off',\n",
              " 'over',\n",
              " 'under',\n",
              " 'again',\n",
              " 'further',\n",
              " 'then',\n",
              " 'once',\n",
              " 'here',\n",
              " 'there',\n",
              " 'when',\n",
              " 'where',\n",
              " 'why',\n",
              " 'how',\n",
              " 'all',\n",
              " 'any',\n",
              " 'both',\n",
              " 'each',\n",
              " 'few',\n",
              " 'more',\n",
              " 'most',\n",
              " 'other',\n",
              " 'some',\n",
              " 'such',\n",
              " 'nor',\n",
              " 'only',\n",
              " 'own',\n",
              " 'same',\n",
              " 'so',\n",
              " 'than',\n",
              " 'too',\n",
              " 'very',\n",
              " 's',\n",
              " 't',\n",
              " 'can',\n",
              " 'will',\n",
              " 'just',\n",
              " 'don',\n",
              " \"don't\",\n",
              " 'should',\n",
              " \"should've\",\n",
              " 'now',\n",
              " 'd',\n",
              " 'll',\n",
              " 'm',\n",
              " 'o',\n",
              " 're',\n",
              " 've',\n",
              " 'y',\n",
              " 'ain',\n",
              " 'aren',\n",
              " \"aren't\",\n",
              " 'couldn',\n",
              " \"couldn't\",\n",
              " 'didn',\n",
              " \"didn't\",\n",
              " 'doesn',\n",
              " \"doesn't\",\n",
              " 'hadn',\n",
              " \"hadn't\",\n",
              " 'hasn',\n",
              " \"hasn't\",\n",
              " 'haven',\n",
              " \"haven't\",\n",
              " 'isn',\n",
              " \"isn't\",\n",
              " 'ma',\n",
              " 'mightn',\n",
              " \"mightn't\",\n",
              " 'mustn',\n",
              " \"mustn't\",\n",
              " 'needn',\n",
              " \"needn't\",\n",
              " 'shan',\n",
              " \"shan't\",\n",
              " 'shouldn',\n",
              " \"shouldn't\",\n",
              " 'wasn',\n",
              " \"wasn't\",\n",
              " 'weren',\n",
              " \"weren't\",\n",
              " 'won',\n",
              " \"won't\",\n",
              " 'wouldn',\n",
              " \"wouldn't\"]"
            ]
          },
          "metadata": {},
          "execution_count": 44
        }
      ],
      "source": [
        "stop_words"
      ]
    },
    {
      "cell_type": "code",
      "execution_count": 45,
      "metadata": {
        "id": "VtgdVwGgU9nD",
        "outputId": "6f67c4f7-76b1-4e01-92ae-caa69f4cb8c7",
        "colab": {
          "base_uri": "https://localhost:8080/"
        }
      },
      "outputs": [
        {
          "output_type": "execute_result",
          "data": {
            "text/plain": [
              "0    oh man pretty cool thing dont arent not no pro...\n",
              "dtype: object"
            ]
          },
          "metadata": {},
          "execution_count": 45
        }
      ],
      "source": [
        "pd.Series(sample_text).apply(cleaning_fsa)\n",
        "\n",
        "# seri haline getirmeden apply uygulayamıyorum.?"
      ]
    },
    {
      "cell_type": "markdown",
      "metadata": {
        "id": "N7BT7yAuU9nE"
      },
      "source": [
        "## CountVectorization and TF-IDF Vectorization"
      ]
    },
    {
      "cell_type": "code",
      "execution_count": null,
      "metadata": {
        "id": "SN46wLc5U9nE"
      },
      "outputs": [],
      "source": [
        "df = pd.read_csv(\"airline_tweets.csv\")"
      ]
    },
    {
      "cell_type": "code",
      "execution_count": null,
      "metadata": {
        "colab": {
          "base_uri": "https://localhost:8080/",
          "height": 496
        },
        "id": "3_QnBgVmU9nE",
        "outputId": "1fa05a11-d693-4636-ccc1-016d7aa24f8f"
      },
      "outputs": [
        {
          "output_type": "execute_result",
          "data": {
            "text/plain": [
              "             tweet_id airline_sentiment  airline_sentiment_confidence  \\\n",
              "0  570306133677760513           neutral                        1.0000   \n",
              "1  570301130888122368          positive                        0.3486   \n",
              "2  570301083672813571           neutral                        0.6837   \n",
              "3  570301031407624196          negative                        1.0000   \n",
              "4  570300817074462722          negative                        1.0000   \n",
              "\n",
              "  negativereason  negativereason_confidence         airline  \\\n",
              "0            NaN                        NaN  Virgin America   \n",
              "1            NaN                     0.0000  Virgin America   \n",
              "2            NaN                        NaN  Virgin America   \n",
              "3     Bad Flight                     0.7033  Virgin America   \n",
              "4     Can't Tell                     1.0000  Virgin America   \n",
              "\n",
              "  airline_sentiment_gold        name negativereason_gold  retweet_count  \\\n",
              "0                    NaN     cairdin                 NaN              0   \n",
              "1                    NaN    jnardino                 NaN              0   \n",
              "2                    NaN  yvonnalynn                 NaN              0   \n",
              "3                    NaN    jnardino                 NaN              0   \n",
              "4                    NaN    jnardino                 NaN              0   \n",
              "\n",
              "                                                text tweet_coord  \\\n",
              "0                @VirginAmerica What @dhepburn said.         NaN   \n",
              "1  @VirginAmerica plus you've added commercials t...         NaN   \n",
              "2  @VirginAmerica I didn't today... Must mean I n...         NaN   \n",
              "3  @VirginAmerica it's really aggressive to blast...         NaN   \n",
              "4  @VirginAmerica and it's a really big bad thing...         NaN   \n",
              "\n",
              "               tweet_created tweet_location               user_timezone  \n",
              "0  2015-02-24 11:35:52 -0800            NaN  Eastern Time (US & Canada)  \n",
              "1  2015-02-24 11:15:59 -0800            NaN  Pacific Time (US & Canada)  \n",
              "2  2015-02-24 11:15:48 -0800      Lets Play  Central Time (US & Canada)  \n",
              "3  2015-02-24 11:15:36 -0800            NaN  Pacific Time (US & Canada)  \n",
              "4  2015-02-24 11:14:45 -0800            NaN  Pacific Time (US & Canada)  "
            ],
            "text/html": [
              "\n",
              "  <div id=\"df-46c12afb-c25c-4729-a77f-bafcc40fab3d\">\n",
              "    <div class=\"colab-df-container\">\n",
              "      <div>\n",
              "<style scoped>\n",
              "    .dataframe tbody tr th:only-of-type {\n",
              "        vertical-align: middle;\n",
              "    }\n",
              "\n",
              "    .dataframe tbody tr th {\n",
              "        vertical-align: top;\n",
              "    }\n",
              "\n",
              "    .dataframe thead th {\n",
              "        text-align: right;\n",
              "    }\n",
              "</style>\n",
              "<table border=\"1\" class=\"dataframe\">\n",
              "  <thead>\n",
              "    <tr style=\"text-align: right;\">\n",
              "      <th></th>\n",
              "      <th>tweet_id</th>\n",
              "      <th>airline_sentiment</th>\n",
              "      <th>airline_sentiment_confidence</th>\n",
              "      <th>negativereason</th>\n",
              "      <th>negativereason_confidence</th>\n",
              "      <th>airline</th>\n",
              "      <th>airline_sentiment_gold</th>\n",
              "      <th>name</th>\n",
              "      <th>negativereason_gold</th>\n",
              "      <th>retweet_count</th>\n",
              "      <th>text</th>\n",
              "      <th>tweet_coord</th>\n",
              "      <th>tweet_created</th>\n",
              "      <th>tweet_location</th>\n",
              "      <th>user_timezone</th>\n",
              "    </tr>\n",
              "  </thead>\n",
              "  <tbody>\n",
              "    <tr>\n",
              "      <th>0</th>\n",
              "      <td>570306133677760513</td>\n",
              "      <td>neutral</td>\n",
              "      <td>1.0000</td>\n",
              "      <td>NaN</td>\n",
              "      <td>NaN</td>\n",
              "      <td>Virgin America</td>\n",
              "      <td>NaN</td>\n",
              "      <td>cairdin</td>\n",
              "      <td>NaN</td>\n",
              "      <td>0</td>\n",
              "      <td>@VirginAmerica What @dhepburn said.</td>\n",
              "      <td>NaN</td>\n",
              "      <td>2015-02-24 11:35:52 -0800</td>\n",
              "      <td>NaN</td>\n",
              "      <td>Eastern Time (US &amp; Canada)</td>\n",
              "    </tr>\n",
              "    <tr>\n",
              "      <th>1</th>\n",
              "      <td>570301130888122368</td>\n",
              "      <td>positive</td>\n",
              "      <td>0.3486</td>\n",
              "      <td>NaN</td>\n",
              "      <td>0.0000</td>\n",
              "      <td>Virgin America</td>\n",
              "      <td>NaN</td>\n",
              "      <td>jnardino</td>\n",
              "      <td>NaN</td>\n",
              "      <td>0</td>\n",
              "      <td>@VirginAmerica plus you've added commercials t...</td>\n",
              "      <td>NaN</td>\n",
              "      <td>2015-02-24 11:15:59 -0800</td>\n",
              "      <td>NaN</td>\n",
              "      <td>Pacific Time (US &amp; Canada)</td>\n",
              "    </tr>\n",
              "    <tr>\n",
              "      <th>2</th>\n",
              "      <td>570301083672813571</td>\n",
              "      <td>neutral</td>\n",
              "      <td>0.6837</td>\n",
              "      <td>NaN</td>\n",
              "      <td>NaN</td>\n",
              "      <td>Virgin America</td>\n",
              "      <td>NaN</td>\n",
              "      <td>yvonnalynn</td>\n",
              "      <td>NaN</td>\n",
              "      <td>0</td>\n",
              "      <td>@VirginAmerica I didn't today... Must mean I n...</td>\n",
              "      <td>NaN</td>\n",
              "      <td>2015-02-24 11:15:48 -0800</td>\n",
              "      <td>Lets Play</td>\n",
              "      <td>Central Time (US &amp; Canada)</td>\n",
              "    </tr>\n",
              "    <tr>\n",
              "      <th>3</th>\n",
              "      <td>570301031407624196</td>\n",
              "      <td>negative</td>\n",
              "      <td>1.0000</td>\n",
              "      <td>Bad Flight</td>\n",
              "      <td>0.7033</td>\n",
              "      <td>Virgin America</td>\n",
              "      <td>NaN</td>\n",
              "      <td>jnardino</td>\n",
              "      <td>NaN</td>\n",
              "      <td>0</td>\n",
              "      <td>@VirginAmerica it's really aggressive to blast...</td>\n",
              "      <td>NaN</td>\n",
              "      <td>2015-02-24 11:15:36 -0800</td>\n",
              "      <td>NaN</td>\n",
              "      <td>Pacific Time (US &amp; Canada)</td>\n",
              "    </tr>\n",
              "    <tr>\n",
              "      <th>4</th>\n",
              "      <td>570300817074462722</td>\n",
              "      <td>negative</td>\n",
              "      <td>1.0000</td>\n",
              "      <td>Can't Tell</td>\n",
              "      <td>1.0000</td>\n",
              "      <td>Virgin America</td>\n",
              "      <td>NaN</td>\n",
              "      <td>jnardino</td>\n",
              "      <td>NaN</td>\n",
              "      <td>0</td>\n",
              "      <td>@VirginAmerica and it's a really big bad thing...</td>\n",
              "      <td>NaN</td>\n",
              "      <td>2015-02-24 11:14:45 -0800</td>\n",
              "      <td>NaN</td>\n",
              "      <td>Pacific Time (US &amp; Canada)</td>\n",
              "    </tr>\n",
              "  </tbody>\n",
              "</table>\n",
              "</div>\n",
              "      <button class=\"colab-df-convert\" onclick=\"convertToInteractive('df-46c12afb-c25c-4729-a77f-bafcc40fab3d')\"\n",
              "              title=\"Convert this dataframe to an interactive table.\"\n",
              "              style=\"display:none;\">\n",
              "        \n",
              "  <svg xmlns=\"http://www.w3.org/2000/svg\" height=\"24px\"viewBox=\"0 0 24 24\"\n",
              "       width=\"24px\">\n",
              "    <path d=\"M0 0h24v24H0V0z\" fill=\"none\"/>\n",
              "    <path d=\"M18.56 5.44l.94 2.06.94-2.06 2.06-.94-2.06-.94-.94-2.06-.94 2.06-2.06.94zm-11 1L8.5 8.5l.94-2.06 2.06-.94-2.06-.94L8.5 2.5l-.94 2.06-2.06.94zm10 10l.94 2.06.94-2.06 2.06-.94-2.06-.94-.94-2.06-.94 2.06-2.06.94z\"/><path d=\"M17.41 7.96l-1.37-1.37c-.4-.4-.92-.59-1.43-.59-.52 0-1.04.2-1.43.59L10.3 9.45l-7.72 7.72c-.78.78-.78 2.05 0 2.83L4 21.41c.39.39.9.59 1.41.59.51 0 1.02-.2 1.41-.59l7.78-7.78 2.81-2.81c.8-.78.8-2.07 0-2.86zM5.41 20L4 18.59l7.72-7.72 1.47 1.35L5.41 20z\"/>\n",
              "  </svg>\n",
              "      </button>\n",
              "      \n",
              "  <style>\n",
              "    .colab-df-container {\n",
              "      display:flex;\n",
              "      flex-wrap:wrap;\n",
              "      gap: 12px;\n",
              "    }\n",
              "\n",
              "    .colab-df-convert {\n",
              "      background-color: #E8F0FE;\n",
              "      border: none;\n",
              "      border-radius: 50%;\n",
              "      cursor: pointer;\n",
              "      display: none;\n",
              "      fill: #1967D2;\n",
              "      height: 32px;\n",
              "      padding: 0 0 0 0;\n",
              "      width: 32px;\n",
              "    }\n",
              "\n",
              "    .colab-df-convert:hover {\n",
              "      background-color: #E2EBFA;\n",
              "      box-shadow: 0px 1px 2px rgba(60, 64, 67, 0.3), 0px 1px 3px 1px rgba(60, 64, 67, 0.15);\n",
              "      fill: #174EA6;\n",
              "    }\n",
              "\n",
              "    [theme=dark] .colab-df-convert {\n",
              "      background-color: #3B4455;\n",
              "      fill: #D2E3FC;\n",
              "    }\n",
              "\n",
              "    [theme=dark] .colab-df-convert:hover {\n",
              "      background-color: #434B5C;\n",
              "      box-shadow: 0px 1px 3px 1px rgba(0, 0, 0, 0.15);\n",
              "      filter: drop-shadow(0px 1px 2px rgba(0, 0, 0, 0.3));\n",
              "      fill: #FFFFFF;\n",
              "    }\n",
              "  </style>\n",
              "\n",
              "      <script>\n",
              "        const buttonEl =\n",
              "          document.querySelector('#df-46c12afb-c25c-4729-a77f-bafcc40fab3d button.colab-df-convert');\n",
              "        buttonEl.style.display =\n",
              "          google.colab.kernel.accessAllowed ? 'block' : 'none';\n",
              "\n",
              "        async function convertToInteractive(key) {\n",
              "          const element = document.querySelector('#df-46c12afb-c25c-4729-a77f-bafcc40fab3d');\n",
              "          const dataTable =\n",
              "            await google.colab.kernel.invokeFunction('convertToInteractive',\n",
              "                                                     [key], {});\n",
              "          if (!dataTable) return;\n",
              "\n",
              "          const docLinkHtml = 'Like what you see? Visit the ' +\n",
              "            '<a target=\"_blank\" href=https://colab.research.google.com/notebooks/data_table.ipynb>data table notebook</a>'\n",
              "            + ' to learn more about interactive tables.';\n",
              "          element.innerHTML = '';\n",
              "          dataTable['output_type'] = 'display_data';\n",
              "          await google.colab.output.renderOutput(dataTable, element);\n",
              "          const docLink = document.createElement('div');\n",
              "          docLink.innerHTML = docLinkHtml;\n",
              "          element.appendChild(docLink);\n",
              "        }\n",
              "      </script>\n",
              "    </div>\n",
              "  </div>\n",
              "  "
            ]
          },
          "metadata": {},
          "execution_count": 35
        }
      ],
      "source": [
        "df.head()\n",
        "# text ve label olarak 2'ye ayıracağız datalarımızı NLP'de."
      ]
    },
    {
      "cell_type": "code",
      "execution_count": null,
      "metadata": {
        "colab": {
          "base_uri": "https://localhost:8080/",
          "height": 423
        },
        "id": "jpYz8FlGU9nE",
        "outputId": "563c823f-0843-40ba-cd64-06ead19dea44"
      },
      "outputs": [
        {
          "output_type": "execute_result",
          "data": {
            "text/plain": [
              "      airline_sentiment                                               text\n",
              "0               neutral                @VirginAmerica What @dhepburn said.\n",
              "1              positive  @VirginAmerica plus you've added commercials t...\n",
              "2               neutral  @VirginAmerica I didn't today... Must mean I n...\n",
              "3              negative  @VirginAmerica it's really aggressive to blast...\n",
              "4              negative  @VirginAmerica and it's a really big bad thing...\n",
              "...                 ...                                                ...\n",
              "14635          positive  @AmericanAir thank you we got on a different f...\n",
              "14636          negative  @AmericanAir leaving over 20 minutes Late Flig...\n",
              "14637           neutral  @AmericanAir Please bring American Airlines to...\n",
              "14638          negative  @AmericanAir you have my money, you change my ...\n",
              "14639           neutral  @AmericanAir we have 8 ppl so we need 2 know h...\n",
              "\n",
              "[14640 rows x 2 columns]"
            ],
            "text/html": [
              "\n",
              "  <div id=\"df-f2e34fa0-618c-4117-bf39-f9689477fa4c\">\n",
              "    <div class=\"colab-df-container\">\n",
              "      <div>\n",
              "<style scoped>\n",
              "    .dataframe tbody tr th:only-of-type {\n",
              "        vertical-align: middle;\n",
              "    }\n",
              "\n",
              "    .dataframe tbody tr th {\n",
              "        vertical-align: top;\n",
              "    }\n",
              "\n",
              "    .dataframe thead th {\n",
              "        text-align: right;\n",
              "    }\n",
              "</style>\n",
              "<table border=\"1\" class=\"dataframe\">\n",
              "  <thead>\n",
              "    <tr style=\"text-align: right;\">\n",
              "      <th></th>\n",
              "      <th>airline_sentiment</th>\n",
              "      <th>text</th>\n",
              "    </tr>\n",
              "  </thead>\n",
              "  <tbody>\n",
              "    <tr>\n",
              "      <th>0</th>\n",
              "      <td>neutral</td>\n",
              "      <td>@VirginAmerica What @dhepburn said.</td>\n",
              "    </tr>\n",
              "    <tr>\n",
              "      <th>1</th>\n",
              "      <td>positive</td>\n",
              "      <td>@VirginAmerica plus you've added commercials t...</td>\n",
              "    </tr>\n",
              "    <tr>\n",
              "      <th>2</th>\n",
              "      <td>neutral</td>\n",
              "      <td>@VirginAmerica I didn't today... Must mean I n...</td>\n",
              "    </tr>\n",
              "    <tr>\n",
              "      <th>3</th>\n",
              "      <td>negative</td>\n",
              "      <td>@VirginAmerica it's really aggressive to blast...</td>\n",
              "    </tr>\n",
              "    <tr>\n",
              "      <th>4</th>\n",
              "      <td>negative</td>\n",
              "      <td>@VirginAmerica and it's a really big bad thing...</td>\n",
              "    </tr>\n",
              "    <tr>\n",
              "      <th>...</th>\n",
              "      <td>...</td>\n",
              "      <td>...</td>\n",
              "    </tr>\n",
              "    <tr>\n",
              "      <th>14635</th>\n",
              "      <td>positive</td>\n",
              "      <td>@AmericanAir thank you we got on a different f...</td>\n",
              "    </tr>\n",
              "    <tr>\n",
              "      <th>14636</th>\n",
              "      <td>negative</td>\n",
              "      <td>@AmericanAir leaving over 20 minutes Late Flig...</td>\n",
              "    </tr>\n",
              "    <tr>\n",
              "      <th>14637</th>\n",
              "      <td>neutral</td>\n",
              "      <td>@AmericanAir Please bring American Airlines to...</td>\n",
              "    </tr>\n",
              "    <tr>\n",
              "      <th>14638</th>\n",
              "      <td>negative</td>\n",
              "      <td>@AmericanAir you have my money, you change my ...</td>\n",
              "    </tr>\n",
              "    <tr>\n",
              "      <th>14639</th>\n",
              "      <td>neutral</td>\n",
              "      <td>@AmericanAir we have 8 ppl so we need 2 know h...</td>\n",
              "    </tr>\n",
              "  </tbody>\n",
              "</table>\n",
              "<p>14640 rows × 2 columns</p>\n",
              "</div>\n",
              "      <button class=\"colab-df-convert\" onclick=\"convertToInteractive('df-f2e34fa0-618c-4117-bf39-f9689477fa4c')\"\n",
              "              title=\"Convert this dataframe to an interactive table.\"\n",
              "              style=\"display:none;\">\n",
              "        \n",
              "  <svg xmlns=\"http://www.w3.org/2000/svg\" height=\"24px\"viewBox=\"0 0 24 24\"\n",
              "       width=\"24px\">\n",
              "    <path d=\"M0 0h24v24H0V0z\" fill=\"none\"/>\n",
              "    <path d=\"M18.56 5.44l.94 2.06.94-2.06 2.06-.94-2.06-.94-.94-2.06-.94 2.06-2.06.94zm-11 1L8.5 8.5l.94-2.06 2.06-.94-2.06-.94L8.5 2.5l-.94 2.06-2.06.94zm10 10l.94 2.06.94-2.06 2.06-.94-2.06-.94-.94-2.06-.94 2.06-2.06.94z\"/><path d=\"M17.41 7.96l-1.37-1.37c-.4-.4-.92-.59-1.43-.59-.52 0-1.04.2-1.43.59L10.3 9.45l-7.72 7.72c-.78.78-.78 2.05 0 2.83L4 21.41c.39.39.9.59 1.41.59.51 0 1.02-.2 1.41-.59l7.78-7.78 2.81-2.81c.8-.78.8-2.07 0-2.86zM5.41 20L4 18.59l7.72-7.72 1.47 1.35L5.41 20z\"/>\n",
              "  </svg>\n",
              "      </button>\n",
              "      \n",
              "  <style>\n",
              "    .colab-df-container {\n",
              "      display:flex;\n",
              "      flex-wrap:wrap;\n",
              "      gap: 12px;\n",
              "    }\n",
              "\n",
              "    .colab-df-convert {\n",
              "      background-color: #E8F0FE;\n",
              "      border: none;\n",
              "      border-radius: 50%;\n",
              "      cursor: pointer;\n",
              "      display: none;\n",
              "      fill: #1967D2;\n",
              "      height: 32px;\n",
              "      padding: 0 0 0 0;\n",
              "      width: 32px;\n",
              "    }\n",
              "\n",
              "    .colab-df-convert:hover {\n",
              "      background-color: #E2EBFA;\n",
              "      box-shadow: 0px 1px 2px rgba(60, 64, 67, 0.3), 0px 1px 3px 1px rgba(60, 64, 67, 0.15);\n",
              "      fill: #174EA6;\n",
              "    }\n",
              "\n",
              "    [theme=dark] .colab-df-convert {\n",
              "      background-color: #3B4455;\n",
              "      fill: #D2E3FC;\n",
              "    }\n",
              "\n",
              "    [theme=dark] .colab-df-convert:hover {\n",
              "      background-color: #434B5C;\n",
              "      box-shadow: 0px 1px 3px 1px rgba(0, 0, 0, 0.15);\n",
              "      filter: drop-shadow(0px 1px 2px rgba(0, 0, 0, 0.3));\n",
              "      fill: #FFFFFF;\n",
              "    }\n",
              "  </style>\n",
              "\n",
              "      <script>\n",
              "        const buttonEl =\n",
              "          document.querySelector('#df-f2e34fa0-618c-4117-bf39-f9689477fa4c button.colab-df-convert');\n",
              "        buttonEl.style.display =\n",
              "          google.colab.kernel.accessAllowed ? 'block' : 'none';\n",
              "\n",
              "        async function convertToInteractive(key) {\n",
              "          const element = document.querySelector('#df-f2e34fa0-618c-4117-bf39-f9689477fa4c');\n",
              "          const dataTable =\n",
              "            await google.colab.kernel.invokeFunction('convertToInteractive',\n",
              "                                                     [key], {});\n",
              "          if (!dataTable) return;\n",
              "\n",
              "          const docLinkHtml = 'Like what you see? Visit the ' +\n",
              "            '<a target=\"_blank\" href=https://colab.research.google.com/notebooks/data_table.ipynb>data table notebook</a>'\n",
              "            + ' to learn more about interactive tables.';\n",
              "          element.innerHTML = '';\n",
              "          dataTable['output_type'] = 'display_data';\n",
              "          await google.colab.output.renderOutput(dataTable, element);\n",
              "          const docLink = document.createElement('div');\n",
              "          docLink.innerHTML = docLinkHtml;\n",
              "          element.appendChild(docLink);\n",
              "        }\n",
              "      </script>\n",
              "    </div>\n",
              "  </div>\n",
              "  "
            ]
          },
          "metadata": {},
          "execution_count": 36
        }
      ],
      "source": [
        "df = df[['airline_sentiment','text']]\n",
        "df"
      ]
    },
    {
      "cell_type": "code",
      "execution_count": null,
      "metadata": {
        "colab": {
          "base_uri": "https://localhost:8080/",
          "height": 300
        },
        "id": "VBu1lMK7U9nF",
        "outputId": "05cde3b0-ce13-4135-e7eb-b01a1307741e"
      },
      "outputs": [
        {
          "output_type": "execute_result",
          "data": {
            "text/plain": [
              "  airline_sentiment                                               text\n",
              "0           neutral                @VirginAmerica What @dhepburn said.\n",
              "1          positive  @VirginAmerica plus you've added commercials t...\n",
              "2           neutral  @VirginAmerica I didn't today... Must mean I n...\n",
              "3          negative  @VirginAmerica it's really aggressive to blast...\n",
              "4          negative  @VirginAmerica and it's a really big bad thing...\n",
              "5          negative  @VirginAmerica seriously would pay $30 a fligh...\n",
              "6          positive  @VirginAmerica yes, nearly every time I fly VX...\n",
              "7           neutral  @VirginAmerica Really missed a prime opportuni..."
            ],
            "text/html": [
              "\n",
              "  <div id=\"df-cee9e27b-70a9-4275-8329-c67fa0739748\">\n",
              "    <div class=\"colab-df-container\">\n",
              "      <div>\n",
              "<style scoped>\n",
              "    .dataframe tbody tr th:only-of-type {\n",
              "        vertical-align: middle;\n",
              "    }\n",
              "\n",
              "    .dataframe tbody tr th {\n",
              "        vertical-align: top;\n",
              "    }\n",
              "\n",
              "    .dataframe thead th {\n",
              "        text-align: right;\n",
              "    }\n",
              "</style>\n",
              "<table border=\"1\" class=\"dataframe\">\n",
              "  <thead>\n",
              "    <tr style=\"text-align: right;\">\n",
              "      <th></th>\n",
              "      <th>airline_sentiment</th>\n",
              "      <th>text</th>\n",
              "    </tr>\n",
              "  </thead>\n",
              "  <tbody>\n",
              "    <tr>\n",
              "      <th>0</th>\n",
              "      <td>neutral</td>\n",
              "      <td>@VirginAmerica What @dhepburn said.</td>\n",
              "    </tr>\n",
              "    <tr>\n",
              "      <th>1</th>\n",
              "      <td>positive</td>\n",
              "      <td>@VirginAmerica plus you've added commercials t...</td>\n",
              "    </tr>\n",
              "    <tr>\n",
              "      <th>2</th>\n",
              "      <td>neutral</td>\n",
              "      <td>@VirginAmerica I didn't today... Must mean I n...</td>\n",
              "    </tr>\n",
              "    <tr>\n",
              "      <th>3</th>\n",
              "      <td>negative</td>\n",
              "      <td>@VirginAmerica it's really aggressive to blast...</td>\n",
              "    </tr>\n",
              "    <tr>\n",
              "      <th>4</th>\n",
              "      <td>negative</td>\n",
              "      <td>@VirginAmerica and it's a really big bad thing...</td>\n",
              "    </tr>\n",
              "    <tr>\n",
              "      <th>5</th>\n",
              "      <td>negative</td>\n",
              "      <td>@VirginAmerica seriously would pay $30 a fligh...</td>\n",
              "    </tr>\n",
              "    <tr>\n",
              "      <th>6</th>\n",
              "      <td>positive</td>\n",
              "      <td>@VirginAmerica yes, nearly every time I fly VX...</td>\n",
              "    </tr>\n",
              "    <tr>\n",
              "      <th>7</th>\n",
              "      <td>neutral</td>\n",
              "      <td>@VirginAmerica Really missed a prime opportuni...</td>\n",
              "    </tr>\n",
              "  </tbody>\n",
              "</table>\n",
              "</div>\n",
              "      <button class=\"colab-df-convert\" onclick=\"convertToInteractive('df-cee9e27b-70a9-4275-8329-c67fa0739748')\"\n",
              "              title=\"Convert this dataframe to an interactive table.\"\n",
              "              style=\"display:none;\">\n",
              "        \n",
              "  <svg xmlns=\"http://www.w3.org/2000/svg\" height=\"24px\"viewBox=\"0 0 24 24\"\n",
              "       width=\"24px\">\n",
              "    <path d=\"M0 0h24v24H0V0z\" fill=\"none\"/>\n",
              "    <path d=\"M18.56 5.44l.94 2.06.94-2.06 2.06-.94-2.06-.94-.94-2.06-.94 2.06-2.06.94zm-11 1L8.5 8.5l.94-2.06 2.06-.94-2.06-.94L8.5 2.5l-.94 2.06-2.06.94zm10 10l.94 2.06.94-2.06 2.06-.94-2.06-.94-.94-2.06-.94 2.06-2.06.94z\"/><path d=\"M17.41 7.96l-1.37-1.37c-.4-.4-.92-.59-1.43-.59-.52 0-1.04.2-1.43.59L10.3 9.45l-7.72 7.72c-.78.78-.78 2.05 0 2.83L4 21.41c.39.39.9.59 1.41.59.51 0 1.02-.2 1.41-.59l7.78-7.78 2.81-2.81c.8-.78.8-2.07 0-2.86zM5.41 20L4 18.59l7.72-7.72 1.47 1.35L5.41 20z\"/>\n",
              "  </svg>\n",
              "      </button>\n",
              "      \n",
              "  <style>\n",
              "    .colab-df-container {\n",
              "      display:flex;\n",
              "      flex-wrap:wrap;\n",
              "      gap: 12px;\n",
              "    }\n",
              "\n",
              "    .colab-df-convert {\n",
              "      background-color: #E8F0FE;\n",
              "      border: none;\n",
              "      border-radius: 50%;\n",
              "      cursor: pointer;\n",
              "      display: none;\n",
              "      fill: #1967D2;\n",
              "      height: 32px;\n",
              "      padding: 0 0 0 0;\n",
              "      width: 32px;\n",
              "    }\n",
              "\n",
              "    .colab-df-convert:hover {\n",
              "      background-color: #E2EBFA;\n",
              "      box-shadow: 0px 1px 2px rgba(60, 64, 67, 0.3), 0px 1px 3px 1px rgba(60, 64, 67, 0.15);\n",
              "      fill: #174EA6;\n",
              "    }\n",
              "\n",
              "    [theme=dark] .colab-df-convert {\n",
              "      background-color: #3B4455;\n",
              "      fill: #D2E3FC;\n",
              "    }\n",
              "\n",
              "    [theme=dark] .colab-df-convert:hover {\n",
              "      background-color: #434B5C;\n",
              "      box-shadow: 0px 1px 3px 1px rgba(0, 0, 0, 0.15);\n",
              "      filter: drop-shadow(0px 1px 2px rgba(0, 0, 0, 0.3));\n",
              "      fill: #FFFFFF;\n",
              "    }\n",
              "  </style>\n",
              "\n",
              "      <script>\n",
              "        const buttonEl =\n",
              "          document.querySelector('#df-cee9e27b-70a9-4275-8329-c67fa0739748 button.colab-df-convert');\n",
              "        buttonEl.style.display =\n",
              "          google.colab.kernel.accessAllowed ? 'block' : 'none';\n",
              "\n",
              "        async function convertToInteractive(key) {\n",
              "          const element = document.querySelector('#df-cee9e27b-70a9-4275-8329-c67fa0739748');\n",
              "          const dataTable =\n",
              "            await google.colab.kernel.invokeFunction('convertToInteractive',\n",
              "                                                     [key], {});\n",
              "          if (!dataTable) return;\n",
              "\n",
              "          const docLinkHtml = 'Like what you see? Visit the ' +\n",
              "            '<a target=\"_blank\" href=https://colab.research.google.com/notebooks/data_table.ipynb>data table notebook</a>'\n",
              "            + ' to learn more about interactive tables.';\n",
              "          element.innerHTML = '';\n",
              "          dataTable['output_type'] = 'display_data';\n",
              "          await google.colab.output.renderOutput(dataTable, element);\n",
              "          const docLink = document.createElement('div');\n",
              "          docLink.innerHTML = docLinkHtml;\n",
              "          element.appendChild(docLink);\n",
              "        }\n",
              "      </script>\n",
              "    </div>\n",
              "  </div>\n",
              "  "
            ]
          },
          "metadata": {},
          "execution_count": 37
        }
      ],
      "source": [
        "df = df.iloc[:8, :]\n",
        "df"
      ]
    },
    {
      "cell_type": "code",
      "execution_count": null,
      "metadata": {
        "id": "dRVIcKqZU9nF"
      },
      "outputs": [],
      "source": [
        "df2 = df.copy()"
      ]
    },
    {
      "cell_type": "code",
      "execution_count": null,
      "metadata": {
        "id": "cgFglDCQU9nG"
      },
      "outputs": [],
      "source": [
        "df2[\"text\"] = df2[\"text\"].apply(cleaning)"
      ]
    },
    {
      "cell_type": "code",
      "execution_count": null,
      "metadata": {
        "colab": {
          "base_uri": "https://localhost:8080/",
          "height": 300
        },
        "id": "7Q75XrFxU9nG",
        "outputId": "c92a2074-163e-457a-d877-ce296a6be437"
      },
      "outputs": [
        {
          "output_type": "execute_result",
          "data": {
            "text/plain": [
              "  airline_sentiment                                               text\n",
              "0           neutral                        virginamerica dhepburn said\n",
              "1          positive  virginamerica plus added commercial experience...\n",
              "2           neutral  virginamerica today must mean need take anothe...\n",
              "3          negative  virginamerica really aggressive blast obnoxiou...\n",
              "4          negative                 virginamerica really big bad thing\n",
              "5          negative  virginamerica seriously would pay flight seat ...\n",
              "6          positive  virginamerica yes nearly every time fly vx ear...\n",
              "7           neutral  virginamerica really missed prime opportunity ..."
            ],
            "text/html": [
              "\n",
              "  <div id=\"df-9f104e6c-ebb5-4fb8-8533-93833d9cc2eb\">\n",
              "    <div class=\"colab-df-container\">\n",
              "      <div>\n",
              "<style scoped>\n",
              "    .dataframe tbody tr th:only-of-type {\n",
              "        vertical-align: middle;\n",
              "    }\n",
              "\n",
              "    .dataframe tbody tr th {\n",
              "        vertical-align: top;\n",
              "    }\n",
              "\n",
              "    .dataframe thead th {\n",
              "        text-align: right;\n",
              "    }\n",
              "</style>\n",
              "<table border=\"1\" class=\"dataframe\">\n",
              "  <thead>\n",
              "    <tr style=\"text-align: right;\">\n",
              "      <th></th>\n",
              "      <th>airline_sentiment</th>\n",
              "      <th>text</th>\n",
              "    </tr>\n",
              "  </thead>\n",
              "  <tbody>\n",
              "    <tr>\n",
              "      <th>0</th>\n",
              "      <td>neutral</td>\n",
              "      <td>virginamerica dhepburn said</td>\n",
              "    </tr>\n",
              "    <tr>\n",
              "      <th>1</th>\n",
              "      <td>positive</td>\n",
              "      <td>virginamerica plus added commercial experience...</td>\n",
              "    </tr>\n",
              "    <tr>\n",
              "      <th>2</th>\n",
              "      <td>neutral</td>\n",
              "      <td>virginamerica today must mean need take anothe...</td>\n",
              "    </tr>\n",
              "    <tr>\n",
              "      <th>3</th>\n",
              "      <td>negative</td>\n",
              "      <td>virginamerica really aggressive blast obnoxiou...</td>\n",
              "    </tr>\n",
              "    <tr>\n",
              "      <th>4</th>\n",
              "      <td>negative</td>\n",
              "      <td>virginamerica really big bad thing</td>\n",
              "    </tr>\n",
              "    <tr>\n",
              "      <th>5</th>\n",
              "      <td>negative</td>\n",
              "      <td>virginamerica seriously would pay flight seat ...</td>\n",
              "    </tr>\n",
              "    <tr>\n",
              "      <th>6</th>\n",
              "      <td>positive</td>\n",
              "      <td>virginamerica yes nearly every time fly vx ear...</td>\n",
              "    </tr>\n",
              "    <tr>\n",
              "      <th>7</th>\n",
              "      <td>neutral</td>\n",
              "      <td>virginamerica really missed prime opportunity ...</td>\n",
              "    </tr>\n",
              "  </tbody>\n",
              "</table>\n",
              "</div>\n",
              "      <button class=\"colab-df-convert\" onclick=\"convertToInteractive('df-9f104e6c-ebb5-4fb8-8533-93833d9cc2eb')\"\n",
              "              title=\"Convert this dataframe to an interactive table.\"\n",
              "              style=\"display:none;\">\n",
              "        \n",
              "  <svg xmlns=\"http://www.w3.org/2000/svg\" height=\"24px\"viewBox=\"0 0 24 24\"\n",
              "       width=\"24px\">\n",
              "    <path d=\"M0 0h24v24H0V0z\" fill=\"none\"/>\n",
              "    <path d=\"M18.56 5.44l.94 2.06.94-2.06 2.06-.94-2.06-.94-.94-2.06-.94 2.06-2.06.94zm-11 1L8.5 8.5l.94-2.06 2.06-.94-2.06-.94L8.5 2.5l-.94 2.06-2.06.94zm10 10l.94 2.06.94-2.06 2.06-.94-2.06-.94-.94-2.06-.94 2.06-2.06.94z\"/><path d=\"M17.41 7.96l-1.37-1.37c-.4-.4-.92-.59-1.43-.59-.52 0-1.04.2-1.43.59L10.3 9.45l-7.72 7.72c-.78.78-.78 2.05 0 2.83L4 21.41c.39.39.9.59 1.41.59.51 0 1.02-.2 1.41-.59l7.78-7.78 2.81-2.81c.8-.78.8-2.07 0-2.86zM5.41 20L4 18.59l7.72-7.72 1.47 1.35L5.41 20z\"/>\n",
              "  </svg>\n",
              "      </button>\n",
              "      \n",
              "  <style>\n",
              "    .colab-df-container {\n",
              "      display:flex;\n",
              "      flex-wrap:wrap;\n",
              "      gap: 12px;\n",
              "    }\n",
              "\n",
              "    .colab-df-convert {\n",
              "      background-color: #E8F0FE;\n",
              "      border: none;\n",
              "      border-radius: 50%;\n",
              "      cursor: pointer;\n",
              "      display: none;\n",
              "      fill: #1967D2;\n",
              "      height: 32px;\n",
              "      padding: 0 0 0 0;\n",
              "      width: 32px;\n",
              "    }\n",
              "\n",
              "    .colab-df-convert:hover {\n",
              "      background-color: #E2EBFA;\n",
              "      box-shadow: 0px 1px 2px rgba(60, 64, 67, 0.3), 0px 1px 3px 1px rgba(60, 64, 67, 0.15);\n",
              "      fill: #174EA6;\n",
              "    }\n",
              "\n",
              "    [theme=dark] .colab-df-convert {\n",
              "      background-color: #3B4455;\n",
              "      fill: #D2E3FC;\n",
              "    }\n",
              "\n",
              "    [theme=dark] .colab-df-convert:hover {\n",
              "      background-color: #434B5C;\n",
              "      box-shadow: 0px 1px 3px 1px rgba(0, 0, 0, 0.15);\n",
              "      filter: drop-shadow(0px 1px 2px rgba(0, 0, 0, 0.3));\n",
              "      fill: #FFFFFF;\n",
              "    }\n",
              "  </style>\n",
              "\n",
              "      <script>\n",
              "        const buttonEl =\n",
              "          document.querySelector('#df-9f104e6c-ebb5-4fb8-8533-93833d9cc2eb button.colab-df-convert');\n",
              "        buttonEl.style.display =\n",
              "          google.colab.kernel.accessAllowed ? 'block' : 'none';\n",
              "\n",
              "        async function convertToInteractive(key) {\n",
              "          const element = document.querySelector('#df-9f104e6c-ebb5-4fb8-8533-93833d9cc2eb');\n",
              "          const dataTable =\n",
              "            await google.colab.kernel.invokeFunction('convertToInteractive',\n",
              "                                                     [key], {});\n",
              "          if (!dataTable) return;\n",
              "\n",
              "          const docLinkHtml = 'Like what you see? Visit the ' +\n",
              "            '<a target=\"_blank\" href=https://colab.research.google.com/notebooks/data_table.ipynb>data table notebook</a>'\n",
              "            + ' to learn more about interactive tables.';\n",
              "          element.innerHTML = '';\n",
              "          dataTable['output_type'] = 'display_data';\n",
              "          await google.colab.output.renderOutput(dataTable, element);\n",
              "          const docLink = document.createElement('div');\n",
              "          docLink.innerHTML = docLinkHtml;\n",
              "          element.appendChild(docLink);\n",
              "        }\n",
              "      </script>\n",
              "    </div>\n",
              "  </div>\n",
              "  "
            ]
          },
          "metadata": {},
          "execution_count": 43
        }
      ],
      "source": [
        "df2"
      ]
    },
    {
      "cell_type": "markdown",
      "metadata": {
        "id": "QI2sar-1U9nH"
      },
      "source": [
        "## CountVectorization"
      ]
    },
    {
      "cell_type": "code",
      "execution_count": null,
      "metadata": {
        "id": "oBDBl_8yU9nH"
      },
      "outputs": [],
      "source": [
        "X = df2[\"text\"]\n",
        "y = df2[\"airline_sentiment\"]"
      ]
    },
    {
      "cell_type": "code",
      "execution_count": null,
      "metadata": {
        "id": "eOExMfufU9nH"
      },
      "outputs": [],
      "source": [
        "from sklearn.model_selection import train_test_split"
      ]
    },
    {
      "cell_type": "code",
      "execution_count": null,
      "metadata": {
        "id": "u-ddg1zpU9nI"
      },
      "outputs": [],
      "source": [
        "X_train, X_test, y_train, y_test = train_test_split(X, y, test_size = 0.5, stratify = y, random_state = 42)\n",
        "\n",
        "# eğitim yapmayacağımız için 0.5 verdik burada."
      ]
    },
    {
      "cell_type": "code",
      "execution_count": null,
      "metadata": {
        "id": "iAp3o3XeU9nI"
      },
      "outputs": [],
      "source": [
        "from sklearn.feature_extraction.text import CountVectorizer"
      ]
    },
    {
      "cell_type": "code",
      "execution_count": null,
      "metadata": {
        "id": "R5_upyQUU9nI"
      },
      "outputs": [],
      "source": [
        "vectorizer = CountVectorizer()\n",
        "X_train_count = vectorizer.fit_transform(X_train)\n",
        "X_test_count = vectorizer.transform(X_test)\n",
        "# yine data leakage'ı engellemek için test'e sadece transform uyguluyoruz.\n",
        "# kelimeleri numeric hale döndürmek\n",
        "# eğer test kısmında trainde geçmeyen bir kelime görürse onu yok sayıyor."
      ]
    },
    {
      "cell_type": "code",
      "execution_count": null,
      "metadata": {
        "colab": {
          "base_uri": "https://localhost:8080/"
        },
        "id": "DfTtH_5CU9nJ",
        "outputId": "5e3ac8e0-3c72-4d10-dd97-3bf63ac681c1"
      },
      "outputs": [
        {
          "output_type": "execute_result",
          "data": {
            "text/plain": [
              "['another',\n",
              " 'away',\n",
              " 'bad',\n",
              " 'big',\n",
              " 'dhepburn',\n",
              " 'ear',\n",
              " 'every',\n",
              " 'fly',\n",
              " 'go',\n",
              " 'mean',\n",
              " 'must',\n",
              " 'nearly',\n",
              " 'need',\n",
              " 'really',\n",
              " 'said',\n",
              " 'take',\n",
              " 'thing',\n",
              " 'time',\n",
              " 'today',\n",
              " 'trip',\n",
              " 'virginamerica',\n",
              " 'vx',\n",
              " 'worm',\n",
              " 'yes']"
            ]
          },
          "metadata": {},
          "execution_count": 50
        }
      ],
      "source": [
        "vectorizer.get_feature_names()\n",
        "# vectorizer.get_feature_names_out()    üstteki çalışmazsa bunu deniyoruz"
      ]
    },
    {
      "cell_type": "code",
      "execution_count": null,
      "metadata": {
        "colab": {
          "base_uri": "https://localhost:8080/"
        },
        "id": "1NBt7P05U9nJ",
        "outputId": "7f7156e3-673e-44e2-f7fa-9b2b08772860"
      },
      "outputs": [
        {
          "output_type": "execute_result",
          "data": {
            "text/plain": [
              "array([[0, 1, 0, 0, 0, 1, 1, 1, 1, 0, 0, 1, 0, 0, 0, 0, 0, 1, 0, 0, 1, 1,\n",
              "        1, 1],\n",
              "       [0, 0, 0, 0, 1, 0, 0, 0, 0, 0, 0, 0, 0, 0, 1, 0, 0, 0, 0, 0, 1, 0,\n",
              "        0, 0],\n",
              "       [1, 0, 0, 0, 0, 0, 0, 0, 0, 1, 1, 0, 1, 0, 0, 1, 0, 0, 1, 1, 1, 0,\n",
              "        0, 0],\n",
              "       [0, 0, 1, 1, 0, 0, 0, 0, 0, 0, 0, 0, 0, 1, 0, 0, 1, 0, 0, 0, 1, 0,\n",
              "        0, 0]])"
            ]
          },
          "metadata": {},
          "execution_count": 51
        }
      ],
      "source": [
        "X_train_count.toarray()\n",
        "# kelimeleri sayıyor"
      ]
    },
    {
      "cell_type": "code",
      "execution_count": null,
      "metadata": {
        "colab": {
          "base_uri": "https://localhost:8080/",
          "height": 219
        },
        "id": "RTvwvmqlU9nK",
        "outputId": "a531d001-f570-4a8f-cb95-39f5ac13d338"
      },
      "outputs": [
        {
          "output_type": "execute_result",
          "data": {
            "text/plain": [
              "   another  away  bad  big  dhepburn  ear  every  fly  go  mean  must  nearly  \\\n",
              "0        0     1    0    0         0    1      1    1   1     0     0       1   \n",
              "1        0     0    0    0         1    0      0    0   0     0     0       0   \n",
              "2        1     0    0    0         0    0      0    0   0     1     1       0   \n",
              "3        0     0    1    1         0    0      0    0   0     0     0       0   \n",
              "\n",
              "   need  really  said  take  thing  time  today  trip  virginamerica  vx  \\\n",
              "0     0       0     0     0      0     1      0     0              1   1   \n",
              "1     0       0     1     0      0     0      0     0              1   0   \n",
              "2     1       0     0     1      0     0      1     1              1   0   \n",
              "3     0       1     0     0      1     0      0     0              1   0   \n",
              "\n",
              "   worm  yes  \n",
              "0     1    1  \n",
              "1     0    0  \n",
              "2     0    0  \n",
              "3     0    0  "
            ],
            "text/html": [
              "\n",
              "  <div id=\"df-9e7bfc90-685b-4b78-900f-4299b42c65f3\">\n",
              "    <div class=\"colab-df-container\">\n",
              "      <div>\n",
              "<style scoped>\n",
              "    .dataframe tbody tr th:only-of-type {\n",
              "        vertical-align: middle;\n",
              "    }\n",
              "\n",
              "    .dataframe tbody tr th {\n",
              "        vertical-align: top;\n",
              "    }\n",
              "\n",
              "    .dataframe thead th {\n",
              "        text-align: right;\n",
              "    }\n",
              "</style>\n",
              "<table border=\"1\" class=\"dataframe\">\n",
              "  <thead>\n",
              "    <tr style=\"text-align: right;\">\n",
              "      <th></th>\n",
              "      <th>another</th>\n",
              "      <th>away</th>\n",
              "      <th>bad</th>\n",
              "      <th>big</th>\n",
              "      <th>dhepburn</th>\n",
              "      <th>ear</th>\n",
              "      <th>every</th>\n",
              "      <th>fly</th>\n",
              "      <th>go</th>\n",
              "      <th>mean</th>\n",
              "      <th>must</th>\n",
              "      <th>nearly</th>\n",
              "      <th>need</th>\n",
              "      <th>really</th>\n",
              "      <th>said</th>\n",
              "      <th>take</th>\n",
              "      <th>thing</th>\n",
              "      <th>time</th>\n",
              "      <th>today</th>\n",
              "      <th>trip</th>\n",
              "      <th>virginamerica</th>\n",
              "      <th>vx</th>\n",
              "      <th>worm</th>\n",
              "      <th>yes</th>\n",
              "    </tr>\n",
              "  </thead>\n",
              "  <tbody>\n",
              "    <tr>\n",
              "      <th>0</th>\n",
              "      <td>0</td>\n",
              "      <td>1</td>\n",
              "      <td>0</td>\n",
              "      <td>0</td>\n",
              "      <td>0</td>\n",
              "      <td>1</td>\n",
              "      <td>1</td>\n",
              "      <td>1</td>\n",
              "      <td>1</td>\n",
              "      <td>0</td>\n",
              "      <td>0</td>\n",
              "      <td>1</td>\n",
              "      <td>0</td>\n",
              "      <td>0</td>\n",
              "      <td>0</td>\n",
              "      <td>0</td>\n",
              "      <td>0</td>\n",
              "      <td>1</td>\n",
              "      <td>0</td>\n",
              "      <td>0</td>\n",
              "      <td>1</td>\n",
              "      <td>1</td>\n",
              "      <td>1</td>\n",
              "      <td>1</td>\n",
              "    </tr>\n",
              "    <tr>\n",
              "      <th>1</th>\n",
              "      <td>0</td>\n",
              "      <td>0</td>\n",
              "      <td>0</td>\n",
              "      <td>0</td>\n",
              "      <td>1</td>\n",
              "      <td>0</td>\n",
              "      <td>0</td>\n",
              "      <td>0</td>\n",
              "      <td>0</td>\n",
              "      <td>0</td>\n",
              "      <td>0</td>\n",
              "      <td>0</td>\n",
              "      <td>0</td>\n",
              "      <td>0</td>\n",
              "      <td>1</td>\n",
              "      <td>0</td>\n",
              "      <td>0</td>\n",
              "      <td>0</td>\n",
              "      <td>0</td>\n",
              "      <td>0</td>\n",
              "      <td>1</td>\n",
              "      <td>0</td>\n",
              "      <td>0</td>\n",
              "      <td>0</td>\n",
              "    </tr>\n",
              "    <tr>\n",
              "      <th>2</th>\n",
              "      <td>1</td>\n",
              "      <td>0</td>\n",
              "      <td>0</td>\n",
              "      <td>0</td>\n",
              "      <td>0</td>\n",
              "      <td>0</td>\n",
              "      <td>0</td>\n",
              "      <td>0</td>\n",
              "      <td>0</td>\n",
              "      <td>1</td>\n",
              "      <td>1</td>\n",
              "      <td>0</td>\n",
              "      <td>1</td>\n",
              "      <td>0</td>\n",
              "      <td>0</td>\n",
              "      <td>1</td>\n",
              "      <td>0</td>\n",
              "      <td>0</td>\n",
              "      <td>1</td>\n",
              "      <td>1</td>\n",
              "      <td>1</td>\n",
              "      <td>0</td>\n",
              "      <td>0</td>\n",
              "      <td>0</td>\n",
              "    </tr>\n",
              "    <tr>\n",
              "      <th>3</th>\n",
              "      <td>0</td>\n",
              "      <td>0</td>\n",
              "      <td>1</td>\n",
              "      <td>1</td>\n",
              "      <td>0</td>\n",
              "      <td>0</td>\n",
              "      <td>0</td>\n",
              "      <td>0</td>\n",
              "      <td>0</td>\n",
              "      <td>0</td>\n",
              "      <td>0</td>\n",
              "      <td>0</td>\n",
              "      <td>0</td>\n",
              "      <td>1</td>\n",
              "      <td>0</td>\n",
              "      <td>0</td>\n",
              "      <td>1</td>\n",
              "      <td>0</td>\n",
              "      <td>0</td>\n",
              "      <td>0</td>\n",
              "      <td>1</td>\n",
              "      <td>0</td>\n",
              "      <td>0</td>\n",
              "      <td>0</td>\n",
              "    </tr>\n",
              "  </tbody>\n",
              "</table>\n",
              "</div>\n",
              "      <button class=\"colab-df-convert\" onclick=\"convertToInteractive('df-9e7bfc90-685b-4b78-900f-4299b42c65f3')\"\n",
              "              title=\"Convert this dataframe to an interactive table.\"\n",
              "              style=\"display:none;\">\n",
              "        \n",
              "  <svg xmlns=\"http://www.w3.org/2000/svg\" height=\"24px\"viewBox=\"0 0 24 24\"\n",
              "       width=\"24px\">\n",
              "    <path d=\"M0 0h24v24H0V0z\" fill=\"none\"/>\n",
              "    <path d=\"M18.56 5.44l.94 2.06.94-2.06 2.06-.94-2.06-.94-.94-2.06-.94 2.06-2.06.94zm-11 1L8.5 8.5l.94-2.06 2.06-.94-2.06-.94L8.5 2.5l-.94 2.06-2.06.94zm10 10l.94 2.06.94-2.06 2.06-.94-2.06-.94-.94-2.06-.94 2.06-2.06.94z\"/><path d=\"M17.41 7.96l-1.37-1.37c-.4-.4-.92-.59-1.43-.59-.52 0-1.04.2-1.43.59L10.3 9.45l-7.72 7.72c-.78.78-.78 2.05 0 2.83L4 21.41c.39.39.9.59 1.41.59.51 0 1.02-.2 1.41-.59l7.78-7.78 2.81-2.81c.8-.78.8-2.07 0-2.86zM5.41 20L4 18.59l7.72-7.72 1.47 1.35L5.41 20z\"/>\n",
              "  </svg>\n",
              "      </button>\n",
              "      \n",
              "  <style>\n",
              "    .colab-df-container {\n",
              "      display:flex;\n",
              "      flex-wrap:wrap;\n",
              "      gap: 12px;\n",
              "    }\n",
              "\n",
              "    .colab-df-convert {\n",
              "      background-color: #E8F0FE;\n",
              "      border: none;\n",
              "      border-radius: 50%;\n",
              "      cursor: pointer;\n",
              "      display: none;\n",
              "      fill: #1967D2;\n",
              "      height: 32px;\n",
              "      padding: 0 0 0 0;\n",
              "      width: 32px;\n",
              "    }\n",
              "\n",
              "    .colab-df-convert:hover {\n",
              "      background-color: #E2EBFA;\n",
              "      box-shadow: 0px 1px 2px rgba(60, 64, 67, 0.3), 0px 1px 3px 1px rgba(60, 64, 67, 0.15);\n",
              "      fill: #174EA6;\n",
              "    }\n",
              "\n",
              "    [theme=dark] .colab-df-convert {\n",
              "      background-color: #3B4455;\n",
              "      fill: #D2E3FC;\n",
              "    }\n",
              "\n",
              "    [theme=dark] .colab-df-convert:hover {\n",
              "      background-color: #434B5C;\n",
              "      box-shadow: 0px 1px 3px 1px rgba(0, 0, 0, 0.15);\n",
              "      filter: drop-shadow(0px 1px 2px rgba(0, 0, 0, 0.3));\n",
              "      fill: #FFFFFF;\n",
              "    }\n",
              "  </style>\n",
              "\n",
              "      <script>\n",
              "        const buttonEl =\n",
              "          document.querySelector('#df-9e7bfc90-685b-4b78-900f-4299b42c65f3 button.colab-df-convert');\n",
              "        buttonEl.style.display =\n",
              "          google.colab.kernel.accessAllowed ? 'block' : 'none';\n",
              "\n",
              "        async function convertToInteractive(key) {\n",
              "          const element = document.querySelector('#df-9e7bfc90-685b-4b78-900f-4299b42c65f3');\n",
              "          const dataTable =\n",
              "            await google.colab.kernel.invokeFunction('convertToInteractive',\n",
              "                                                     [key], {});\n",
              "          if (!dataTable) return;\n",
              "\n",
              "          const docLinkHtml = 'Like what you see? Visit the ' +\n",
              "            '<a target=\"_blank\" href=https://colab.research.google.com/notebooks/data_table.ipynb>data table notebook</a>'\n",
              "            + ' to learn more about interactive tables.';\n",
              "          element.innerHTML = '';\n",
              "          dataTable['output_type'] = 'display_data';\n",
              "          await google.colab.output.renderOutput(dataTable, element);\n",
              "          const docLink = document.createElement('div');\n",
              "          docLink.innerHTML = docLinkHtml;\n",
              "          element.appendChild(docLink);\n",
              "        }\n",
              "      </script>\n",
              "    </div>\n",
              "  </div>\n",
              "  "
            ]
          },
          "metadata": {},
          "execution_count": 52
        }
      ],
      "source": [
        "df_count = pd.DataFrame(X_train_count.toarray(), columns = vectorizer.get_feature_names())\n",
        "df_count\n",
        "# train ve test i 0.50 diye ayırdığımız için burada 4 tane var\n",
        "# burdakilerin her biri bizim feature'mız\n",
        "# get_dummies yani aslında\n",
        "# bütün uniqueler burada"
      ]
    },
    {
      "cell_type": "code",
      "execution_count": null,
      "metadata": {
        "colab": {
          "base_uri": "https://localhost:8080/"
        },
        "id": "hf1izataU9nK",
        "outputId": "c908eb26-5782-423b-810e-e39be9b4da86"
      },
      "outputs": [
        {
          "output_type": "execute_result",
          "data": {
            "text/plain": [
              "6    virginamerica yes nearly every time fly vx ear...\n",
              "0                          virginamerica dhepburn said\n",
              "2    virginamerica today must mean need take anothe...\n",
              "4                   virginamerica really big bad thing\n",
              "Name: text, dtype: object"
            ]
          },
          "metadata": {},
          "execution_count": 53
        }
      ],
      "source": [
        "X_train"
      ]
    },
    {
      "cell_type": "code",
      "execution_count": null,
      "metadata": {
        "colab": {
          "base_uri": "https://localhost:8080/",
          "height": 36
        },
        "id": "QjpAcPX1U9nL",
        "outputId": "d2f8613e-b23b-4f1d-ab70-4d6ee41e129d"
      },
      "outputs": [
        {
          "output_type": "execute_result",
          "data": {
            "text/plain": [
              "'virginamerica yes nearly every time fly vx ear worm go away'"
            ],
            "application/vnd.google.colaboratory.intrinsic+json": {
              "type": "string"
            }
          },
          "metadata": {},
          "execution_count": 54
        }
      ],
      "source": [
        "X_train[6]"
      ]
    },
    {
      "cell_type": "code",
      "execution_count": null,
      "metadata": {
        "colab": {
          "base_uri": "https://localhost:8080/"
        },
        "id": "meUQMhUGU9nL",
        "outputId": "deeaeeef-e5a4-46a9-8701-34516f36ed20"
      },
      "outputs": [
        {
          "output_type": "execute_result",
          "data": {
            "text/plain": [
              "{'another': 0,\n",
              " 'away': 1,\n",
              " 'bad': 2,\n",
              " 'big': 3,\n",
              " 'dhepburn': 4,\n",
              " 'ear': 5,\n",
              " 'every': 6,\n",
              " 'fly': 7,\n",
              " 'go': 8,\n",
              " 'mean': 9,\n",
              " 'must': 10,\n",
              " 'nearly': 11,\n",
              " 'need': 12,\n",
              " 'really': 13,\n",
              " 'said': 14,\n",
              " 'take': 15,\n",
              " 'thing': 16,\n",
              " 'time': 17,\n",
              " 'today': 18,\n",
              " 'trip': 19,\n",
              " 'virginamerica': 20,\n",
              " 'vx': 21,\n",
              " 'worm': 22,\n",
              " 'yes': 23}"
            ]
          },
          "metadata": {},
          "execution_count": 55
        }
      ],
      "source": [
        "vectorizer.vocabulary_\n",
        "\n",
        "# dokümanda her kelime kaç defa geçiyor onu görüyoruz."
      ]
    },
    {
      "cell_type": "markdown",
      "metadata": {
        "id": "kR_MDlfhU9nL"
      },
      "source": [
        "## TF-IDF"
      ]
    },
    {
      "cell_type": "markdown",
      "metadata": {
        "id": "zpumzsoxU9nL"
      },
      "source": [
        "sklearn TD-IDF\n",
        "https://towardsdatascience.com/how-sklearns-tf-idf-is-different-from-the-standard-tf-idf-275fa582e73d"
      ]
    },
    {
      "cell_type": "code",
      "execution_count": null,
      "metadata": {
        "id": "eunipCA9U9nM"
      },
      "outputs": [],
      "source": [
        "from sklearn.feature_extraction.text import TfidfVectorizer\n",
        "# ITF bir kelimenin ne sıklıkla geçtiğini ölçüyor.\n",
        "# IDF bir kelimenin importance'ı, bunu bir corpus içindeki oranına bakarak yapıyor."
      ]
    },
    {
      "cell_type": "code",
      "execution_count": null,
      "metadata": {
        "id": "PcxaX9HfU9nM"
      },
      "outputs": [],
      "source": [
        "tf_idf_vectorizer = TfidfVectorizer()\n",
        "X_train_tf_idf = tf_idf_vectorizer.fit_transform(X_train)\n",
        "X_test_tf_idf = tf_idf_vectorizer.transform(X_test)\n",
        "# fit = her satırda geçen unique satır sayısını tespit ediyor"
      ]
    },
    {
      "cell_type": "markdown",
      "source": [
        "![image.png](data:image/png;base64,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)"
      ],
      "metadata": {
        "id": "6mrLTE7HieeF"
      }
    },
    {
      "cell_type": "code",
      "execution_count": null,
      "metadata": {
        "id": "ueTGZaIZU9nM",
        "outputId": "d761f48c-90c4-49bd-c1c2-0406a46cd97e"
      },
      "outputs": [
        {
          "data": {
            "text/plain": [
              "['another',\n",
              " 'away',\n",
              " 'bad',\n",
              " 'big',\n",
              " 'dhepburn',\n",
              " 'ear',\n",
              " 'every',\n",
              " 'fly',\n",
              " 'go',\n",
              " 'mean',\n",
              " 'must',\n",
              " 'nearly',\n",
              " 'need',\n",
              " 'really',\n",
              " 'said',\n",
              " 'take',\n",
              " 'thing',\n",
              " 'time',\n",
              " 'today',\n",
              " 'trip',\n",
              " 'virginamerica',\n",
              " 'vx',\n",
              " 'worm',\n",
              " 'yes']"
            ]
          },
          "execution_count": 105,
          "metadata": {},
          "output_type": "execute_result"
        }
      ],
      "source": [
        "tf_idf_vectorizer.get_feature_names()"
      ]
    },
    {
      "cell_type": "code",
      "execution_count": null,
      "metadata": {
        "id": "YrRHh58IU9nM",
        "outputId": "0b7fcecb-d4cf-4618-bdd1-53484d558647"
      },
      "outputs": [
        {
          "data": {
            "text/plain": [
              "array([[0.        , 0.31200802, 0.        , 0.        , 0.        ,\n",
              "        0.31200802, 0.31200802, 0.31200802, 0.31200802, 0.        ,\n",
              "        0.        , 0.31200802, 0.        , 0.        , 0.        ,\n",
              "        0.        , 0.        , 0.31200802, 0.        , 0.        ,\n",
              "        0.16281873, 0.31200802, 0.31200802, 0.31200802],\n",
              "       [0.        , 0.        , 0.        , 0.        , 0.66338461,\n",
              "        0.        , 0.        , 0.        , 0.        , 0.        ,\n",
              "        0.        , 0.        , 0.        , 0.        , 0.66338461,\n",
              "        0.        , 0.        , 0.        , 0.        , 0.        ,\n",
              "        0.34618161, 0.        , 0.        , 0.        ],\n",
              "       [0.37082034, 0.        , 0.        , 0.        , 0.        ,\n",
              "        0.        , 0.        , 0.        , 0.        , 0.37082034,\n",
              "        0.37082034, 0.        , 0.37082034, 0.        , 0.        ,\n",
              "        0.37082034, 0.        , 0.        , 0.37082034, 0.37082034,\n",
              "        0.19350944, 0.        , 0.        , 0.        ],\n",
              "       [0.        , 0.        , 0.48380259, 0.48380259, 0.        ,\n",
              "        0.        , 0.        , 0.        , 0.        , 0.        ,\n",
              "        0.        , 0.        , 0.        , 0.48380259, 0.        ,\n",
              "        0.        , 0.48380259, 0.        , 0.        , 0.        ,\n",
              "        0.25246826, 0.        , 0.        , 0.        ]])"
            ]
          },
          "execution_count": 106,
          "metadata": {},
          "output_type": "execute_result"
        }
      ],
      "source": [
        "X_train_tf_idf.toarray()"
      ]
    },
    {
      "cell_type": "code",
      "execution_count": null,
      "metadata": {
        "id": "E1dUmFqnU9nN",
        "outputId": "09ff2734-032d-43f7-876c-cb67b05fa945"
      },
      "outputs": [
        {
          "data": {
            "text/html": [
              "<div>\n",
              "<style scoped>\n",
              "    .dataframe tbody tr th:only-of-type {\n",
              "        vertical-align: middle;\n",
              "    }\n",
              "\n",
              "    .dataframe tbody tr th {\n",
              "        vertical-align: top;\n",
              "    }\n",
              "\n",
              "    .dataframe thead th {\n",
              "        text-align: right;\n",
              "    }\n",
              "</style>\n",
              "<table border=\"1\" class=\"dataframe\">\n",
              "  <thead>\n",
              "    <tr style=\"text-align: right;\">\n",
              "      <th></th>\n",
              "      <th>another</th>\n",
              "      <th>away</th>\n",
              "      <th>bad</th>\n",
              "      <th>big</th>\n",
              "      <th>dhepburn</th>\n",
              "      <th>ear</th>\n",
              "      <th>every</th>\n",
              "      <th>fly</th>\n",
              "      <th>go</th>\n",
              "      <th>mean</th>\n",
              "      <th>must</th>\n",
              "      <th>nearly</th>\n",
              "      <th>need</th>\n",
              "      <th>really</th>\n",
              "      <th>said</th>\n",
              "      <th>take</th>\n",
              "      <th>thing</th>\n",
              "      <th>time</th>\n",
              "      <th>today</th>\n",
              "      <th>trip</th>\n",
              "      <th>virginamerica</th>\n",
              "      <th>vx</th>\n",
              "      <th>worm</th>\n",
              "      <th>yes</th>\n",
              "    </tr>\n",
              "  </thead>\n",
              "  <tbody>\n",
              "    <tr>\n",
              "      <th>0</th>\n",
              "      <td>0.00000</td>\n",
              "      <td>0.312008</td>\n",
              "      <td>0.000000</td>\n",
              "      <td>0.000000</td>\n",
              "      <td>0.000000</td>\n",
              "      <td>0.312008</td>\n",
              "      <td>0.312008</td>\n",
              "      <td>0.312008</td>\n",
              "      <td>0.312008</td>\n",
              "      <td>0.00000</td>\n",
              "      <td>0.00000</td>\n",
              "      <td>0.312008</td>\n",
              "      <td>0.00000</td>\n",
              "      <td>0.000000</td>\n",
              "      <td>0.000000</td>\n",
              "      <td>0.00000</td>\n",
              "      <td>0.000000</td>\n",
              "      <td>0.312008</td>\n",
              "      <td>0.00000</td>\n",
              "      <td>0.00000</td>\n",
              "      <td>0.162819</td>\n",
              "      <td>0.312008</td>\n",
              "      <td>0.312008</td>\n",
              "      <td>0.312008</td>\n",
              "    </tr>\n",
              "    <tr>\n",
              "      <th>1</th>\n",
              "      <td>0.00000</td>\n",
              "      <td>0.000000</td>\n",
              "      <td>0.000000</td>\n",
              "      <td>0.000000</td>\n",
              "      <td>0.663385</td>\n",
              "      <td>0.000000</td>\n",
              "      <td>0.000000</td>\n",
              "      <td>0.000000</td>\n",
              "      <td>0.000000</td>\n",
              "      <td>0.00000</td>\n",
              "      <td>0.00000</td>\n",
              "      <td>0.000000</td>\n",
              "      <td>0.00000</td>\n",
              "      <td>0.000000</td>\n",
              "      <td>0.663385</td>\n",
              "      <td>0.00000</td>\n",
              "      <td>0.000000</td>\n",
              "      <td>0.000000</td>\n",
              "      <td>0.00000</td>\n",
              "      <td>0.00000</td>\n",
              "      <td>0.346182</td>\n",
              "      <td>0.000000</td>\n",
              "      <td>0.000000</td>\n",
              "      <td>0.000000</td>\n",
              "    </tr>\n",
              "    <tr>\n",
              "      <th>2</th>\n",
              "      <td>0.37082</td>\n",
              "      <td>0.000000</td>\n",
              "      <td>0.000000</td>\n",
              "      <td>0.000000</td>\n",
              "      <td>0.000000</td>\n",
              "      <td>0.000000</td>\n",
              "      <td>0.000000</td>\n",
              "      <td>0.000000</td>\n",
              "      <td>0.000000</td>\n",
              "      <td>0.37082</td>\n",
              "      <td>0.37082</td>\n",
              "      <td>0.000000</td>\n",
              "      <td>0.37082</td>\n",
              "      <td>0.000000</td>\n",
              "      <td>0.000000</td>\n",
              "      <td>0.37082</td>\n",
              "      <td>0.000000</td>\n",
              "      <td>0.000000</td>\n",
              "      <td>0.37082</td>\n",
              "      <td>0.37082</td>\n",
              "      <td>0.193509</td>\n",
              "      <td>0.000000</td>\n",
              "      <td>0.000000</td>\n",
              "      <td>0.000000</td>\n",
              "    </tr>\n",
              "    <tr>\n",
              "      <th>3</th>\n",
              "      <td>0.00000</td>\n",
              "      <td>0.000000</td>\n",
              "      <td>0.483803</td>\n",
              "      <td>0.483803</td>\n",
              "      <td>0.000000</td>\n",
              "      <td>0.000000</td>\n",
              "      <td>0.000000</td>\n",
              "      <td>0.000000</td>\n",
              "      <td>0.000000</td>\n",
              "      <td>0.00000</td>\n",
              "      <td>0.00000</td>\n",
              "      <td>0.000000</td>\n",
              "      <td>0.00000</td>\n",
              "      <td>0.483803</td>\n",
              "      <td>0.000000</td>\n",
              "      <td>0.00000</td>\n",
              "      <td>0.483803</td>\n",
              "      <td>0.000000</td>\n",
              "      <td>0.00000</td>\n",
              "      <td>0.00000</td>\n",
              "      <td>0.252468</td>\n",
              "      <td>0.000000</td>\n",
              "      <td>0.000000</td>\n",
              "      <td>0.000000</td>\n",
              "    </tr>\n",
              "  </tbody>\n",
              "</table>\n",
              "</div>"
            ],
            "text/plain": [
              "   another      away       bad       big  dhepburn       ear     every  \\\n",
              "0  0.00000  0.312008  0.000000  0.000000  0.000000  0.312008  0.312008   \n",
              "1  0.00000  0.000000  0.000000  0.000000  0.663385  0.000000  0.000000   \n",
              "2  0.37082  0.000000  0.000000  0.000000  0.000000  0.000000  0.000000   \n",
              "3  0.00000  0.000000  0.483803  0.483803  0.000000  0.000000  0.000000   \n",
              "\n",
              "        fly        go     mean     must    nearly     need    really  \\\n",
              "0  0.312008  0.312008  0.00000  0.00000  0.312008  0.00000  0.000000   \n",
              "1  0.000000  0.000000  0.00000  0.00000  0.000000  0.00000  0.000000   \n",
              "2  0.000000  0.000000  0.37082  0.37082  0.000000  0.37082  0.000000   \n",
              "3  0.000000  0.000000  0.00000  0.00000  0.000000  0.00000  0.483803   \n",
              "\n",
              "       said     take     thing      time    today     trip  virginamerica  \\\n",
              "0  0.000000  0.00000  0.000000  0.312008  0.00000  0.00000       0.162819   \n",
              "1  0.663385  0.00000  0.000000  0.000000  0.00000  0.00000       0.346182   \n",
              "2  0.000000  0.37082  0.000000  0.000000  0.37082  0.37082       0.193509   \n",
              "3  0.000000  0.00000  0.483803  0.000000  0.00000  0.00000       0.252468   \n",
              "\n",
              "         vx      worm       yes  \n",
              "0  0.312008  0.312008  0.312008  \n",
              "1  0.000000  0.000000  0.000000  \n",
              "2  0.000000  0.000000  0.000000  \n",
              "3  0.000000  0.000000  0.000000  "
            ]
          },
          "execution_count": 140,
          "metadata": {},
          "output_type": "execute_result"
        }
      ],
      "source": [
        "df_tfidf = pd.DataFrame(X_train_tf_idf.toarray(), columns = tf_idf_vectorizer.get_feature_names())\n",
        "df_tfidf\n",
        "# virginamerica her satırda geçtiği için onu önemsizleştirmiş"
      ]
    },
    {
      "cell_type": "code",
      "execution_count": null,
      "metadata": {
        "id": "83l-GbWUU9nN",
        "outputId": "b9ff741a-3b11-4fec-d244-103907dd0ee9"
      },
      "outputs": [
        {
          "data": {
            "text/plain": [
              "'virginamerica yes nearly every time fly vx ear worm go away'"
            ]
          },
          "execution_count": 141,
          "metadata": {},
          "output_type": "execute_result"
        }
      ],
      "source": [
        "X_train[6]"
      ]
    },
    {
      "cell_type": "code",
      "execution_count": null,
      "metadata": {
        "id": "-pt8GnnMU9nN",
        "outputId": "0b8aa1d8-e354-444a-ca15-42d17eb0dfbf"
      },
      "outputs": [
        {
          "data": {
            "text/plain": [
              "another          0.370820\n",
              "mean             0.370820\n",
              "trip             0.370820\n",
              "today            0.370820\n",
              "take             0.370820\n",
              "must             0.370820\n",
              "need             0.370820\n",
              "virginamerica    0.193509\n",
              "fly              0.000000\n",
              "thing            0.000000\n",
              "worm             0.000000\n",
              "vx               0.000000\n",
              "bad              0.000000\n",
              "big              0.000000\n",
              "time             0.000000\n",
              "dhepburn         0.000000\n",
              "go               0.000000\n",
              "said             0.000000\n",
              "really           0.000000\n",
              "away             0.000000\n",
              "nearly           0.000000\n",
              "ear              0.000000\n",
              "every            0.000000\n",
              "yes              0.000000\n",
              "Name: 2, dtype: float64"
            ]
          },
          "execution_count": 142,
          "metadata": {},
          "output_type": "execute_result"
        }
      ],
      "source": [
        "df_tfidf.loc[2].sort_values(ascending=False)\n",
        "# yine en düşüğü virginamerica\n",
        "# aynı numeric değerler çıkmasının sebebi datamızın küçük olması"
      ]
    }
  ],
  "metadata": {
    "kernelspec": {
      "display_name": "Python 3 (ipykernel)",
      "language": "python",
      "name": "python3"
    },
    "language_info": {
      "codemirror_mode": {
        "name": "ipython",
        "version": 3
      },
      "file_extension": ".py",
      "mimetype": "text/x-python",
      "name": "python",
      "nbconvert_exporter": "python",
      "pygments_lexer": "ipython3",
      "version": "3.7.9"
    },
    "colab": {
      "name": "NLP-1 (Data Cleaning-Vectorization)(TR)-24 Mar 2022.ipynb",
      "provenance": [],
      "include_colab_link": true
    }
  },
  "nbformat": 4,
  "nbformat_minor": 0
}