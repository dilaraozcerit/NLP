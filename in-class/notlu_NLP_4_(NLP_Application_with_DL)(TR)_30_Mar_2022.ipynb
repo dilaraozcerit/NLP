{
 "cells": [
  {
   "cell_type": "markdown",
   "metadata": {
    "id": "6X73SBpsMP26"
   },
   "source": [
    "## NLP with DL"
   ]
  },
  {
   "cell_type": "code",
   "execution_count": 4,
   "metadata": {
    "colab": {
     "base_uri": "https://localhost:8080/"
    },
    "id": "cgJ_HalfMSVB",
    "outputId": "3681863c-8a80-4195-f9aa-1e7c87f55e7d"
   },
   "outputs": [
    {
     "name": "stdout",
     "output_type": "stream",
     "text": [
      "Mounted at /content/drive\n"
     ]
    }
   ],
   "source": [
    "from google.colab import drive\n",
    "drive.mount('/content/drive')"
   ]
  },
  {
   "cell_type": "markdown",
   "metadata": {
    "id": "0Y6XdY0zMP3B"
   },
   "source": [
    "## Import libraries"
   ]
  },
  {
   "cell_type": "code",
   "execution_count": 5,
   "metadata": {
    "id": "yt8uihaEMP3B"
   },
   "outputs": [],
   "source": [
    "import numpy as np\n",
    "import pandas as pd\n",
    "from tensorflow.keras.models import Sequential\n",
    "from tensorflow.keras.layers import Dense, GRU, Embedding, Dropout, BatchNormalization, Activation\n",
    "from tensorflow.keras.optimizers import Adam\n",
    "from tensorflow.keras.preprocessing.text import Tokenizer\n",
    "from tensorflow.keras.preprocessing.sequence import pad_sequences"
   ]
  },
  {
   "cell_type": "markdown",
   "metadata": {},
   "source": [
    "Datasetimiz hepsiburada musterilerinin olumlu ve olumsuz yorumlarindan olusuyor : "
   ]
  },
  {
   "cell_type": "code",
   "execution_count": 6,
   "metadata": {
    "id": "lN-e8sK4MP3D"
   },
   "outputs": [],
   "source": [
    "df = pd.read_csv('/content/drive/MyDrive/hepsiburada.csv')"
   ]
  },
  {
   "cell_type": "code",
   "execution_count": 8,
   "metadata": {
    "colab": {
     "base_uri": "https://localhost:8080/",
     "height": 206
    },
    "id": "kBw6YugKMP3D",
    "outputId": "8c114d08-815c-470b-d5fc-c1555fd6a38b"
   },
   "outputs": [
    {
     "data": {
      "text/html": [
       "\n",
       "  <div id=\"df-b55f2fcd-283c-48c3-a066-2982ba914aea\">\n",
       "    <div class=\"colab-df-container\">\n",
       "      <div>\n",
       "<style scoped>\n",
       "    .dataframe tbody tr th:only-of-type {\n",
       "        vertical-align: middle;\n",
       "    }\n",
       "\n",
       "    .dataframe tbody tr th {\n",
       "        vertical-align: top;\n",
       "    }\n",
       "\n",
       "    .dataframe thead th {\n",
       "        text-align: right;\n",
       "    }\n",
       "</style>\n",
       "<table border=\"1\" class=\"dataframe\">\n",
       "  <thead>\n",
       "    <tr style=\"text-align: right;\">\n",
       "      <th></th>\n",
       "      <th>Rating</th>\n",
       "      <th>Review</th>\n",
       "    </tr>\n",
       "  </thead>\n",
       "  <tbody>\n",
       "    <tr>\n",
       "      <th>0</th>\n",
       "      <td>1</td>\n",
       "      <td>3 yıldır tık demedi. :)</td>\n",
       "    </tr>\n",
       "    <tr>\n",
       "      <th>1</th>\n",
       "      <td>1</td>\n",
       "      <td>3 yıldır kullanıyorum müthiş</td>\n",
       "    </tr>\n",
       "    <tr>\n",
       "      <th>2</th>\n",
       "      <td>1</td>\n",
       "      <td>Ürün bugün elime geçti çok fazla inceleme fırs...</td>\n",
       "    </tr>\n",
       "    <tr>\n",
       "      <th>3</th>\n",
       "      <td>1</td>\n",
       "      <td>Almaya karar verdim. Hemencecik geldi. Keyifle...</td>\n",
       "    </tr>\n",
       "    <tr>\n",
       "      <th>4</th>\n",
       "      <td>1</td>\n",
       "      <td>Günlük kullanımınızı çok çok iyi karsılıyor kı...</td>\n",
       "    </tr>\n",
       "  </tbody>\n",
       "</table>\n",
       "</div>\n",
       "      <button class=\"colab-df-convert\" onclick=\"convertToInteractive('df-b55f2fcd-283c-48c3-a066-2982ba914aea')\"\n",
       "              title=\"Convert this dataframe to an interactive table.\"\n",
       "              style=\"display:none;\">\n",
       "        \n",
       "  <svg xmlns=\"http://www.w3.org/2000/svg\" height=\"24px\"viewBox=\"0 0 24 24\"\n",
       "       width=\"24px\">\n",
       "    <path d=\"M0 0h24v24H0V0z\" fill=\"none\"/>\n",
       "    <path d=\"M18.56 5.44l.94 2.06.94-2.06 2.06-.94-2.06-.94-.94-2.06-.94 2.06-2.06.94zm-11 1L8.5 8.5l.94-2.06 2.06-.94-2.06-.94L8.5 2.5l-.94 2.06-2.06.94zm10 10l.94 2.06.94-2.06 2.06-.94-2.06-.94-.94-2.06-.94 2.06-2.06.94z\"/><path d=\"M17.41 7.96l-1.37-1.37c-.4-.4-.92-.59-1.43-.59-.52 0-1.04.2-1.43.59L10.3 9.45l-7.72 7.72c-.78.78-.78 2.05 0 2.83L4 21.41c.39.39.9.59 1.41.59.51 0 1.02-.2 1.41-.59l7.78-7.78 2.81-2.81c.8-.78.8-2.07 0-2.86zM5.41 20L4 18.59l7.72-7.72 1.47 1.35L5.41 20z\"/>\n",
       "  </svg>\n",
       "      </button>\n",
       "      \n",
       "  <style>\n",
       "    .colab-df-container {\n",
       "      display:flex;\n",
       "      flex-wrap:wrap;\n",
       "      gap: 12px;\n",
       "    }\n",
       "\n",
       "    .colab-df-convert {\n",
       "      background-color: #E8F0FE;\n",
       "      border: none;\n",
       "      border-radius: 50%;\n",
       "      cursor: pointer;\n",
       "      display: none;\n",
       "      fill: #1967D2;\n",
       "      height: 32px;\n",
       "      padding: 0 0 0 0;\n",
       "      width: 32px;\n",
       "    }\n",
       "\n",
       "    .colab-df-convert:hover {\n",
       "      background-color: #E2EBFA;\n",
       "      box-shadow: 0px 1px 2px rgba(60, 64, 67, 0.3), 0px 1px 3px 1px rgba(60, 64, 67, 0.15);\n",
       "      fill: #174EA6;\n",
       "    }\n",
       "\n",
       "    [theme=dark] .colab-df-convert {\n",
       "      background-color: #3B4455;\n",
       "      fill: #D2E3FC;\n",
       "    }\n",
       "\n",
       "    [theme=dark] .colab-df-convert:hover {\n",
       "      background-color: #434B5C;\n",
       "      box-shadow: 0px 1px 3px 1px rgba(0, 0, 0, 0.15);\n",
       "      filter: drop-shadow(0px 1px 2px rgba(0, 0, 0, 0.3));\n",
       "      fill: #FFFFFF;\n",
       "    }\n",
       "  </style>\n",
       "\n",
       "      <script>\n",
       "        const buttonEl =\n",
       "          document.querySelector('#df-b55f2fcd-283c-48c3-a066-2982ba914aea button.colab-df-convert');\n",
       "        buttonEl.style.display =\n",
       "          google.colab.kernel.accessAllowed ? 'block' : 'none';\n",
       "\n",
       "        async function convertToInteractive(key) {\n",
       "          const element = document.querySelector('#df-b55f2fcd-283c-48c3-a066-2982ba914aea');\n",
       "          const dataTable =\n",
       "            await google.colab.kernel.invokeFunction('convertToInteractive',\n",
       "                                                     [key], {});\n",
       "          if (!dataTable) return;\n",
       "\n",
       "          const docLinkHtml = 'Like what you see? Visit the ' +\n",
       "            '<a target=\"_blank\" href=https://colab.research.google.com/notebooks/data_table.ipynb>data table notebook</a>'\n",
       "            + ' to learn more about interactive tables.';\n",
       "          element.innerHTML = '';\n",
       "          dataTable['output_type'] = 'display_data';\n",
       "          await google.colab.output.renderOutput(dataTable, element);\n",
       "          const docLink = document.createElement('div');\n",
       "          docLink.innerHTML = docLinkHtml;\n",
       "          element.appendChild(docLink);\n",
       "        }\n",
       "      </script>\n",
       "    </div>\n",
       "  </div>\n",
       "  "
      ],
      "text/plain": [
       "   Rating                                             Review\n",
       "0       1                            3 yıldır tık demedi. :)\n",
       "1       1                      3 yıldır kullanıyorum müthiş \n",
       "2       1  Ürün bugün elime geçti çok fazla inceleme fırs...\n",
       "3       1  Almaya karar verdim. Hemencecik geldi. Keyifle...\n",
       "4       1  Günlük kullanımınızı çok çok iyi karsılıyor kı..."
      ]
     },
     "execution_count": 8,
     "metadata": {},
     "output_type": "execute_result"
    }
   ],
   "source": [
    "df.head()"
   ]
  },
  {
   "cell_type": "markdown",
   "metadata": {},
   "source": [
    "Datada hic NaN deger yok. (NLP modellerinde NaN deger oldugu zaman doldurulmaz, silinir.)"
   ]
  },
  {
   "cell_type": "code",
   "execution_count": 9,
   "metadata": {
    "colab": {
     "base_uri": "https://localhost:8080/"
    },
    "id": "Wd9UfbvsSWJ5",
    "outputId": "4877b03e-4640-421d-a5c1-64c18a8a7c9d"
   },
   "outputs": [
    {
     "name": "stdout",
     "output_type": "stream",
     "text": [
      "<class 'pandas.core.frame.DataFrame'>\n",
      "RangeIndex: 243497 entries, 0 to 243496\n",
      "Data columns (total 2 columns):\n",
      " #   Column  Non-Null Count   Dtype \n",
      "---  ------  --------------   ----- \n",
      " 0   Rating  243497 non-null  int64 \n",
      " 1   Review  243497 non-null  object\n",
      "dtypes: int64(1), object(1)\n",
      "memory usage: 3.7+ MB\n"
     ]
    }
   ],
   "source": [
    "df.info()"
   ]
  },
  {
   "cell_type": "markdown",
   "metadata": {},
   "source": [
    "__Rating -->__ 1 : Olumlu yorumlar, 0 : Olumsuz yorumlar."
   ]
  },
  {
   "cell_type": "code",
   "execution_count": 10,
   "metadata": {
    "colab": {
     "base_uri": "https://localhost:8080/"
    },
    "id": "2l26CUKCSaig",
    "outputId": "a4d63885-cd0e-45ed-ebe1-f04477c9819f"
   },
   "outputs": [
    {
     "data": {
      "text/plain": [
       "1    229821\n",
       "0     13676\n",
       "Name: Rating, dtype: int64"
      ]
     },
     "execution_count": 10,
     "metadata": {},
     "output_type": "execute_result"
    }
   ],
   "source": [
    "df.Rating.value_counts()"
   ]
  },
  {
   "cell_type": "markdown",
   "metadata": {},
   "source": [
    "Ilgilenilen class hangisi ise onun class' i 1 olmasi gerekir. Biz olumsuz yorumlarla ilgilendigimiz icin 1 ve 0' in yerlerini degistirdik :"
   ]
  },
  {
   "cell_type": "code",
   "execution_count": 11,
   "metadata": {
    "id": "bc9I6PMBSyRe"
   },
   "outputs": [],
   "source": [
    "df.Rating = df.Rating.map({1:0, 0:1})"
   ]
  },
  {
   "cell_type": "code",
   "execution_count": 12,
   "metadata": {
    "colab": {
     "base_uri": "https://localhost:8080/"
    },
    "id": "Zvc0d7vCTNis",
    "outputId": "1516d19f-f328-4258-a93c-d50504153921"
   },
   "outputs": [
    {
     "data": {
      "text/plain": [
       "0    229821\n",
       "1     13676\n",
       "Name: Rating, dtype: int64"
      ]
     },
     "execution_count": 12,
     "metadata": {},
     "output_type": "execute_result"
    }
   ],
   "source": [
    "df.Rating.value_counts()"
   ]
  },
  {
   "cell_type": "markdown",
   "metadata": {},
   "source": [
    "Class' larin bulunma yuzdesine bakmak icin asagidaki kodu yazdik. value_counts sadece series' lere uygulandigi icin array' i series' e cevirdik. Corpusta %95 olumlu yorum, %5 olumsuz yorum var. Asagidaki skorlara baktiktan sonra datasetimizin dengesiz olup olmadigina karar verecegiz :"
   ]
  },
  {
   "cell_type": "code",
   "execution_count": 13,
   "metadata": {
    "colab": {
     "base_uri": "https://localhost:8080/"
    },
    "id": "ZFyOtp72cZIJ",
    "outputId": "f9da1f35-0ee1-4f12-c098-081e14c6c649"
   },
   "outputs": [
    {
     "data": {
      "text/plain": [
       "0    0.943835\n",
       "1    0.056165\n",
       "Name: Rating, dtype: float64"
      ]
     },
     "execution_count": 13,
     "metadata": {},
     "output_type": "execute_result"
    }
   ],
   "source": [
    "pd.Series(df.Rating).value_counts(normalize=True)"
   ]
  },
  {
   "cell_type": "markdown",
   "metadata": {
    "id": "ErzHzxUOMP3F"
   },
   "source": [
    "## Tokenization"
   ]
  },
  {
   "cell_type": "markdown",
   "metadata": {},
   "source": [
    "X ve y' nin sonuna 'values' koyarak array' e cevirdik. Hem DL modelleri array ile calisir hem de array' ler daha hizli calisir :"
   ]
  },
  {
   "cell_type": "code",
   "execution_count": 14,
   "metadata": {
    "id": "amDd007iMP3F"
   },
   "outputs": [],
   "source": [
    "X = df['Review'].values\n",
    "y = df['Rating'].values"
   ]
  },
  {
   "cell_type": "markdown",
   "metadata": {},
   "source": [
    "__Tokenizer -->__ Tensorflow kutuphanesinin tokenizer islemlerini yapmak icin kullandigi fonksiyondur."
   ]
  },
  {
   "cell_type": "markdown",
   "metadata": {},
   "source": [
    "__Tokenizer Parametreleri__"
   ]
  },
  {
   "cell_type": "markdown",
   "metadata": {},
   "source": [
    "__lower -->__ Kucuk harfe cevir. (Default=True)"
   ]
  },
  {
   "cell_type": "markdown",
   "metadata": {},
   "source": [
    "__filters -->__ Datada temizlenmek istenen ozel karakterler buna yazilir. Sayilar cikarilmak isteniyorsa icerisine manuel olarak dahil edilebilir. (DL modellerinde temizlenmese de olur fakat bunlar datada noise yaptiklari icin temizlenmesi daha uygundur. DL modellerinde sadece noktalama isaretlerini temizlememiz ve kucuk harfe donusturmemiz yeterli olur. DL modellerinde, ML modellerinde oldugu gibi Stop word veya Lemmatization islemlerini yapmaya gerek yoktur.)"
   ]
  },
  {
   "cell_type": "markdown",
   "metadata": {},
   "source": [
    "__num_words -->__ Egitime girecek token sayisina karar verir. Best practise olarak ozellikle classification islemlerinde corpusta en fazla gecen 10 bin, 15 bin kadar tokenin model egitimi icin yeterli oldugu gorulmus, istege gore daha fazlasi da alinabilir fakat bu da calisma maliyeti olarak geri doner. (Default=None --> Corpustaki tum tokenleri al)"
   ]
  },
  {
   "cell_type": "code",
   "execution_count": 15,
   "metadata": {
    "id": "3ltwlIS9MP3G"
   },
   "outputs": [],
   "source": [
    "num_words = 15000    # corpusta geçen en fazla kullanılan ilk 15.000 kelimeyi(tokeni) alacağız gerisini yok sayacağız. \n",
    "# None değeri atanırsa tüm kelimeler dikkate alınır."
   ]
  },
  {
   "cell_type": "markdown",
   "metadata": {},
   "source": [
    "Biz sayilarin kalmasini istedik cunku bazen musteriler puanlarla da yorumlama yapabilirler (10 numara gibi)."
   ]
  },
  {
   "cell_type": "markdown",
   "metadata": {},
   "source": [
    "num_words' u 15000 olarak belirledik ve bir degiskene atadik. Tokenizer icindeki baska herhangi bir parametreyle oynamadan Tokenizer islemini tamamladik :"
   ]
  },
  {
   "cell_type": "code",
   "execution_count": null,
   "metadata": {},
   "outputs": [],
   "source": [
    "tokenizer = Tokenizer(num_words=num_words) #filters='!\"#$%&()*+,-./:;<=>?@[\\\\]^_`{|}~\\t\\n1234567890' "
   ]
  },
  {
   "cell_type": "markdown",
   "metadata": {},
   "source": [
    "__fit_on_texts -->__ _\"Tokenization islemini X' e uygula\"._ Icerisine X corpusunu array seklinde verdik. Tokenizer icinde olusturdugumuz sartlara gore corpusta en fazla gecen ilk 15000 tokeni ayirdi ve sadece bunlara tokenization islemi yapti. "
   ]
  },
  {
   "cell_type": "code",
   "execution_count": 17,
   "metadata": {
    "id": "7QnzlbfrMP3H"
   },
   "outputs": [],
   "source": [
    "tokenizer.fit_on_texts(X)"
   ]
  },
  {
   "cell_type": "markdown",
   "metadata": {
    "id": "qbBLA65iMP3I"
   },
   "source": [
    "## Creating word index"
   ]
  },
  {
   "cell_type": "markdown",
   "metadata": {},
   "source": [
    "__tokenizer.word_index -->__ Dictionary icinde corpusta en fazla kullanilan tokenleri sirasiyla verir. En cok kullanilan token \"cok\" tokeniymis."
   ]
  },
  {
   "cell_type": "markdown",
   "metadata": {},
   "source": [
    "Modele girmeden once tokenler sayisal verilere donusur. Kuracagimiz modelde de asagidaki her token karsisindaki sayiya donusecek :"
   ]
  },
  {
   "cell_type": "code",
   "execution_count": 18,
   "metadata": {
    "colab": {
     "base_uri": "https://localhost:8080/"
    },
    "id": "ujCeRckiMP3I",
    "outputId": "b4908006-147d-47fa-c7f2-c356e7b6294b"
   },
   "outputs": [
    {
     "data": {
      "text/plain": [
       "{'çok': 1,\n",
       " 'bir': 2,\n",
       " 've': 3,\n",
       " 'ürün': 4,\n",
       " 'bu': 5,\n",
       " 'iyi': 6,\n",
       " 'güzel': 7,\n",
       " 'için': 8,\n",
       " 'tavsiye': 9,\n",
       " 'ederim': 10,\n",
       " 'daha': 11,\n",
       " 'ama': 12,\n",
       " 'da': 13,\n",
       " 'gayet': 14,\n",
       " 'hızlı': 15,\n",
       " 'teşekkürler': 16,\n",
       " 'aldım': 17,\n",
       " 'de': 18,\n",
       " 'ürünü': 19,\n",
       " 'gibi': 20,\n",
       " 'yok': 21,\n",
       " 'uygun': 22,\n",
       " 'olarak': 23,\n",
       " 'kaliteli': 24,\n",
       " 'en': 25,\n",
       " '2': 26,\n",
       " 'kargo': 27,\n",
       " 'fiyat': 28,\n",
       " 'elime': 29,\n",
       " 'kadar': 30,\n",
       " 'ile': 31,\n",
       " 'göre': 32,\n",
       " 'geldi': 33,\n",
       " 'var': 34,\n",
       " 'hepsiburada': 35,\n",
       " 'ben': 36,\n",
       " 'gerçekten': 37,\n",
       " '1': 38,\n",
       " 'fiyata': 39,\n",
       " 'gün': 40,\n",
       " 'sonra': 41,\n",
       " 'cok': 42,\n",
       " 'kesinlikle': 43,\n",
       " 'telefon': 44,\n",
       " 'biraz': 45,\n",
       " 'hiç': 46,\n",
       " 'ulaştı': 47,\n",
       " 'memnun': 48,\n",
       " 'hem': 49,\n",
       " 'değil': 50,\n",
       " 'kullanışlı': 51,\n",
       " '3': 52,\n",
       " 'mükemmel': 53,\n",
       " 'oldu': 54,\n",
       " 'kullanıyorum': 55,\n",
       " 'önce': 56,\n",
       " 'sipariş': 57,\n",
       " 'tek': 58,\n",
       " 'her': 59,\n",
       " 'bence': 60,\n",
       " 'harika': 61,\n",
       " 'kalitesi': 62,\n",
       " 'bi': 63,\n",
       " 'ayrıca': 64,\n",
       " '5': 65,\n",
       " 'teşekkür': 66,\n",
       " 'fiyatı': 67,\n",
       " 'olması': 68,\n",
       " 'ne': 69,\n",
       " 'herkese': 70,\n",
       " 'bile': 71,\n",
       " 'uzun': 72,\n",
       " 'süper': 73,\n",
       " 'tam': 74,\n",
       " 'zaten': 75,\n",
       " 'fazla': 76,\n",
       " 'ilk': 77,\n",
       " 'o': 78,\n",
       " 'başarılı': 79,\n",
       " 'fakat': 80,\n",
       " 'memnunum': 81,\n",
       " 'ancak': 82,\n",
       " 'ediyorum': 83,\n",
       " 'şarj': 84,\n",
       " 'saat': 85,\n",
       " 'fiyatına': 86,\n",
       " 'oldukça': 87,\n",
       " 'hemen': 88,\n",
       " 'şekilde': 89,\n",
       " 'ses': 90,\n",
       " 'hepsi': 91,\n",
       " 'gerek': 92,\n",
       " 'rahat': 93,\n",
       " 'aynı': 94,\n",
       " '4': 95,\n",
       " 'şık': 96,\n",
       " 'verdim': 97,\n",
       " 'kolay': 98,\n",
       " 'diye': 99,\n",
       " 'ki': 100,\n",
       " 'sadece': 101,\n",
       " 'kaldım': 102,\n",
       " 'diğer': 103,\n",
       " 'büyük': 104,\n",
       " 'sorun': 105,\n",
       " 'alın': 106,\n",
       " 'burada': 107,\n",
       " 'kısa': 108,\n",
       " 'ürünün': 109,\n",
       " 'sorunsuz': 110,\n",
       " 'performans': 111,\n",
       " 'içinde': 112,\n",
       " 'olan': 113,\n",
       " 'günde': 114,\n",
       " 'olsun': 115,\n",
       " 'küçük': 116,\n",
       " 'urun': 117,\n",
       " '10': 118,\n",
       " 'benim': 119,\n",
       " 'başka': 120,\n",
       " 'iki': 121,\n",
       " 'olduğu': 122,\n",
       " 'teslimat': 123,\n",
       " 'com': 124,\n",
       " 'arkadaşlar': 125,\n",
       " 'sağlam': 126,\n",
       " 'oluyor': 127,\n",
       " 'teslim': 128,\n",
       " 'ettim': 129,\n",
       " 'zaman': 130,\n",
       " 'kalite': 131,\n",
       " 'almak': 132,\n",
       " 'az': 133,\n",
       " 'telefonu': 134,\n",
       " 'yeni': 135,\n",
       " 'cihaz': 136,\n",
       " 'marka': 137,\n",
       " 'son': 138,\n",
       " 'koku': 139,\n",
       " 'ise': 140,\n",
       " 'kullandım': 141,\n",
       " 'kokusu': 142,\n",
       " 'derim': 143,\n",
       " 'olduğunu': 144,\n",
       " 'özellikle': 145,\n",
       " 'beğendim': 146,\n",
       " 'sıkıntı': 147,\n",
       " 'ucuz': 148,\n",
       " 'rağmen': 149,\n",
       " 'geçti': 150,\n",
       " 'geliyor': 151,\n",
       " 'guzel': 152,\n",
       " 'bana': 153,\n",
       " 'ya': 154,\n",
       " 'ideal': 155,\n",
       " 'orjinal': 156,\n",
       " 'almıştım': 157,\n",
       " 'yeterli': 158,\n",
       " 'tane': 159,\n",
       " 'hediye': 160,\n",
       " 'sürede': 161,\n",
       " 'yani': 162,\n",
       " 'normal': 163,\n",
       " 'yaklaşık': 164,\n",
       " 'ediyor': 165,\n",
       " 'hafif': 166,\n",
       " 'bunu': 167,\n",
       " 'ekran': 168,\n",
       " 'aldığım': 169,\n",
       " 'veriyor': 170,\n",
       " '6': 171,\n",
       " 'yüksek': 172,\n",
       " 'tüm': 173,\n",
       " 'pişman': 174,\n",
       " 'tercih': 175,\n",
       " 'düşünmeden': 176,\n",
       " 'kötü': 177,\n",
       " 'düşünüyorum': 178,\n",
       " 'numara': 179,\n",
       " 'bi̇r': 180,\n",
       " 'süre': 181,\n",
       " 'kullanımı': 182,\n",
       " 'çıktı': 183,\n",
       " 'günü': 184,\n",
       " 'su': 185,\n",
       " 'adet': 186,\n",
       " 'şey': 187,\n",
       " 'hemde': 188,\n",
       " 'icin': 189,\n",
       " 'hizli': 190,\n",
       " 'çalışıyor': 191,\n",
       " 'ay': 192,\n",
       " 'hb': 193,\n",
       " 'hafta': 194,\n",
       " 'sesi': 195,\n",
       " 'alışveriş': 196,\n",
       " 'farklı': 197,\n",
       " 'kitap': 198,\n",
       " 'yine': 199,\n",
       " 'böyle': 200,\n",
       " 'zor': 201,\n",
       " 'alabilirsiniz': 202,\n",
       " 'hızı': 203,\n",
       " 'çünkü': 204,\n",
       " 'para': 205,\n",
       " 'ertesi': 206,\n",
       " 'bende': 207,\n",
       " 'kullanım': 208,\n",
       " 'sürekli': 209,\n",
       " 'duruyor': 210,\n",
       " 'aldim': 211,\n",
       " 'olur': 212,\n",
       " 'hoş': 213,\n",
       " 'artık': 214,\n",
       " 'yapıyor': 215,\n",
       " 'konusunda': 216,\n",
       " 'yorumlara': 217,\n",
       " 'gönderi': 218,\n",
       " 'olsa': 219,\n",
       " 'gücü': 220,\n",
       " 'şu': 221,\n",
       " 'vardı': 222,\n",
       " 'üründen': 223,\n",
       " 'malzeme': 224,\n",
       " 'biri': 225,\n",
       " 'pratik': 226,\n",
       " 'dışında': 227,\n",
       " 'defa': 228,\n",
       " 'kullandığım': 229,\n",
       " 'şimdi': 230,\n",
       " 'diş': 231,\n",
       " 'samsung': 232,\n",
       " 'onun': 233,\n",
       " 'bugün': 234,\n",
       " 'özelliği': 235,\n",
       " 'iş': 236,\n",
       " 'kurulumu': 237,\n",
       " 'tereddüt': 238,\n",
       " 'şarjı': 239,\n",
       " 'i̇lk': 240,\n",
       " '7': 241,\n",
       " 'ince': 242,\n",
       " 'gelen': 243,\n",
       " 'kullanmaya': 244,\n",
       " 'diyebilirim': 245,\n",
       " 'almayı': 246,\n",
       " 'pek': 247,\n",
       " 'aldık': 248,\n",
       " 'denedim': 249,\n",
       " '8': 250,\n",
       " 'tekrar': 251,\n",
       " 'çabuk': 252,\n",
       " 'karar': 253,\n",
       " 'kez': 254,\n",
       " 'sahip': 255,\n",
       " 'kendi': 256,\n",
       " 'basit': 257,\n",
       " 'dolayı': 258,\n",
       " 'derece': 259,\n",
       " 'veya': 260,\n",
       " 'kamera': 261,\n",
       " 'pil': 262,\n",
       " 'hiçbir': 263,\n",
       " 'öncelikle': 264,\n",
       " 'açısından': 265,\n",
       " 'iphone': 266,\n",
       " 'sonuç': 267,\n",
       " 'yanında': 268,\n",
       " 'sessiz': 269,\n",
       " 'pahalı': 270,\n",
       " 'işe': 271,\n",
       " 'gidiyor': 272,\n",
       " 'dan': 273,\n",
       " 'olmadı': 274,\n",
       " 'öyle': 275,\n",
       " 'tesekkurler': 276,\n",
       " 'bunun': 277,\n",
       " 'beni': 278,\n",
       " 'varsa': 279,\n",
       " 'yer': 280,\n",
       " 'gece': 281,\n",
       " 'zamanında': 282,\n",
       " 'yorum': 283,\n",
       " 'performansı': 284,\n",
       " 'parfüm': 285,\n",
       " 'evde': 286,\n",
       " 'belli': 287,\n",
       " 'eğer': 288,\n",
       " 'oyun': 289,\n",
       " 'ağır': 290,\n",
       " 'iyisi': 291,\n",
       " 'arada': 292,\n",
       " 'mutlaka': 293,\n",
       " 'zamanda': 294,\n",
       " 'usb': 295,\n",
       " 'ufak': 296,\n",
       " 'üzerinde': 297,\n",
       " 'hatta': 298,\n",
       " 'fark': 299,\n",
       " 'gönül': 300,\n",
       " 'paketleme': 301,\n",
       " 'eşim': 302,\n",
       " 'alacak': 303,\n",
       " '15': 304,\n",
       " 'gereken': 305,\n",
       " 'doğru': 306,\n",
       " 'eski': 307,\n",
       " 'herhangi': 308,\n",
       " 'aydır': 309,\n",
       " 'tl': 310,\n",
       " 'kalıcı': 311,\n",
       " 'rahatlıkla': 312,\n",
       " 'vs': 313,\n",
       " 'satın': 314,\n",
       " 'alınabilecek': 315,\n",
       " 'bundan': 316,\n",
       " 'farkı': 317,\n",
       " 'görüntü': 318,\n",
       " 'lazım': 319,\n",
       " 'gercekten': 320,\n",
       " 'şiddetle': 321,\n",
       " 'kullanmak': 322,\n",
       " 'kaçırmayın': 323,\n",
       " 'alırken': 324,\n",
       " 'kargoya': 325,\n",
       " 'yaşamadım': 326,\n",
       " 'mi': 327,\n",
       " 'yaptım': 328,\n",
       " 'prima': 329,\n",
       " 'birlikte': 330,\n",
       " 'gördüm': 331,\n",
       " 'gerekiyor': 332,\n",
       " 'telefonun': 333,\n",
       " 'ürünler': 334,\n",
       " 'ayrı': 335,\n",
       " 'önemli': 336,\n",
       " 'sayesinde': 337,\n",
       " 'bütün': 338,\n",
       " 'yıl': 339,\n",
       " 'gb': 340,\n",
       " 'alalı': 341,\n",
       " 'beklediğimden': 342,\n",
       " 'almaya': 343,\n",
       " 'yerde': 344,\n",
       " 'olmasına': 345,\n",
       " 'tv': 346,\n",
       " 'sabah': 347,\n",
       " 'devam': 348,\n",
       " 'kutu': 349,\n",
       " 'henüz': 350,\n",
       " 'falan': 351,\n",
       " 'sorunu': 352,\n",
       " 'tabi': 353,\n",
       " 'a': 354,\n",
       " '20': 355,\n",
       " 'bakarak': 356,\n",
       " 'sanırım': 357,\n",
       " 'hepsiburadaya': 358,\n",
       " 'kulaklık': 359,\n",
       " 'süresi': 360,\n",
       " 'hala': 361,\n",
       " 'muhteşem': 362,\n",
       " 'dikkat': 363,\n",
       " 'güvenilir': 364,\n",
       " 'rahatsız': 365,\n",
       " 'edilir': 366,\n",
       " 'çıkıyor': 367,\n",
       " 'alıp': 368,\n",
       " 'yüzden': 369,\n",
       " 'toz': 370,\n",
       " 'kere': 371,\n",
       " 'orijinal': 372,\n",
       " 'sağlıyor': 373,\n",
       " 'kamerası': 374,\n",
       " 'dün': 375,\n",
       " 'ürüne': 376,\n",
       " 'düşük': 377,\n",
       " 'spor': 378,\n",
       " 'i̇yi': 379,\n",
       " 'problem': 380,\n",
       " 'öneririm': 381,\n",
       " 'edildi': 382,\n",
       " 'plastik': 383,\n",
       " 'içerisinde': 384,\n",
       " 'makine': 385,\n",
       " 'beri': 386,\n",
       " 'fazlasıyla': 387,\n",
       " 'baya': 388,\n",
       " 'kullanımda': 389,\n",
       " '30': 390,\n",
       " 'tavsi̇ye': 391,\n",
       " 'an': 392,\n",
       " 'yalnız': 393,\n",
       " 'özellikleri': 394,\n",
       " 'on': 395,\n",
       " 'den': 396,\n",
       " 'satıcı': 397,\n",
       " 'ilgili': 398,\n",
       " 'genel': 399,\n",
       " 'oldum': 400,\n",
       " 'kaç': 401,\n",
       " 'etkili': 402,\n",
       " 'sıcak': 403,\n",
       " 'haftadır': 404,\n",
       " 'üstelik': 405,\n",
       " 'fiyatıda': 406,\n",
       " 'olmuş': 407,\n",
       " '24': 408,\n",
       " 'yada': 409,\n",
       " 'hep': 410,\n",
       " 'üst': 411,\n",
       " 'olabilir': 412,\n",
       " 'paket': 413,\n",
       " 'bazı': 414,\n",
       " 'almışım': 415,\n",
       " 'güçlü': 416,\n",
       " 'piyasada': 417,\n",
       " 'yerine': 418,\n",
       " 'arasında': 419,\n",
       " 'renk': 420,\n",
       " 'inanılmaz': 421,\n",
       " 'arkadaşlara': 422,\n",
       " 'paraya': 423,\n",
       " 'kurulum': 424,\n",
       " 'umarım': 425,\n",
       " 'sert': 426,\n",
       " 'kitabı': 427,\n",
       " 'ederi̇m': 428,\n",
       " 'olmuyor': 429,\n",
       " 'fena': 430,\n",
       " 'gitti': 431,\n",
       " 'servis': 432,\n",
       " 'altında': 433,\n",
       " 'üzerine': 434,\n",
       " 'nasıl': 435,\n",
       " 'birde': 436,\n",
       " 'ye': 437,\n",
       " 'gelince': 438,\n",
       " 'birşey': 439,\n",
       " 'note': 440,\n",
       " 'yorumları': 441,\n",
       " 'başladım': 442,\n",
       " 'olanlar': 443,\n",
       " 'ön': 444,\n",
       " '0': 445,\n",
       " 'dk': 446,\n",
       " 'üründe': 447,\n",
       " 'sanki': 448,\n",
       " 'kalitesini': 449,\n",
       " 'i̇yi̇': 450,\n",
       " 'sarj': 451,\n",
       " 'almadan': 452,\n",
       " 'etti': 453,\n",
       " 'alıyorum': 454,\n",
       " 'ev': 455,\n",
       " 'cihazı': 456,\n",
       " 'kullanıyoruz': 457,\n",
       " 'geç': 458,\n",
       " 'eşime': 459,\n",
       " 'görünce': 460,\n",
       " 'memnunuz': 461,\n",
       " 'yıldır': 462,\n",
       " 'edici': 463,\n",
       " 'bez': 464,\n",
       " 'arka': 465,\n",
       " 'saatte': 466,\n",
       " 'anda': 467,\n",
       " 'tamamen': 468,\n",
       " 'hizmet': 469,\n",
       " 'çekim': 470,\n",
       " 'herkes': 471,\n",
       " 'parmak': 472,\n",
       " 'akşam': 473,\n",
       " 'tutuyor': 474,\n",
       " 'geçen': 475,\n",
       " 'gore': 476,\n",
       " 'android': 477,\n",
       " 'elimize': 478,\n",
       " '12': 479,\n",
       " 'telefona': 480,\n",
       " 'temizlik': 481,\n",
       " 'görünüyor': 482,\n",
       " 'yumuşak': 483,\n",
       " 'kablo': 484,\n",
       " 'buradan': 485,\n",
       " '100': 486,\n",
       " 'kısmı': 487,\n",
       " 'size': 488,\n",
       " 'orta': 489,\n",
       " 'piyasadaki': 490,\n",
       " 'net': 491,\n",
       " 'hak': 492,\n",
       " 'yere': 493,\n",
       " 'günlük': 494,\n",
       " 'beğendi': 495,\n",
       " 'rahatlığıyla': 496,\n",
       " 'eder': 497,\n",
       " 'hız': 498,\n",
       " 'müzik': 499,\n",
       " 'kalın': 500,\n",
       " 'siyah': 501,\n",
       " 'urunu': 502,\n",
       " 'degil': 503,\n",
       " 'bedava': 504,\n",
       " 'istediğim': 505,\n",
       " 'oğlum': 506,\n",
       " 'saç': 507,\n",
       " 'güvenli': 508,\n",
       " 'kılıf': 509,\n",
       " 'onu': 510,\n",
       " 'yıldız': 511,\n",
       " 'yoksa': 512,\n",
       " 'çıkan': 513,\n",
       " 'hesaplı': 514,\n",
       " 'etmeden': 515,\n",
       " 'hava': 516,\n",
       " 'piyasaya': 517,\n",
       " 'kilo': 518,\n",
       " 'ışık': 519,\n",
       " 'neredeyse': 520,\n",
       " 'fotoğraf': 521,\n",
       " 'i̇çi̇n': 522,\n",
       " 'tşk': 523,\n",
       " 'belki': 524,\n",
       " 'olurdu': 525,\n",
       " 'kablosu': 526,\n",
       " 'bır': 527,\n",
       " 'mı': 528,\n",
       " 'gündür': 529,\n",
       " 'temiz': 530,\n",
       " 'garantili': 531,\n",
       " 'içine': 532,\n",
       " 'alınabilir': 533,\n",
       " 'herşey': 534,\n",
       " 'almanızı': 535,\n",
       " 'siparişi': 536,\n",
       " 'olmaz': 537,\n",
       " 'keşke': 538,\n",
       " 'kendini': 539,\n",
       " 'olacak': 540,\n",
       " 'yakın': 541,\n",
       " 'rengi': 542,\n",
       " 'gun': 543,\n",
       " 'süpürge': 544,\n",
       " 'traş': 545,\n",
       " 'çift': 546,\n",
       " 'şuan': 547,\n",
       " 'gönderim': 548,\n",
       " 'buna': 549,\n",
       " 'motor': 550,\n",
       " 'birkaç': 551,\n",
       " 'hoşuma': 552,\n",
       " 'tasarımı': 553,\n",
       " 'kaldık': 554,\n",
       " 'verdiğim': 555,\n",
       " 'hic': 556,\n",
       " 'değer': 557,\n",
       " 'yağ': 558,\n",
       " 'ekonomik': 559,\n",
       " 'dedim': 560,\n",
       " 'tatmin': 561,\n",
       " 'isteyenlere': 562,\n",
       " 'içinden': 563,\n",
       " 'araştırdım': 564,\n",
       " 'oda': 565,\n",
       " 'yıllardır': 566,\n",
       " 'mevcut': 567,\n",
       " 'kızım': 568,\n",
       " 'kalıyor': 569,\n",
       " 'yapmak': 570,\n",
       " 'buldum': 571,\n",
       " 'şimdilik': 572,\n",
       " 'yanı': 573,\n",
       " 'makina': 574,\n",
       " 'görüyor': 575,\n",
       " 'model': 576,\n",
       " 'kargoda': 577,\n",
       " 'kaldı': 578,\n",
       " '9': 579,\n",
       " 'üstünde': 580,\n",
       " 'avantaj': 581,\n",
       " 'sizi': 582,\n",
       " 'alet': 583,\n",
       " 'müthiş': 584,\n",
       " 'metal': 585,\n",
       " 'ürünleri': 586,\n",
       " 'mouse': 587,\n",
       " 'beraber': 588,\n",
       " 'bebek': 589,\n",
       " 'kullanıyordum': 590,\n",
       " 'geri': 591,\n",
       " 'ederiz': 592,\n",
       " 'başta': 593,\n",
       " 'makul': 594,\n",
       " 'olmazsınız': 595,\n",
       " 'apple': 596,\n",
       " 'yaptı': 597,\n",
       " 'okudum': 598,\n",
       " 'elimde': 599,\n",
       " 'görür': 600,\n",
       " 'olduğundan': 601,\n",
       " 'fiyatının': 602,\n",
       " 'açık': 603,\n",
       " 'üzerinden': 604,\n",
       " 'aşırı': 605,\n",
       " 'özellik': 606,\n",
       " 'e': 607,\n",
       " 'olanlara': 608,\n",
       " 'izi': 609,\n",
       " 'garanti': 610,\n",
       " 'film': 611,\n",
       " 'biz': 612,\n",
       " 'yavaş': 613,\n",
       " 'ucuza': 614,\n",
       " 'bişey': 615,\n",
       " 'tartışılmaz': 616,\n",
       " 'sene': 617,\n",
       " 'super': 618,\n",
       " 'site': 619,\n",
       " 'birçok': 620,\n",
       " 'ücretsiz': 621,\n",
       " 'sonunda': 622,\n",
       " 'ısınma': 623,\n",
       " 'saati': 624,\n",
       " 'batarya': 625,\n",
       " 'kapalı': 626,\n",
       " 'olumsuz': 627,\n",
       " 'alan': 628,\n",
       " 'hediyesi': 629,\n",
       " 'kullaniyorum': 630,\n",
       " 'yapmıyor': 631,\n",
       " 'eve': 632,\n",
       " 'evet': 633,\n",
       " 'önceki': 634,\n",
       " 'sık': 635,\n",
       " 'hakkını': 636,\n",
       " 'beklediğim': 637,\n",
       " 'kelimeyle': 638,\n",
       " 'beyaz': 639,\n",
       " 'zorunda': 640,\n",
       " 'üç': 641,\n",
       " 'kat': 642,\n",
       " 'telefonda': 643,\n",
       " 'tasarım': 644,\n",
       " 'dakika': 645,\n",
       " 'etmek': 646,\n",
       " 'uyumlu': 647,\n",
       " 'önceden': 648,\n",
       " 'olunca': 649,\n",
       " 'severek': 650,\n",
       " 'isteyenler': 651,\n",
       " 'diyorum': 652,\n",
       " 'çanta': 653,\n",
       " 'el': 654,\n",
       " 'istedim': 655,\n",
       " 'iyiki': 656,\n",
       " 'kullanın': 657,\n",
       " 'yoktu': 658,\n",
       " 'sıkıntısı': 659,\n",
       " 'ikinci': 660,\n",
       " 'yorumlarda': 661,\n",
       " 'çekiyor': 662,\n",
       " 'bilmiyorum': 663,\n",
       " 'kullanma': 664,\n",
       " 'araç': 665,\n",
       " 'edin': 666,\n",
       " 'görüntüsü': 667,\n",
       " 'firma': 668,\n",
       " 'alıyor': 669,\n",
       " 'hepsi̇burada': 670,\n",
       " 'alt': 671,\n",
       " 'olmadan': 672,\n",
       " 'bazen': 673,\n",
       " 'dayanıklı': 674,\n",
       " 'olmaması': 675,\n",
       " 'ona': 676,\n",
       " 'iade': 677,\n",
       " 'fiyatlı': 678,\n",
       " 'internet': 679,\n",
       " 'geniş': 680,\n",
       " 'philips': 681,\n",
       " 'koltuk': 682,\n",
       " 'elimdeydi': 683,\n",
       " 'kullanan': 684,\n",
       " 'yaparken': 685,\n",
       " 'derecede': 686,\n",
       " 'asla': 687,\n",
       " '16': 688,\n",
       " 'kalitede': 689,\n",
       " 'taktım': 690,\n",
       " 'resmen': 691,\n",
       " 'eden': 692,\n",
       " 'halde': 693,\n",
       " 'merhaba': 694,\n",
       " 'mukemmel': 695,\n",
       " 'hassas': 696,\n",
       " 'başladı': 697,\n",
       " 'zarar': 698,\n",
       " 'kalitesiz': 699,\n",
       " 'aylık': 700,\n",
       " 'açıkçası': 701,\n",
       " 'mutlu': 702,\n",
       " 'alin': 703,\n",
       " 'yeri': 704,\n",
       " 'ram': 705,\n",
       " 'neden': 706,\n",
       " 'eksiksiz': 707,\n",
       " 'paketlenmiş': 708,\n",
       " 'idi': 709,\n",
       " 'idare': 710,\n",
       " 'iyiydi': 711,\n",
       " 'olabilirdi': 712,\n",
       " 'yarıyor': 713,\n",
       " 'gerekli': 714,\n",
       " 'olduğum': 715,\n",
       " '50': 716,\n",
       " 'parfümü': 717,\n",
       " 'buradaya': 718,\n",
       " 'kelime': 719,\n",
       " 'herkesin': 720,\n",
       " 'olmasi': 721,\n",
       " 'ara': 722,\n",
       " 'verildi': 723,\n",
       " 'yoğun': 724,\n",
       " 'etkisi': 725,\n",
       " 'vermeye': 726,\n",
       " 'saçlarım': 727,\n",
       " 'siz': 728,\n",
       " 'kullanıyor': 729,\n",
       " 'b': 730,\n",
       " '40': 731,\n",
       " 'zamandır': 732,\n",
       " 'yapan': 733,\n",
       " 'olmayan': 734,\n",
       " 'yorumlar': 735,\n",
       " 'ayrica': 736,\n",
       " 'yinede': 737,\n",
       " 'kendim': 738,\n",
       " 'ulasti': 739,\n",
       " 'hafıza': 740,\n",
       " 'etmiyor': 741,\n",
       " 'almış': 742,\n",
       " 'yapılmış': 743,\n",
       " 'verdikten': 744,\n",
       " 'kendime': 745,\n",
       " 'yedek': 746,\n",
       " 'düşünenlere': 747,\n",
       " 'durum': 748,\n",
       " 'sonuçta': 749,\n",
       " 'yerden': 750,\n",
       " 'etmiyorum': 751,\n",
       " 'video': 752,\n",
       " 'çekiş': 753,\n",
       " 'cuma': 754,\n",
       " 'cam': 755,\n",
       " 'uygulama': 756,\n",
       " 'içi': 757,\n",
       " 'işi': 758,\n",
       " 'eksik': 759,\n",
       " 'ihtiyacı': 760,\n",
       " 'eksiği': 761,\n",
       " 'faydalı': 762,\n",
       " 'göz': 763,\n",
       " 'deneme': 764,\n",
       " 'isteyen': 765,\n",
       " 'acaba': 766,\n",
       " 'kısacası': 767,\n",
       " 'kullanabilirsiniz': 768,\n",
       " 'merak': 769,\n",
       " 'temizliyor': 770,\n",
       " 'ürünle': 771,\n",
       " 'rahatlığı': 772,\n",
       " 'p': 773,\n",
       " 'türkiye': 774,\n",
       " 'hepsiburadadan': 775,\n",
       " 'aldı': 776,\n",
       " 'görmedim': 777,\n",
       " 'test': 778,\n",
       " 'ana': 779,\n",
       " 'aldıktan': 780,\n",
       " 'aleti': 781,\n",
       " 'şimdiye': 782,\n",
       " 'yapıyorum': 783,\n",
       " 'olumlu': 784,\n",
       " 'hakkında': 785,\n",
       " 'piyasa': 786,\n",
       " 'ekranı': 787,\n",
       " 'mümkün': 788,\n",
       " 'kış': 789,\n",
       " 'siparis': 790,\n",
       " 'd': 791,\n",
       " 'malı': 792,\n",
       " 'elinize': 793,\n",
       " 'km': 794,\n",
       " 'gösteriyor': 795,\n",
       " 'haricinde': 796,\n",
       " 'donma': 797,\n",
       " 'denemek': 798,\n",
       " 'türlü': 799,\n",
       " 'i': 800,\n",
       " 'alacaklara': 801,\n",
       " 'elde': 802,\n",
       " 'dış': 803,\n",
       " 'dokunmatik': 804,\n",
       " 'gerçek': 805,\n",
       " 'tabiki': 806,\n",
       " 'ürünlere': 807,\n",
       " 'boyutu': 808,\n",
       " 'hissi': 809,\n",
       " 'söyleyebilirim': 810,\n",
       " 'cabası': 811,\n",
       " 'kaldim': 812,\n",
       " 'emiş': 813,\n",
       " 'kanal': 814,\n",
       " 'takip': 815,\n",
       " 'problemi': 816,\n",
       " 'tavsiyem': 817,\n",
       " 'kargolama': 818,\n",
       " 'aslında': 819,\n",
       " 'dahi': 820,\n",
       " 'yardımcı': 821,\n",
       " 'akıcı': 822,\n",
       " 'ütü': 823,\n",
       " 'konuda': 824,\n",
       " 'hayırlı': 825,\n",
       " 'değilim': 826,\n",
       " 'herkeze': 827,\n",
       " 'karşı': 828,\n",
       " 'markanın': 829,\n",
       " 'kutusu': 830,\n",
       " 'elektrik': 831,\n",
       " 'yaz': 832,\n",
       " 'yerli': 833,\n",
       " 'tavsıye': 834,\n",
       " 'emin': 835,\n",
       " 's': 836,\n",
       " 'lg': 837,\n",
       " 'once': 838,\n",
       " 'araba': 839,\n",
       " 'pazartesi': 840,\n",
       " 'f': 841,\n",
       " 'kullandıktan': 842,\n",
       " 'yatak': 843,\n",
       " 'zarif': 844,\n",
       " 'gelir': 845,\n",
       " 'beden': 846,\n",
       " 'özel': 847,\n",
       " 'ciddi': 848,\n",
       " 'kontrol': 849,\n",
       " 'olmak': 850,\n",
       " 'i̇ki': 851,\n",
       " 'zamanla': 852,\n",
       " 'fayda': 853,\n",
       " 'istiyorsanız': 854,\n",
       " 'bağlantı': 855,\n",
       " 'sıfır': 856,\n",
       " 'çıkmadı': 857,\n",
       " 'ayni': 858,\n",
       " 'parasını': 859,\n",
       " 'fön': 860,\n",
       " 'anladım': 861,\n",
       " 'düzgün': 862,\n",
       " 'olmadığı': 863,\n",
       " 'fiyatını': 864,\n",
       " 'kibar': 865,\n",
       " 'veren': 866,\n",
       " 'sağlıklı': 867,\n",
       " 'birisi': 868,\n",
       " 'soğuk': 869,\n",
       " 'montaj': 870,\n",
       " 'klasik': 871,\n",
       " 'parça': 872,\n",
       " 'yarım': 873,\n",
       " 'telefondan': 874,\n",
       " 'okuma': 875,\n",
       " 'makinesi': 876,\n",
       " 'verilen': 877,\n",
       " 'düzenli': 878,\n",
       " 'düşünmeyin': 879,\n",
       " 'kullanılabilir': 880,\n",
       " 'koruyucu': 881,\n",
       " 'anneme': 882,\n",
       " 'hale': 883,\n",
       " 'ömrü': 884,\n",
       " 'kalitesine': 885,\n",
       " 'bulmak': 886,\n",
       " 'kullanmadım': 887,\n",
       " 'saglam': 888,\n",
       " 'normalde': 889,\n",
       " 'cm': 890,\n",
       " 'xiaomi': 891,\n",
       " 'beklemeyin': 892,\n",
       " 'çoğu': 893,\n",
       " 'pili': 894,\n",
       " 'çocuk': 895,\n",
       " 'bakımından': 896,\n",
       " 'birebir': 897,\n",
       " 'yazma': 898,\n",
       " 'boyu': 899,\n",
       " 'hareket': 900,\n",
       " 'siteden': 901,\n",
       " 'cihazın': 902,\n",
       " 'led': 903,\n",
       " 'tahmin': 904,\n",
       " 'kapak': 905,\n",
       " 'bilgisayar': 906,\n",
       " 'ısınıyor': 907,\n",
       " 'eksi': 908,\n",
       " 'gelmesi': 909,\n",
       " 'kalmadı': 910,\n",
       " 'begendim': 911,\n",
       " 'kullanisli': 912,\n",
       " 'verip': 913,\n",
       " 'günden': 914,\n",
       " 'kaçmaz': 915,\n",
       " 'sürükleyici': 916,\n",
       " 'sonucu': 917,\n",
       " 'markası': 918,\n",
       " 'indirim': 919,\n",
       " 'oranı': 920,\n",
       " 'arkadaşım': 921,\n",
       " 'telefonum': 922,\n",
       " 'temizliği': 923,\n",
       " 'şarjlı': 924,\n",
       " 'kullanırken': 925,\n",
       " 'zayıf': 926,\n",
       " 'tesekkur': 927,\n",
       " 'çıkarıyor': 928,\n",
       " 'karşıladı': 929,\n",
       " 'sistemi': 930,\n",
       " 'akıllı': 931,\n",
       " 'ortalama': 932,\n",
       " 'direk': 933,\n",
       " 'alınır': 934,\n",
       " 'olsaydı': 935,\n",
       " 'arkadaslar': 936,\n",
       " 'profesyonel': 937,\n",
       " 'boşuna': 938,\n",
       " 'hd': 939,\n",
       " 'sony': 940,\n",
       " 'iç': 941,\n",
       " 'ekstra': 942,\n",
       " 'yi': 943,\n",
       " 'kuru': 944,\n",
       " 'sonrası': 945,\n",
       " 'almayın': 946,\n",
       " 'lik': 947,\n",
       " 'kusursuz': 948,\n",
       " 'başlık': 949,\n",
       " 'seviyede': 950,\n",
       " 'bluetooth': 951,\n",
       " 'kullanmıştım': 952,\n",
       " 'burda': 953,\n",
       " 'genelde': 954,\n",
       " 'kokuyu': 955,\n",
       " 'olacağını': 956,\n",
       " 'siparişim': 957,\n",
       " 'burdan': 958,\n",
       " 'kampanya': 959,\n",
       " 'nin': 960,\n",
       " 'olanı': 961,\n",
       " 'vestel': 962,\n",
       " 'alacağım': 963,\n",
       " 'tarafı': 964,\n",
       " 'insan': 965,\n",
       " 'artı': 966,\n",
       " 'paketi': 967,\n",
       " 'ayarı': 968,\n",
       " 'karşılıyor': 969,\n",
       " 'üstüne': 970,\n",
       " 'premium': 971,\n",
       " 'kalıcılığı': 972,\n",
       " 'eminim': 973,\n",
       " 'olup': 974,\n",
       " 'ürünlerden': 975,\n",
       " 'malzemesi': 976,\n",
       " 'mavi': 977,\n",
       " 'buradaki': 978,\n",
       " 'markalara': 979,\n",
       " 'parlak': 980,\n",
       " 'söz': 981,\n",
       " 'ergonomik': 982,\n",
       " 'yaptığım': 983,\n",
       " 'kendisi': 984,\n",
       " 'düşünen': 985,\n",
       " 'hızlıydı': 986,\n",
       " 'kasma': 987,\n",
       " 'fiyatta': 988,\n",
       " 'enerji': 989,\n",
       " 'kolayca': 990,\n",
       " 'yan': 991,\n",
       " 'pc': 992,\n",
       " '00': 993,\n",
       " 'bol': 994,\n",
       " 'kablosuz': 995,\n",
       " 'full': 996,\n",
       " 'işinizi': 997,\n",
       " 'modeli': 998,\n",
       " 'oturuyor': 999,\n",
       " 'kişi': 1000,\n",
       " ...}"
      ]
     },
     "execution_count": 18,
     "metadata": {},
     "output_type": "execute_result"
    }
   ],
   "source": [
    "tokenizer.word_index"
   ]
  },
  {
   "cell_type": "markdown",
   "metadata": {},
   "source": [
    "Corpusta ne kadar token varsa hepsini siralar fakat egitime sadece belirlenen sayi kadarini (15000) alir :"
   ]
  },
  {
   "cell_type": "code",
   "execution_count": 19,
   "metadata": {
    "colab": {
     "base_uri": "https://localhost:8080/"
    },
    "id": "01oWtDTTMP3J",
    "outputId": "c043f7a4-a57a-4f70-94c7-33625eb25c90"
   },
   "outputs": [
    {
     "data": {
      "text/plain": [
       "217983"
      ]
     },
     "execution_count": 19,
     "metadata": {},
     "output_type": "execute_result"
    }
   ],
   "source": [
    "len(tokenizer.word_index)"
   ]
  },
  {
   "cell_type": "markdown",
   "metadata": {
    "id": "1sENSxrzMP3J"
   },
   "source": [
    "## Converting tokens to numeric"
   ]
  },
  {
   "cell_type": "markdown",
   "metadata": {},
   "source": [
    "Tokenlerimizi bir sequence' e (dizin) donusturecegiz. (Her bir token karsisinda denk gelen sayiya donusecek)"
   ]
  },
  {
   "cell_type": "markdown",
   "metadata": {},
   "source": [
    "__texts_to_sequences(X) -->__ X' deki text' leri sequence' e donustur. "
   ]
  },
  {
   "cell_type": "code",
   "execution_count": 20,
   "metadata": {
    "id": "OL-LESXtMP3J"
   },
   "outputs": [],
   "source": [
    "X_num_tokens = tokenizer.texts_to_sequences(X)"
   ]
  },
  {
   "cell_type": "markdown",
   "metadata": {},
   "source": [
    "X' in 105. indexinde asagidaki yorum var :"
   ]
  },
  {
   "cell_type": "code",
   "execution_count": 21,
   "metadata": {
    "colab": {
     "base_uri": "https://localhost:8080/",
     "height": 54
    },
    "id": "UR0ED18aMP3K",
    "outputId": "caa906cf-79c9-42e3-b7d1-5559d0e06229"
   },
   "outputs": [
    {
     "data": {
      "application/vnd.google.colaboratory.intrinsic+json": {
       "type": "string"
      },
      "text/plain": [
       "'Logitech ürünlerinin geneli kalite olarak çok iyidir. Adedini tam saymadım ama 10 un üzerinde kendime akrabalarıma arkadaşlarıma almışımdır hepside memnunlar. İhtiyacı olan kaçırmasın başkada ürün aramasın derim.'"
      ]
     },
     "execution_count": 21,
     "metadata": {},
     "output_type": "execute_result"
    }
   ],
   "source": [
    "X[105]"
   ]
  },
  {
   "cell_type": "markdown",
   "metadata": {},
   "source": [
    "X' in 105. indexindeki yorumdaki tokenlerin hepsi sequence isleminden sonra sayisal verilere donustu. "
   ]
  },
  {
   "cell_type": "markdown",
   "metadata": {},
   "source": [
    "'cok' tokeni yukarida 1 sayisina karsilik geliyordu. Bu kelime gercek yorumda 6. sirada yer aliyor fakat sequence isleminden sonra 5. siraya gelmis. Demek ki burada corpusta en fazla gecen ilk 15000 token icinde olmayan bir kelime var yorumunu yapabiliriz :"
   ]
  },
  {
   "cell_type": "code",
   "execution_count": 22,
   "metadata": {
    "colab": {
     "base_uri": "https://localhost:8080/"
    },
    "id": "sFpOQBoqMP3K",
    "outputId": "ccd56582-0e50-4c80-c772-b430018c0853"
   },
   "outputs": [
    {
     "name": "stdout",
     "output_type": "stream",
     "text": [
      "[1816, 5360, 131, 23, 1, 1849, 74, 12, 118, 1533, 297, 745, 3216, 13402, 6326, 5030, 2463, 113, 2534, 8858, 4, 143]\n"
     ]
    }
   ],
   "source": [
    "print(X_num_tokens[105])"
   ]
  },
  {
   "cell_type": "markdown",
   "metadata": {},
   "source": [
    "Tokenlerin hepsi farkli sayilardan olusuyor. Butun tokenler sabit bir sayiya esitlenmeden modele veremeyiz. Cunlu DL modelleri, ayni boyutta veriler ister. Tum tokenleri mantikli bir sayida sabitlememiz gerekir. "
   ]
  },
  {
   "cell_type": "code",
   "execution_count": 23,
   "metadata": {
    "colab": {
     "base_uri": "https://localhost:8080/"
    },
    "id": "h8qwAwEHMP3L",
    "outputId": "e3642f75-d16a-4710-990e-6d2a76c9ffa6"
   },
   "outputs": [
    {
     "data": {
      "text/plain": [
       "22"
      ]
     },
     "execution_count": 23,
     "metadata": {},
     "output_type": "execute_result"
    }
   ],
   "source": [
    "len(X_num_tokens[105])"
   ]
  },
  {
   "cell_type": "code",
   "execution_count": 24,
   "metadata": {
    "colab": {
     "base_uri": "https://localhost:8080/"
    },
    "id": "1E-ySfDiMP3M",
    "outputId": "28c1c2a3-3fea-487f-a51e-7e49b67a3650"
   },
   "outputs": [
    {
     "data": {
      "text/plain": [
       "18"
      ]
     },
     "execution_count": 24,
     "metadata": {},
     "output_type": "execute_result"
    }
   ],
   "source": [
    "len(X_num_tokens[106])"
   ]
  },
  {
   "cell_type": "code",
   "execution_count": 26,
   "metadata": {
    "colab": {
     "base_uri": "https://localhost:8080/"
    },
    "id": "mOQfFfutfMTn",
    "outputId": "2f517db6-c0af-4c17-aa29-3bc8d8acdb80"
   },
   "outputs": [
    {
     "data": {
      "text/plain": [
       "88"
      ]
     },
     "execution_count": 26,
     "metadata": {},
     "output_type": "execute_result"
    }
   ],
   "source": [
    "len(X_num_tokens[6150])"
   ]
  },
  {
   "cell_type": "markdown",
   "metadata": {},
   "source": [
    "__X_num_tokens__ sayisal verilere donusturulmus tokenlerimizin oldugu degisken. for dongusuyle bunun icindeki her bir yorumu aldik ve list compherension icinde her seferinde yorumlari saydirdik. Bu sekilde corpus icindeki yorumlarin her birinin kac tokenden olustugunu saydirmis olduk. Daha sonra bu degerlere 'sum', 'mean' gibi islemleri uygulayabilmek icin array'e cevirdik :"
   ]
  },
  {
   "cell_type": "code",
   "execution_count": 27,
   "metadata": {
    "id": "dp7-tP7MMP3M"
   },
   "outputs": [],
   "source": [
    "num_tokens = [len(tokens) for tokens in X_num_tokens]\n",
    "num_tokens = np.array(num_tokens)"
   ]
  },
  {
   "cell_type": "markdown",
   "metadata": {
    "id": "6wec7mUpMP3N",
    "tags": []
   },
   "source": [
    "## Maximum number of tokens for all documents"
   ]
  },
  {
   "cell_type": "markdown",
   "metadata": {},
   "source": [
    "Asagida her document' in kac tokenden olustugunu goruyoruz :"
   ]
  },
  {
   "cell_type": "code",
   "execution_count": null,
   "metadata": {},
   "outputs": [],
   "source": [
    "num_tokens"
   ]
  },
  {
   "cell_type": "markdown",
   "metadata": {},
   "source": [
    "Her corpustaki document' te ortalama olarak 21 token var :"
   ]
  },
  {
   "cell_type": "code",
   "execution_count": 28,
   "metadata": {
    "colab": {
     "base_uri": "https://localhost:8080/"
    },
    "id": "4mIHsbiDMP3N",
    "outputId": "6e83742a-303d-4a2d-b90c-84f5f8a88c76"
   },
   "outputs": [
    {
     "data": {
      "text/plain": [
       "21.36101060793357"
      ]
     },
     "execution_count": 28,
     "metadata": {},
     "output_type": "execute_result"
    }
   ],
   "source": [
    "num_tokens.mean()"
   ]
  },
  {
   "cell_type": "markdown",
   "metadata": {},
   "source": [
    "Bir document' teki en fazla tokene sahip document, 298 tokenden olusuyor :"
   ]
  },
  {
   "cell_type": "code",
   "execution_count": 29,
   "metadata": {
    "colab": {
     "base_uri": "https://localhost:8080/"
    },
    "id": "c-iTNs-0MP3N",
    "outputId": "2e7fbac5-bcb3-4621-d8f5-05d76a09dc8f"
   },
   "outputs": [
    {
     "data": {
      "text/plain": [
       "298"
      ]
     },
     "execution_count": 29,
     "metadata": {},
     "output_type": "execute_result"
    }
   ],
   "source": [
    "num_tokens.max()"
   ]
  },
  {
   "cell_type": "markdown",
   "metadata": {},
   "source": [
    "argmax ile en uzun yoruma ait olan index' i cagirdik. 21941. index' teki yorum, en uzun yorummus (298 tokenli):"
   ]
  },
  {
   "cell_type": "code",
   "execution_count": 30,
   "metadata": {
    "colab": {
     "base_uri": "https://localhost:8080/"
    },
    "id": "Wdpbr6TPMP3O",
    "outputId": "3da54828-7832-49f0-fcd8-bcaee16fc8b9"
   },
   "outputs": [
    {
     "data": {
      "text/plain": [
       "21941"
      ]
     },
     "execution_count": 30,
     "metadata": {},
     "output_type": "execute_result"
    }
   ],
   "source": [
    "num_tokens.argmax() # listedeki en uzun yorumun indexini argmax ile bulabiliyoruz."
   ]
  },
  {
   "cell_type": "markdown",
   "metadata": {},
   "source": [
    "En uzun yorum :"
   ]
  },
  {
   "cell_type": "code",
   "execution_count": 31,
   "metadata": {
    "colab": {
     "base_uri": "https://localhost:8080/",
     "height": 145
    },
    "id": "bv29eaR2MP3P",
    "outputId": "cc2ccd9d-be93-4ce2-9f72-76c9ee73c709"
   },
   "outputs": [
    {
     "data": {
      "application/vnd.google.colaboratory.intrinsic+json": {
       "type": "string"
      },
      "text/plain": [
       "'Özellikle bu kısma yazıyorum iyice okuyunuz,cihazın hızı çok iyi.Isınma normal boyutlarda.Kamerası elinizi sabit tutarsanız ve gündüz çok net gece ise çok net çekmez.Görüntülü konuşma özelliği yok ancak uygulama ile olur,anten çekimi gayet iyi.Parmak izi okuyucusu gayet hızlı bazen tuşu silmenizi istiyor ve okuyamıyor kirden vs...Ön kamera da tatmin edici,çekim esnasında ekran beyaz ışık vererek flaş görevi görür.Batarya bana 1 hafta gidiyor sık kullanımda ise 2-3 gün gidiyor.Hızlı şarj 1 saatte doluyor , şekilleri ele oturuyor ve şık bir görüntü var.Telefonu aldığım gün gittim ve ilk girdiğim yerden ekran koruyucu ve kılıf buldum.Kulaklık sesi çok net ve yüksek ancak kendi hoparlörü biraz zayıf sesi.Ekrana bakarken açık kalma özelliği yok.Diğer akıllı cihaz özellikleri %90 ı bu cihazda mevcut.Güç tasarrufu 2 ayrı modu var ve çok başarılı çalışıyor.4gb ram var genelde yarısı boş kalıyor.Bir de yeni cihazların çoğu titreşimi az ve sesi de az çıkıyor.Bu cihaz da içine dahil...Bu cihazlar güncelleme almaz ve rom bulunmuyormuş.Benim için güncelleme sorun olmaz -cihaz parasına göre s serisi ile yarışıyor çünkü.Biraz metal olmasından dolayı elden kolay kaysada duruşu ve gösterişi iyidir.Çift flaşı var arkada.Kısaca şöyle ki bu fiyata bu ürün alınır.5 aydır kullanıyorum kasma donma felan zaten olmaz,bataryası iyi,şekli iyi,özellikler de iyi....En büyük kafa karıştıran soru şu ki hadi cihaz arıza yaptı veya düştü ekranı kırıldı.Bunun bir servisi var,ithalatçı garantisi de var.Cihazın adı sanı belli...Parça bulanmaz tamir olmaz derseniz size kalmış.Zaten normal bir cihazı da düşürseniz farkedermi?.Güncelleme almaz diyorlar bu konuda düşünebilirsiniz.S serisi cihazlarla hızını kıyaslarsınız ama güncelleme ile araya fark koymuşlar.İki katı fiyata satılan cihazla farkı olmasa zaten olmaz değil mi?Almayı düşünenler başka bir cihazla kıyas yapacaksa yine  7pro veya 9 baksınlar.C5 pro da biraz boyutu kısa ve kibar....Sonuçta ömürlük değil alın fazla düşünmeyin'"
      ]
     },
     "execution_count": 31,
     "metadata": {},
     "output_type": "execute_result"
    }
   ],
   "source": [
    "X[21941]"
   ]
  },
  {
   "cell_type": "markdown",
   "metadata": {},
   "source": [
    "Her document' te bulunan yorumlarin ortalamasi 21 idi. Bu sayiyi en uzun sayi olan 298' e sabitlemek islem maliyetini cok artirir. "
   ]
  },
  {
   "cell_type": "code",
   "execution_count": 34,
   "metadata": {
    "colab": {
     "base_uri": "https://localhost:8080/"
    },
    "id": "_W8AuJEcfe7s",
    "outputId": "6f4bc936-1020-4113-8c7d-2e37ff735634"
   },
   "outputs": [
    {
     "data": {
      "text/plain": [
       "298"
      ]
     },
     "execution_count": 34,
     "metadata": {},
     "output_type": "execute_result"
    }
   ],
   "source": [
    "len(X_num_tokens[21941])"
   ]
  },
  {
   "cell_type": "markdown",
   "metadata": {},
   "source": [
    "Her document' ten alacagimiz sabit token sayisini nasil hesaplamamiz gerektigini gormek icin asagida bir ornek yapalim :"
   ]
  },
  {
   "cell_type": "markdown",
   "metadata": {},
   "source": [
    "Bir liste icerisine tokenleri temsilen sayilar yazdik. Bu listeyi array' e cevirerek 10' dan kucuk olanlari cagirdik, kucuk olan degerleri False, buyuk olan degerleri ise True döndürdü. "
   ]
  },
  {
   "cell_type": "markdown",
   "metadata": {},
   "source": [
    "Bir sonraki adimda bu islemi sum icine yazdik, True' lari 1 sayarak topladi, False' lari da 0 sayarak topladi ve 3 buldu. Yani listede 10' dan kucuk olan 3 sayi varmis."
   ]
  },
  {
   "cell_type": "markdown",
   "metadata": {},
   "source": [
    "Son adimda 10' dan kucuk olanlarin sayisini (yani 3), listedeki tum elemanlarin sayisina bolduk ve 0.5 degerini bulduk. Buradan su yorumu yapabiliriz : Model icin almak istedigimiz token sayisini 10' a sabitlersek yorumlarimizin %50' sinde herhangi bir bilgi kaybi olmayacak. "
   ]
  },
  {
   "cell_type": "markdown",
   "metadata": {},
   "source": [
    "5, 8, 9 yorumlarinda herhangi bir kayip olmayacak; 10' da 1 token kaybi, 12' de 3 token kaybi, 15' de 6 token kaybi olacak."
   ]
  },
  {
   "cell_type": "code",
   "execution_count": 37,
   "metadata": {
    "colab": {
     "base_uri": "https://localhost:8080/"
    },
    "id": "66JrdJCtMP3P",
    "outputId": "7d043468-c211-42dc-9513-745986de74de"
   },
   "outputs": [
    {
     "name": "stdout",
     "output_type": "stream",
     "text": [
      "[ True False  True  True False False]\n",
      "3\n",
      "0.5\n"
     ]
    }
   ],
   "source": [
    "list = [5, 10, 8, 9, 12, 15]\n",
    "print(np.array(list) < 10)\n",
    "print(sum(np.array(list) < 10))\n",
    "print(sum(np.array(list) < 10)/len(list))"
   ]
  },
  {
   "cell_type": "markdown",
   "metadata": {},
   "source": [
    "Deneme-yanilma yoluyla corpusumuzdaki her yorumda olmasi gereken token sayisini 61' e sabitledik :"
   ]
  },
  {
   "cell_type": "code",
   "execution_count": 38,
   "metadata": {
    "id": "-k5VZDpjMP3Q"
   },
   "outputs": [],
   "source": [
    "max_tokens = 61"
   ]
  },
  {
   "cell_type": "markdown",
   "metadata": {},
   "source": [
    "Her yorum icin 61 token sectigimizde yorumlarimizin %95' inde herhangi bir bilgi kaybi olmayacak (En az %95 degerini alacak sekilde bir deger secebilebilir. Token sayisi arttikca islem gucu de artacaktir. Bu yuzden hedef, en az token sayisi ile en fazla bilgiye ulasmaktir) :"
   ]
  },
  {
   "cell_type": "code",
   "execution_count": 39,
   "metadata": {
    "colab": {
     "base_uri": "https://localhost:8080/"
    },
    "id": "Xal4WMNoMP3Q",
    "outputId": "03f0a370-3fd8-4f3c-ac71-062304b5c350"
   },
   "outputs": [
    {
     "data": {
      "text/plain": [
       "0.9598968365113328"
      ]
     },
     "execution_count": 39,
     "metadata": {},
     "output_type": "execute_result"
    }
   ],
   "source": [
    "sum(num_tokens < max_tokens) / len(num_tokens)"
   ]
  },
  {
   "cell_type": "code",
   "execution_count": 40,
   "metadata": {
    "colab": {
     "base_uri": "https://localhost:8080/"
    },
    "id": "M2U7lFjMMP3R",
    "outputId": "3a52eaaa-de65-423d-88e3-f6182cd28b8b"
   },
   "outputs": [
    {
     "data": {
      "text/plain": [
       "233732"
      ]
     },
     "execution_count": 40,
     "metadata": {},
     "output_type": "execute_result"
    }
   ],
   "source": [
    "sum(num_tokens < max_tokens)"
   ]
  },
  {
   "cell_type": "markdown",
   "metadata": {},
   "source": [
    "Corpustaki 243497 yorumdan 233732 tanesi, 61 tokenden daha kucuk. Yani 233732 tane yorumda hicbir bilgi kaybi olmayacak."
   ]
  },
  {
   "cell_type": "code",
   "execution_count": 41,
   "metadata": {
    "colab": {
     "base_uri": "https://localhost:8080/"
    },
    "id": "1lGeDqduMP3R",
    "outputId": "469cf025-fa24-4160-fee0-bbd4d0b9eab5"
   },
   "outputs": [
    {
     "data": {
      "text/plain": [
       "243497"
      ]
     },
     "execution_count": 41,
     "metadata": {},
     "output_type": "execute_result"
    }
   ],
   "source": [
    "len(num_tokens)"
   ]
  },
  {
   "cell_type": "markdown",
   "metadata": {
    "id": "fvfHyoaKMP3R"
   },
   "source": [
    "## Fixing token counts of all documents (pad_sequences)"
   ]
  },
  {
   "cell_type": "markdown",
   "metadata": {},
   "source": [
    "Yukarida token sayisini 61' de sabitlemeye karar verdik. Bunun icin __pad_sequences__ fonksiyonunu kullanacagiz."
   ]
  },
  {
   "cell_type": "markdown",
   "metadata": {},
   "source": [
    "__pad_sequences -->__ Icerisine X datasinin numeric degerleri verilir. __maxlen__ parametresine de tum document' ler kac tokene sabitlenmek isteniyorsa o sayi verilir. "
   ]
  },
  {
   "cell_type": "code",
   "execution_count": 42,
   "metadata": {
    "id": "bs3CarRdMP3R"
   },
   "outputs": [],
   "source": [
    "X_pad = pad_sequences(X_num_tokens, maxlen=max_tokens)"
   ]
  },
  {
   "cell_type": "markdown",
   "metadata": {},
   "source": [
    "Butun document' lerdeki token sayisi 61' e sabitlendi :"
   ]
  },
  {
   "cell_type": "code",
   "execution_count": 43,
   "metadata": {
    "colab": {
     "base_uri": "https://localhost:8080/"
    },
    "id": "NJsSbXm_MP3S",
    "outputId": "f998c3df-42a9-4754-ff39-b962aad3d53d"
   },
   "outputs": [
    {
     "data": {
      "text/plain": [
       "(243497, 61)"
      ]
     },
     "execution_count": 43,
     "metadata": {},
     "output_type": "execute_result"
    }
   ],
   "source": [
    "X_pad.shape"
   ]
  },
  {
   "cell_type": "markdown",
   "metadata": {},
   "source": [
    "pad_sequences' in yaptigi islemi anlayabilmek icin X_num_tokens' ten bir ornek sectik (800. index). (Daha okunakli olmasi icin array'e cevirdik). "
   ]
  },
  {
   "cell_type": "code",
   "execution_count": 44,
   "metadata": {
    "colab": {
     "base_uri": "https://localhost:8080/"
    },
    "id": "9byUlLyPMP3S",
    "outputId": "fd984ae0-e649-4168-e21c-3a3bbc1930b5"
   },
   "outputs": [
    {
     "data": {
      "text/plain": [
       "array([  19,  341,   52,  194,   30,   54, 7992,   55,  209,  603, 7887,\n",
       "          3,   36,  114,  164,  479,   85,    1, 1682,  782,   30,    2,\n",
       "        380,  326,    3,    1,   81,  132,  562,    9,   10])"
      ]
     },
     "execution_count": 44,
     "metadata": {},
     "output_type": "execute_result"
    }
   ],
   "source": [
    "np.array(X_num_tokens[800])"
   ]
  },
  {
   "cell_type": "markdown",
   "metadata": {},
   "source": [
    "X_num_tokens' teki 800. yorumda 31 token var, token sayilari 61'e sabitlenince pad_sequences, olmayan tokenler yerine 0 degerini atayarak padding islemi yapti :"
   ]
  },
  {
   "cell_type": "code",
   "execution_count": 45,
   "metadata": {
    "colab": {
     "base_uri": "https://localhost:8080/"
    },
    "id": "AZOPw83rMP3S",
    "outputId": "a83a41b5-9b85-4da5-adcf-5570d3b3fffd"
   },
   "outputs": [
    {
     "data": {
      "text/plain": [
       "array([   0,    0,    0,    0,    0,    0,    0,    0,    0,    0,    0,\n",
       "          0,    0,    0,    0,    0,    0,    0,    0,    0,    0,    0,\n",
       "          0,    0,    0,    0,    0,    0,    0,    0,   19,  341,   52,\n",
       "        194,   30,   54, 7992,   55,  209,  603, 7887,    3,   36,  114,\n",
       "        164,  479,   85,    1, 1682,  782,   30,    2,  380,  326,    3,\n",
       "          1,   81,  132,  562,    9,   10], dtype=int32)"
      ]
     },
     "execution_count": 45,
     "metadata": {},
     "output_type": "execute_result"
    }
   ],
   "source": [
    "X_pad[800]"
   ]
  },
  {
   "cell_type": "markdown",
   "metadata": {},
   "source": [
    "21941. indexteki yorum ise 61 tokenden cok daha fazla tokene sahip :"
   ]
  },
  {
   "cell_type": "code",
   "execution_count": 46,
   "metadata": {
    "colab": {
     "base_uri": "https://localhost:8080/"
    },
    "id": "4skufTFRMP3T",
    "outputId": "e5cea3b5-75c0-42f3-c01f-14e28ea0ad6b"
   },
   "outputs": [
    {
     "data": {
      "text/plain": [
       "array([  145,     5,  5876,  2225,  1653,   902,   203,     1,     6,\n",
       "        2958,   163,  4248,   374,  3449,  1521, 12582,     3,  1381,\n",
       "           1,   491,   281,   140,     1,   491,  3391,  2388,   235,\n",
       "          21,    82,   756,    31,   212,  4458,  1448,    14,     6,\n",
       "         472,   609,  2159,    14,    15,   673,  1681,  2152,     3,\n",
       "         313,   444,   261,    13,   561,   463,   470,  1664,   168,\n",
       "         639,   519,  3209,  5455,  6409,   600,   625,   153,    38,\n",
       "         194,   272,   635,   389,   140,    26,    52,    40,   272,\n",
       "          15,    84,    38,   466,  1679, 12350,  1036,   999,     3,\n",
       "          96,     2,   318,    34,   134,   169,    40,  2752,     3,\n",
       "          77,   750,   168,   881,     3,   509,   571,   359,   195,\n",
       "           1,   491,     3,   172,    82,   256,  6460,    45,   926,\n",
       "         195,  2061,  6575,   603,  7031,   235,    21,   103,   931,\n",
       "         136,   394,  1316,  1917,     5,  2167,   567,  1034,  2217,\n",
       "          26,   335,  1883,    34,     3,     1,    79,   191,  3542,\n",
       "         705,    34,   954,  2751,  1341,   569,     2,    18,   135,\n",
       "        6653,   893,  3326,   133,     3,   195,    18,   133,   367,\n",
       "           5,   136,    13,   532,  1191,     5,  3051,  1308,  1865,\n",
       "           3,  4803,   119,     8,  1308,   105,   537,   136,  1181,\n",
       "          32,   836,  1640,    31,   204,    45,   585,  1346,   258,\n",
       "        3977,    98,  1976,     3,  1849,   546, 14186,    34,  3637,\n",
       "        1350,  1787,   100,     5,    39,     5,     4,   934,    65,\n",
       "         309,    55,   987,   797,  1612,    75,   537,  1433,     6,\n",
       "        1897,     6,  1205,    18,     6,    25,   104,  1902,  1421,\n",
       "         221,   100,  4468,   136,  2411,   597,   260,  1530,   787,\n",
       "        2889,   277,     2,  1425,    34,  2532,  1057,    18,    34,\n",
       "         902,  1869,   287,   872,  3501,   537,  1804,   488,  2218,\n",
       "          75,   163,     2,   456,    13,  1308,  1865,  3432,     5,\n",
       "         824,  7798,   836,  1640,  7838,  3344,    12,  1308,    31,\n",
       "        3063,   299,  2704,   851,  1052,    39,  1490,  3436,   317,\n",
       "        1170,    75,   537,    50,   327,   246,  1322,   120,     2,\n",
       "        3436,  7527,   199,   260,   579,  6176,  1800,    13,    45,\n",
       "         808,   108,     3,   865,   749,  5840,    50,   106,    76,\n",
       "         879])"
      ]
     },
     "execution_count": 46,
     "metadata": {},
     "output_type": "execute_result"
    }
   ],
   "source": [
    "np.array(X_num_tokens[21941])"
   ]
  },
  {
   "cell_type": "markdown",
   "metadata": {},
   "source": [
    "61 tokenden fazla tokene sahip yorumlarda ise son 61 token alinir. Asil fikirler genel olarak sonda soylendigi icin default degeri, sondaki tokenleri almak olarak belirlenmis :"
   ]
  },
  {
   "cell_type": "code",
   "execution_count": 47,
   "metadata": {
    "colab": {
     "base_uri": "https://localhost:8080/"
    },
    "id": "n_yR_ZsfMP3T",
    "outputId": "5f1ebf1e-4387-4640-cddb-7ec7f761a655"
   },
   "outputs": [
    {
     "data": {
      "text/plain": [
       "array([ 872, 3501,  537, 1804,  488, 2218,   75,  163,    2,  456,   13,\n",
       "       1308, 1865, 3432,    5,  824, 7798,  836, 1640, 7838, 3344,   12,\n",
       "       1308,   31, 3063,  299, 2704,  851, 1052,   39, 1490, 3436,  317,\n",
       "       1170,   75,  537,   50,  327,  246, 1322,  120,    2, 3436, 7527,\n",
       "        199,  260,  579, 6176, 1800,   13,   45,  808,  108,    3,  865,\n",
       "        749, 5840,   50,  106,   76,  879], dtype=int32)"
      ]
     },
     "execution_count": 47,
     "metadata": {},
     "output_type": "execute_result"
    }
   ],
   "source": [
    "X_pad[21941]"
   ]
  },
  {
   "cell_type": "markdown",
   "metadata": {
    "id": "cdZpEZg0MP3V"
   },
   "source": [
    "## Train Test Split"
   ]
  },
  {
   "cell_type": "markdown",
   "metadata": {
    "id": "8mQLr7pQMP3W"
   },
   "source": [
    "Token sayilarini sabitleme islemini yaptigimiz icin artik train-test split islemine gecip modelimizi kurabiliriz. "
   ]
  },
  {
   "cell_type": "code",
   "execution_count": 48,
   "metadata": {
    "id": "uuzziHMgMP3V"
   },
   "outputs": [],
   "source": [
    "from sklearn.model_selection import train_test_split"
   ]
  },
  {
   "cell_type": "markdown",
   "metadata": {},
   "source": [
    "Train-test split islemini ML modellerindeki ayni mantikla kuruyoruz. RNN modellerinde oldugu gibi ozel bir islem yapmamiza gerek yok. Cunku yorumlarin kendi iclerindeki sira onemli, yorumlarin kendi aralarindaki siralarinin degismesinin bir onemi yok. "
   ]
  },
  {
   "cell_type": "markdown",
   "metadata": {},
   "source": [
    "X_train olarak X_pad' i verdik. (X_pad icinde token sayilari 61' e sabitlendi.)"
   ]
  },
  {
   "cell_type": "markdown",
   "metadata": {},
   "source": [
    "Sayisal olarak dengesiz bir datasetimiz oldugu icin _stratify=y_ belirttik (Dengeli datasetlerinde kullanilmasinin bir sakincasi yok) :"
   ]
  },
  {
   "cell_type": "code",
   "execution_count": 49,
   "metadata": {
    "id": "-r7MDXwWMP3V"
   },
   "outputs": [],
   "source": [
    "X_train, X_test, y_train, y_test = train_test_split(X_pad, y, test_size=0.2, stratify=y, random_state=0)"
   ]
  },
  {
   "cell_type": "markdown",
   "metadata": {
    "id": "RY35Ev1rMP3W"
   },
   "source": [
    "## Modelling"
   ]
  },
  {
   "cell_type": "code",
   "execution_count": 50,
   "metadata": {
    "id": "GPoCxQyXMP3W"
   },
   "outputs": [],
   "source": [
    "model = Sequential()"
   ]
  },
  {
   "cell_type": "markdown",
   "metadata": {},
   "source": [
    "Yukarida tokenlerin hepsi birer sayisal degere cevrilmisti. Modele verebilmek icin bu sayisal degerlerin hepsini birer __word embedding__ e donusturmemiz gerekir. Bu degerlerin hepsinin kac boyutlu vektorler olmasi gerektigini belirtmemiz gerekir (Her bir token sayisal olarak kac feature ile temsil edilsin?). "
   ]
  },
  {
   "cell_type": "markdown",
   "metadata": {},
   "source": [
    "__embedding_size__ degeri olarak, best practise' te 50, 100, 200, 300 sayilari tercih edilir. Bu parametre __underfitting__ ve __overfitting__ i onlemede kullanilan bir parametre oldugu icin secimi onemlidir. NLP modellerinde inbalance datalar overfitting' e cok yatkindir. Bu yuzden bu tarz datalarda overfitting ile mucadele ederken bu parametre ile oynanabilir. "
   ]
  },
  {
   "cell_type": "markdown",
   "metadata": {},
   "source": [
    "Deneme-yanilma yoluyla embedding_size boyutunu belirledik (Kucuk bir corpusumuz oldugu icin boyutu cok fazla buyutmeye gerek yok) :"
   ]
  },
  {
   "cell_type": "code",
   "execution_count": 51,
   "metadata": {
    "id": "XXOdeDTXMP3W"
   },
   "outputs": [],
   "source": [
    "embedding_size = 50"
   ]
  },
  {
   "cell_type": "code",
   "execution_count": null,
   "metadata": {
    "id": "w6xvp2kQMP3X"
   },
   "outputs": [],
   "source": [
    "# pip install -U numpy==1.19.5"
   ]
  },
  {
   "cell_type": "markdown",
   "metadata": {},
   "source": [
    "__Embedding layer__ sadece NLP modellerinde kullanilan bir layer' dir. LSTM ve GRU layer' larindan once bu layer tanimlanir. "
   ]
  },
  {
   "cell_type": "markdown",
   "metadata": {},
   "source": [
    "Egitime girecek olan 15000 __(input_dim)__ yorum var ve bu yorumlarin hepsi 61 __(max_tokens)__ token uzunlugunda ve her bir token de 50 __(output_dim)__ boyutlu word embedding' lerden olusuyor. "
   ]
  },
  {
   "cell_type": "markdown",
   "metadata": {},
   "source": [
    "__Embedding__ islemi ile 3 boyutlu matrisler olusturuyoruz. Bu bilgileri belirtmeden model kuramayiz. "
   ]
  },
  {
   "cell_type": "markdown",
   "metadata": {},
   "source": [
    "GRU modeli sectik fakat LSTM model de denenip en iyi skoru veren model tercih edilebilir. "
   ]
  },
  {
   "cell_type": "markdown",
   "metadata": {},
   "source": [
    "Best practise olarak NLP' de RNN modelleri kurarken en fazla 5 layerdan olusan GRU veya LSTM modelleri kurulmasi tavsiye edilir. Biz modelimizde 2 layer kullandik. Daha fazla layer kullandigimizda model overfit oldu. "
   ]
  },
  {
   "cell_type": "markdown",
   "metadata": {},
   "source": [
    "Model overfite gittigi icin __Dropout__ kullandik. %20 dropout ile 50 boyutlu vektorun en fazla %20' si kapatilir. (max %20' si kapatilir, daha az da olabilir, her epoch'ta bu sayi max %20 olacak sekilde degisir). Dropout degeri ve yeri degistirilerek farkli varyasyonlar denenerek overfitin onune gecilebilir."
   ]
  },
  {
   "cell_type": "markdown",
   "metadata": {},
   "source": [
    "__units=48 -->__ Timeseries modellerinde 'units', nöron sayisini temsil ediyordu. Burada ise embedding_size' i temsil eder. Yukarida vektorumuzun boyutunu 50 olarak belirlemistik, burada bu sayiyi 48' e dusurduk. (Bu sayi istege gore degistirilebilir. Ayni boyutla baslayip yariya dusurulebilir.)"
   ]
  },
  {
   "cell_type": "markdown",
   "metadata": {},
   "source": [
    "__return_sequences=True -->__ Her t aninda her yeni token modele geldigi zaman yeni bir hidden state olusur. Hatirlanmasi gereken bilgiler cell state' e aktarilirken hidden state' e yeni token gelir. Her asamanin sonunda hidden state ve cell state birbirine esitlenir. cell state' te cok fazla bilgi birikirse LSTM ve GRU modellerde bile belli bir uzunluktan sonra unutmalar baslayabilir. _return_sequences_, cell state' te meydana gelebilecek unutmalarin olmamasi icin bunlarin topluca sonraki layer' a aktarilmasini saglar. GRU ve LSTM' den sonra tekrar bir GRU ve LSTM layer' i kullanilacaksa bu parametreyi kullanmak zorunludur. "
   ]
  },
  {
   "cell_type": "markdown",
   "metadata": {},
   "source": [
    "LSTM ve GRU modelleri Exploding Gradient ve Vanishing Gradienti engelledigi icin __BatchNormalization__ kullanmaya gerek yok fakat tercihe gore kullanilabilir. "
   ]
  },
  {
   "cell_type": "raw",
   "metadata": {},
   "source": [
    "Overfiti onlemenin yollari :\n",
    "\n",
    "1. embedding_size\n",
    "2. learning_rate : Cok kucuk olursa overfite neden olabilir. (Bu modelde buyutunce overfittingi engelleyebildik)\n",
    "3. Dropout\n",
    "4. batch_size : Kucuk oldugu zaman modelin overfite gitme tehlikesi artar.\n",
    "5. Epoch sayisini 1'e dusurmek. (Butun parametreler ile oynanmasina ragmen overfit engellenemiyorsa bu yapilir)"
   ]
  },
  {
   "cell_type": "code",
   "execution_count": 52,
   "metadata": {
    "id": "WDFpf4fSMP3X"
   },
   "outputs": [],
   "source": [
    "model.add(Embedding(input_dim=num_words,\n",
    "                    output_dim=embedding_size,\n",
    "                    input_length=max_tokens))\n",
    "\n",
    "model.add(Dropout(0.2))\n",
    "\n",
    "model.add(GRU(units=48, return_sequences=True))\n",
    "model.add(Dropout(0.2))\n",
    "\n",
    "#model.add(GRU(units=24, return_sequences=True))\n",
    "#model.add(Dropout(0.2))\n",
    "\n",
    "model.add(GRU(units=12))\n",
    "\n",
    "model.add(Dense(1, activation='sigmoid'))"
   ]
  },
  {
   "cell_type": "code",
   "execution_count": 53,
   "metadata": {
    "id": "pKOLaAIlMP3X"
   },
   "outputs": [],
   "source": [
    "optimizer = Adam(learning_rate=0.01)"
   ]
  },
  {
   "cell_type": "markdown",
   "metadata": {},
   "source": [
    "__binary_crossentropy -->__ Binary class' larimiz oldugu icin bunu sectik. Bu degerin 0' a yakin olmasini isteriz. "
   ]
  },
  {
   "cell_type": "code",
   "execution_count": 54,
   "metadata": {
    "id": "zQqwx6KkMP3X"
   },
   "outputs": [],
   "source": [
    "model.compile(loss='binary_crossentropy',\n",
    "              optimizer=optimizer,\n",
    "              metrics=['Recall'])"
   ]
  },
  {
   "cell_type": "markdown",
   "metadata": {
    "id": "25o7tm7cMP3X"
   },
   "source": [
    "https://stats.stackexchange.com/questions/328926/how-many-parameters-are-in-a-gated-recurrent-unit-gru-recurrent-neural-network"
   ]
  },
  {
   "cell_type": "markdown",
   "metadata": {},
   "source": [
    "__(None, 61, 50) -->__ None : batchsize (Henuz belirlemedigimiz icin None, asagida belirleyecegiz). Word embedding 61 tokenden olusuyor ve her bir token de 50 boyutlu :"
   ]
  },
  {
   "cell_type": "code",
   "execution_count": 55,
   "metadata": {
    "colab": {
     "base_uri": "https://localhost:8080/"
    },
    "id": "kuUR-OshMP3Y",
    "outputId": "fe300ccd-4295-4511-d81b-56b819cc483b"
   },
   "outputs": [
    {
     "name": "stdout",
     "output_type": "stream",
     "text": [
      "Model: \"sequential\"\n",
      "_________________________________________________________________\n",
      " Layer (type)                Output Shape              Param #   \n",
      "=================================================================\n",
      " embedding (Embedding)       (None, 61, 50)            750000    \n",
      "                                                                 \n",
      " dropout (Dropout)           (None, 61, 50)            0         \n",
      "                                                                 \n",
      " gru (GRU)                   (None, 61, 48)            14400     \n",
      "                                                                 \n",
      " dropout_1 (Dropout)         (None, 61, 48)            0         \n",
      "                                                                 \n",
      " gru_1 (GRU)                 (None, 12)                2232      \n",
      "                                                                 \n",
      " dense (Dense)               (None, 1)                 13        \n",
      "                                                                 \n",
      "=================================================================\n",
      "Total params: 766,645\n",
      "Trainable params: 766,645\n",
      "Non-trainable params: 0\n",
      "_________________________________________________________________\n"
     ]
    }
   ],
   "source": [
    "model.summary() \n",
    "# 3 x (n2 + nm + 2n) m= input, n= output           # GRU' da RNN'e gore 3 kat fazla parametre.\n",
    "# (48*48 + 100*48 +2*48)*3 ==> m = 50, n = 48\n",
    "# (24*24 + 48*24  +2*24)*3 ==> m =  48, n = 24\n",
    "# (12*12 + 24*12  +2*12)*3 ==> m =  24, n = 12"
   ]
  },
  {
   "cell_type": "markdown",
   "metadata": {
    "id": "WPaOHrkgEUW2"
   },
   "source": [
    "__mode=\"auto\" -->__ monitor artma egiliminde ise bunun buyumesi gereken bir sayi oldugunu tespit eder, azalma egiliminde ise azalmasi gereken bir sayi oldugunu tespit eder ve min degeri aramasi gerektigini dusunur. Modelimizde recall degerleri once yuksek cikip sonra azalmaya basliyor. Halbuki biz val_los' un max olmasini istiyoruz. Bu yuzden bu parametreyi __max__ olarak degistirdik. recall ve precision skorlari icin bu deger max yapilmalidir. NLP modellerinde ilk epoch' larda overfit tehlikesi fazla oldugu icin bu parametreyi dogru secmek onemlidir. "
   ]
  },
  {
   "cell_type": "raw",
   "metadata": {},
   "source": [
    "!! mode (NLP modellerinde hicbir zaman auto' da birakma!) !!\n",
    "\n",
    "*recall ve precision icin --> max \n",
    "*loss ve val_los icin --> min "
   ]
  },
  {
   "cell_type": "markdown",
   "metadata": {},
   "source": [
    "__patience = 2 -->__ NLP modelleri cok cabuk overfit oldugu icin patience sayisini kucuk tercih ettik. "
   ]
  },
  {
   "cell_type": "markdown",
   "metadata": {},
   "source": [
    "__restore_best_weights=True -->__ Patience kac ise o skorlar icindeki en iyi skoru al."
   ]
  },
  {
   "cell_type": "code",
   "execution_count": 57,
   "metadata": {
    "id": "5LxZGh5EMP3Y"
   },
   "outputs": [],
   "source": [
    "from tensorflow.keras.callbacks import EarlyStopping\n",
    "\n",
    "early_stop = EarlyStopping(monitor=\"val_recall\", mode=\"max\", \n",
    "                           verbose=1, patience = 1, restore_best_weights=True)"
   ]
  },
  {
   "cell_type": "markdown",
   "metadata": {},
   "source": [
    "Class' lar arasinda dengesizlik olabilecegini öngördügümüz icin __class_weight'__ i import ettik. class_weight ile az olan class' in agirligini artirdik :"
   ]
  },
  {
   "cell_type": "code",
   "execution_count": 66,
   "metadata": {
    "colab": {
     "base_uri": "https://localhost:8080/"
    },
    "id": "JSHMJXiRMP3Z",
    "outputId": "99795c96-cd5f-4212-808e-d69fed89edd6"
   },
   "outputs": [
    {
     "data": {
      "text/plain": [
       "array([0.52975426, 8.90215702])"
      ]
     },
     "execution_count": 66,
     "metadata": {},
     "output_type": "execute_result"
    }
   ],
   "source": [
    "from sklearn.utils import class_weight\n",
    "classes_weights = class_weight.compute_sample_weight(class_weight='balanced', y=y_train)\n",
    "pd.Series(classes_weights).unique()"
   ]
  },
  {
   "cell_type": "markdown",
   "metadata": {
    "id": "E2Mm-c-Yg1PU"
   },
   "source": [
    "https://keras.io/getting_started/faq/#why-is-my-training-loss-much-higher-than-my-testing-loss"
   ]
  },
  {
   "cell_type": "markdown",
   "metadata": {},
   "source": [
    "Eger model overfite gidiyorsa batch_size kademeli olarak artirilip skorlar takip edilebilir. "
   ]
  },
  {
   "cell_type": "code",
   "execution_count": null,
   "metadata": {
    "colab": {
     "base_uri": "https://localhost:8080/"
    },
    "id": "Aq7oVrxLMP3Z",
    "outputId": "f4296754-57fa-4e92-95ab-36e0e27a5327"
   },
   "outputs": [
    {
     "name": "stdout",
     "output_type": "stream",
     "text": [
      "Epoch 1/10\n",
      "761/761 [==============================] - 135s 171ms/step - loss: 0.3209 - recall: 0.8592 - val_loss: 0.3223 - val_recall: 0.9280\n",
      "Epoch 2/10\n",
      "761/761 [==============================] - ETA: 0s - loss: 0.1973 - recall: 0.9284Restoring model weights from the end of the best epoch: 1.\n",
      "761/761 [==============================] - 130s 170ms/step - loss: 0.1973 - recall: 0.9284 - val_loss: 0.1818 - val_recall: 0.8325\n",
      "Epoch 2: early stopping\n"
     ]
    },
    {
     "data": {
      "text/plain": [
       "<keras.callbacks.History at 0x7fc89d06f950>"
      ]
     },
     "execution_count": 155,
     "metadata": {},
     "output_type": "execute_result"
    }
   ],
   "source": [
    "model.fit(X_train, y_train, epochs=10, batch_size=256, sample_weight= classes_weights,\n",
    "         validation_data=(X_test, y_test), callbacks=[early_stop])"
   ]
  },
  {
   "cell_type": "markdown",
   "metadata": {},
   "source": [
    "__loss -->__ loss degeri tahminimizin ne kadar guclu oldugunu gosterir. Diyelim ki corpustaki ilk yorum olumlu olsun ve model bunu %99 oraninda bilmis olsun. Bu degerinin log' u alindiginda log(99), 0' a cok yakin bir deger bulunur. Bu yuzden bu degerin 0' a yakin olmasi modelin basarisinin yuksek oldugunu gosterir."
   ]
  },
  {
   "cell_type": "markdown",
   "metadata": {},
   "source": [
    "__!!!__ Dengesiz datasetlerinde sayisi fazla olan class yuksek skorlarla tahmin edilirken sayisi az olan class dusuk skorlarla tahmin edilse bile epoch sonunda loss degerlerinin ortalamasi alinirken dusuk skorlu class' in sayisi az oldugu icin ortalamaya cok fazla etki etmez ve loss degeri 0' a yakin cikar. Halbuki sayisi az olan class' lar cok kotu tahmin edilmistir. Bu yuzden  NLP' de (ozellikle dengesiz datasetlerinde) loss degeri ML' deki accuracy degeri ile esdegerdir. Bu nedenle model calistirildiktan sonra train ve test set skorlarinin mutlaka kontrol edilmesi gerekir.  __!!!__"
   ]
  },
  {
   "cell_type": "markdown",
   "metadata": {},
   "source": [
    "NLP' de genel olarak 1 veya 2 epoch kullanilir. "
   ]
  },
  {
   "cell_type": "markdown",
   "metadata": {},
   "source": [
    "NLP' de genelde ilk epoch' larda loss degeri val_loss degerinden buyuk olur. Cunku data ilk epoch' ta egitim asamasindadir. Ilerleyen epoch' larda ogrenme artcagi icin loss ve val_loss degerleri birbirine yaklasacaktir. Epoch sayisi az oldugunda ise __model.history.history__ grafigine bakarak overfitting var veya yok kararini veremeyiz. ML modellerinde oldugu gibi train ve test skorlarini mutlaka karsilastirmamiz gerekir."
   ]
  },
  {
   "cell_type": "markdown",
   "metadata": {
    "id": "fUZGuKlgMP3Z"
   },
   "source": [
    "## Model evaluation"
   ]
  },
  {
   "cell_type": "code",
   "execution_count": null,
   "metadata": {
    "colab": {
     "base_uri": "https://localhost:8080/",
     "height": 112
    },
    "id": "FY1--hF-MP3Z",
    "outputId": "c114d306-082e-4d3e-f36b-16f472675935"
   },
   "outputs": [
    {
     "data": {
      "text/html": [
       "\n",
       "  <div id=\"df-fb90e9bf-babe-4b04-bc8c-951acf6fbe40\">\n",
       "    <div class=\"colab-df-container\">\n",
       "      <div>\n",
       "<style scoped>\n",
       "    .dataframe tbody tr th:only-of-type {\n",
       "        vertical-align: middle;\n",
       "    }\n",
       "\n",
       "    .dataframe tbody tr th {\n",
       "        vertical-align: top;\n",
       "    }\n",
       "\n",
       "    .dataframe thead th {\n",
       "        text-align: right;\n",
       "    }\n",
       "</style>\n",
       "<table border=\"1\" class=\"dataframe\">\n",
       "  <thead>\n",
       "    <tr style=\"text-align: right;\">\n",
       "      <th></th>\n",
       "      <th>loss</th>\n",
       "      <th>recall</th>\n",
       "      <th>val_loss</th>\n",
       "      <th>val_recall</th>\n",
       "    </tr>\n",
       "  </thead>\n",
       "  <tbody>\n",
       "    <tr>\n",
       "      <th>0</th>\n",
       "      <td>0.320903</td>\n",
       "      <td>0.859245</td>\n",
       "      <td>0.322289</td>\n",
       "      <td>0.927971</td>\n",
       "    </tr>\n",
       "    <tr>\n",
       "      <th>1</th>\n",
       "      <td>0.197325</td>\n",
       "      <td>0.928434</td>\n",
       "      <td>0.181824</td>\n",
       "      <td>0.832541</td>\n",
       "    </tr>\n",
       "  </tbody>\n",
       "</table>\n",
       "</div>\n",
       "      <button class=\"colab-df-convert\" onclick=\"convertToInteractive('df-fb90e9bf-babe-4b04-bc8c-951acf6fbe40')\"\n",
       "              title=\"Convert this dataframe to an interactive table.\"\n",
       "              style=\"display:none;\">\n",
       "        \n",
       "  <svg xmlns=\"http://www.w3.org/2000/svg\" height=\"24px\"viewBox=\"0 0 24 24\"\n",
       "       width=\"24px\">\n",
       "    <path d=\"M0 0h24v24H0V0z\" fill=\"none\"/>\n",
       "    <path d=\"M18.56 5.44l.94 2.06.94-2.06 2.06-.94-2.06-.94-.94-2.06-.94 2.06-2.06.94zm-11 1L8.5 8.5l.94-2.06 2.06-.94-2.06-.94L8.5 2.5l-.94 2.06-2.06.94zm10 10l.94 2.06.94-2.06 2.06-.94-2.06-.94-.94-2.06-.94 2.06-2.06.94z\"/><path d=\"M17.41 7.96l-1.37-1.37c-.4-.4-.92-.59-1.43-.59-.52 0-1.04.2-1.43.59L10.3 9.45l-7.72 7.72c-.78.78-.78 2.05 0 2.83L4 21.41c.39.39.9.59 1.41.59.51 0 1.02-.2 1.41-.59l7.78-7.78 2.81-2.81c.8-.78.8-2.07 0-2.86zM5.41 20L4 18.59l7.72-7.72 1.47 1.35L5.41 20z\"/>\n",
       "  </svg>\n",
       "      </button>\n",
       "      \n",
       "  <style>\n",
       "    .colab-df-container {\n",
       "      display:flex;\n",
       "      flex-wrap:wrap;\n",
       "      gap: 12px;\n",
       "    }\n",
       "\n",
       "    .colab-df-convert {\n",
       "      background-color: #E8F0FE;\n",
       "      border: none;\n",
       "      border-radius: 50%;\n",
       "      cursor: pointer;\n",
       "      display: none;\n",
       "      fill: #1967D2;\n",
       "      height: 32px;\n",
       "      padding: 0 0 0 0;\n",
       "      width: 32px;\n",
       "    }\n",
       "\n",
       "    .colab-df-convert:hover {\n",
       "      background-color: #E2EBFA;\n",
       "      box-shadow: 0px 1px 2px rgba(60, 64, 67, 0.3), 0px 1px 3px 1px rgba(60, 64, 67, 0.15);\n",
       "      fill: #174EA6;\n",
       "    }\n",
       "\n",
       "    [theme=dark] .colab-df-convert {\n",
       "      background-color: #3B4455;\n",
       "      fill: #D2E3FC;\n",
       "    }\n",
       "\n",
       "    [theme=dark] .colab-df-convert:hover {\n",
       "      background-color: #434B5C;\n",
       "      box-shadow: 0px 1px 3px 1px rgba(0, 0, 0, 0.15);\n",
       "      filter: drop-shadow(0px 1px 2px rgba(0, 0, 0, 0.3));\n",
       "      fill: #FFFFFF;\n",
       "    }\n",
       "  </style>\n",
       "\n",
       "      <script>\n",
       "        const buttonEl =\n",
       "          document.querySelector('#df-fb90e9bf-babe-4b04-bc8c-951acf6fbe40 button.colab-df-convert');\n",
       "        buttonEl.style.display =\n",
       "          google.colab.kernel.accessAllowed ? 'block' : 'none';\n",
       "\n",
       "        async function convertToInteractive(key) {\n",
       "          const element = document.querySelector('#df-fb90e9bf-babe-4b04-bc8c-951acf6fbe40');\n",
       "          const dataTable =\n",
       "            await google.colab.kernel.invokeFunction('convertToInteractive',\n",
       "                                                     [key], {});\n",
       "          if (!dataTable) return;\n",
       "\n",
       "          const docLinkHtml = 'Like what you see? Visit the ' +\n",
       "            '<a target=\"_blank\" href=https://colab.research.google.com/notebooks/data_table.ipynb>data table notebook</a>'\n",
       "            + ' to learn more about interactive tables.';\n",
       "          element.innerHTML = '';\n",
       "          dataTable['output_type'] = 'display_data';\n",
       "          await google.colab.output.renderOutput(dataTable, element);\n",
       "          const docLink = document.createElement('div');\n",
       "          docLink.innerHTML = docLinkHtml;\n",
       "          element.appendChild(docLink);\n",
       "        }\n",
       "      </script>\n",
       "    </div>\n",
       "  </div>\n",
       "  "
      ],
      "text/plain": [
       "       loss    recall  val_loss  val_recall\n",
       "0  0.320903  0.859245  0.322289    0.927971\n",
       "1  0.197325  0.928434  0.181824    0.832541"
      ]
     },
     "execution_count": 156,
     "metadata": {},
     "output_type": "execute_result"
    }
   ],
   "source": [
    "model_loss = pd.DataFrame(model.history.history)\n",
    "model_loss.head()"
   ]
  },
  {
   "cell_type": "markdown",
   "metadata": {},
   "source": [
    "Model toplamda 2 epoch calisti ve __restore_best_weights=True__ parametresinden dolayi ilk epoch skorunu aldi. Grafige bakarak model hakkinda yorum yapmak pek saglikli degil, train ve test skorlarina bakacagiz :"
   ]
  },
  {
   "cell_type": "code",
   "execution_count": null,
   "metadata": {
    "colab": {
     "base_uri": "https://localhost:8080/",
     "height": 283
    },
    "id": "BDVnpeScMP3Z",
    "outputId": "aebd1e83-1f4e-449f-9395-cfcd59fa3ac5"
   },
   "outputs": [
    {
     "data": {
      "text/plain": [
       "<matplotlib.axes._subplots.AxesSubplot at 0x7fc89a809250>"
      ]
     },
     "execution_count": 157,
     "metadata": {},
     "output_type": "execute_result"
    },
    {
     "data": {
      "image/png": "[encoded data removed]",
      "text/plain": [
       "<Figure size 432x288 with 1 Axes>"
      ]
     },
     "metadata": {
      "needs_background": "light"
     },
     "output_type": "display_data"
    }
   ],
   "source": [
    "model_loss.plot()"
   ]
  },
  {
   "cell_type": "markdown",
   "metadata": {
    "id": "jfo1PLy9FW32"
   },
   "source": [
    "Train seti icin takip ettigimiz degerler olan val_loss ve val_recall degerlerini model.evaluate ile yazdirdik :"
   ]
  },
  {
   "cell_type": "code",
   "execution_count": null,
   "metadata": {
    "colab": {
     "base_uri": "https://localhost:8080/"
    },
    "id": "VW9rUaYgMP3a",
    "outputId": "1b696894-ebce-40bf-a98c-c53f22e36c7d"
   },
   "outputs": [
    {
     "name": "stdout",
     "output_type": "stream",
     "text": [
      "6088/6088 [==============================] - 85s 14ms/step - loss: 0.2940 - recall: 0.9679\n"
     ]
    },
    {
     "data": {
      "text/plain": [
       "[0.2940090596675873, 0.9679188132286072]"
      ]
     },
     "execution_count": 158,
     "metadata": {},
     "output_type": "execute_result"
    }
   ],
   "source": [
    "model.evaluate(X_train, y_train)"
   ]
  },
  {
   "cell_type": "markdown",
   "metadata": {},
   "source": [
    "Test seti icin aldigimiz loss ve recall degerleri asagida. Train set skorlari ile bunlari kiyaslayabiliriz veya bunun yerine asagidaki gibi train ve test set skorlarini __confusion_matrix__ ile de kiyaslayabiliriz :"
   ]
  },
  {
   "cell_type": "code",
   "execution_count": null,
   "metadata": {
    "colab": {
     "base_uri": "https://localhost:8080/"
    },
    "id": "hVZ2aAfMMP3a",
    "outputId": "2f3a2b94-7cda-4f83-9124-a377db215bce"
   },
   "outputs": [
    {
     "name": "stdout",
     "output_type": "stream",
     "text": [
      "1522/1522 [==============================] - 22s 14ms/step - loss: 0.3223 - recall: 0.9280\n"
     ]
    },
    {
     "data": {
      "text/plain": [
       "[0.3222893178462982, 0.9279707670211792]"
      ]
     },
     "execution_count": 159,
     "metadata": {},
     "output_type": "execute_result"
    }
   ],
   "source": [
    "model.evaluate(X_test, y_test)"
   ]
  },
  {
   "cell_type": "code",
   "execution_count": null,
   "metadata": {
    "colab": {
     "base_uri": "https://localhost:8080/"
    },
    "id": "lh2CIUcJy9dt",
    "outputId": "20e29168-4671-4d25-b44b-b7f1a8b17148"
   },
   "outputs": [
    {
     "name": "stdout",
     "output_type": "stream",
     "text": [
      "[[160497  23359]\n",
      " [   351  10590]]\n",
      "-------------------------------------------------------\n",
      "              precision    recall  f1-score   support\n",
      "\n",
      "           0       1.00      0.87      0.93    183856\n",
      "           1       0.31      0.97      0.47     10941\n",
      "\n",
      "    accuracy                           0.88    194797\n",
      "   macro avg       0.65      0.92      0.70    194797\n",
      "weighted avg       0.96      0.88      0.91    194797\n",
      "\n"
     ]
    }
   ],
   "source": [
    "from sklearn.metrics import confusion_matrix, classification_report, accuracy_score, f1_score, roc_auc_score\n",
    "y_train_pred = model.predict(X_train) >= 0.5\n",
    "\n",
    "print(confusion_matrix(y_train, y_train_pred))\n",
    "print(\"-------------------------------------------------------\")\n",
    "print(classification_report(y_train, y_train_pred))"
   ]
  },
  {
   "cell_type": "markdown",
   "metadata": {},
   "source": [
    "Modelde herhangi bir overfit durumu gorulmuyor, train ve test set skorlari birbirine yakin. Bizim icin onemli olan 1 class' inin train ve test set skorlarina baktigimizda recall skorlari cok yuksek cikmis fakat precision skorlari oldukca dusuk (Model cok fazla tahmin yapiyor)."
   ]
  },
  {
   "cell_type": "code",
   "execution_count": null,
   "metadata": {
    "colab": {
     "base_uri": "https://localhost:8080/"
    },
    "id": "PfAxi22ry8t9",
    "outputId": "37c1ea08-93bb-45c5-8797-9091da2336b4"
   },
   "outputs": [
    {
     "name": "stdout",
     "output_type": "stream",
     "text": [
      "[[39583  6382]\n",
      " [  197  2538]]\n",
      "-------------------------------------------------------\n",
      "              precision    recall  f1-score   support\n",
      "\n",
      "           0       1.00      0.86      0.92     45965\n",
      "           1       0.28      0.93      0.44      2735\n",
      "\n",
      "    accuracy                           0.86     48700\n",
      "   macro avg       0.64      0.89      0.68     48700\n",
      "weighted avg       0.96      0.86      0.90     48700\n",
      "\n"
     ]
    }
   ],
   "source": [
    "y_pred = model.predict(X_test) >= 0.5\n",
    "\n",
    "print(confusion_matrix(y_test, y_pred))\n",
    "print(\"-------------------------------------------------------\")\n",
    "print(classification_report(y_test, y_pred))"
   ]
  },
  {
   "cell_type": "markdown",
   "metadata": {},
   "source": [
    "Dengesiz bir datasetimiz oldugu icin modelin genel performansina bakmak icin precision_recall_curve grafigini cizdirdik. Modelin basarisi %73 :"
   ]
  },
  {
   "cell_type": "code",
   "execution_count": null,
   "metadata": {
    "colab": {
     "base_uri": "https://localhost:8080/",
     "height": 295
    },
    "id": "kF0ks_UphsVL",
    "outputId": "043bd45b-07f2-438a-853d-407f9a8cfe6c"
   },
   "outputs": [
    {
     "data": {
      "image/png": "[encoded data removed]",
      "text/plain": [
       "<Figure size 432x288 with 1 Axes>"
      ]
     },
     "metadata": {
      "needs_background": "light"
     },
     "output_type": "display_data"
    }
   ],
   "source": [
    "from sklearn.metrics import precision_recall_curve, average_precision_score\n",
    "import matplotlib.pyplot as plt\n",
    "\n",
    "y_pred_proba = model.predict(X_test)\n",
    "precision, recall, thresholds = precision_recall_curve(y_test, y_pred_proba,)\n",
    "plt.plot([1,0],[0,1],'k--')\n",
    "plt.plot(recall, precision)\n",
    "plt.xlabel('recall')\n",
    "plt.ylabel('precision')\n",
    "plt.title('precision recall curve')\n",
    "plt.show()"
   ]
  },
  {
   "cell_type": "code",
   "execution_count": null,
   "metadata": {
    "colab": {
     "base_uri": "https://localhost:8080/"
    },
    "id": "PngCc_Ofk3ek",
    "outputId": "58736827-dfad-4f36-f783-d3d123b5a7e1"
   },
   "outputs": [
    {
     "data": {
      "text/plain": [
       "0.7356418283772912"
      ]
     },
     "execution_count": 163,
     "metadata": {},
     "output_type": "execute_result"
    }
   ],
   "source": [
    "average_precision_score(y_test, y_pred_proba)"
   ]
  },
  {
   "cell_type": "markdown",
   "metadata": {
    "id": "xAbTifhcHvyX"
   },
   "source": [
    "## Scores without sample_weight"
   ]
  },
  {
   "cell_type": "markdown",
   "metadata": {},
   "source": [
    "sample_weight kullanmadan aldigimiz skorlarda train ve test seti arasinda oldukca fark var. Model, overfit olmus :"
   ]
  },
  {
   "cell_type": "code",
   "execution_count": null,
   "metadata": {
    "colab": {
     "base_uri": "https://localhost:8080/"
    },
    "id": "SSL0jBuAGvyz",
    "outputId": "f977a4bf-eb6d-45e2-8a5a-67851417ca6a"
   },
   "outputs": [
    {
     "name": "stdout",
     "output_type": "stream",
     "text": [
      "[[182573   1283]\n",
      " [  2146   8795]]\n",
      "-------------------------------------------------------\n",
      "              precision    recall  f1-score   support\n",
      "\n",
      "           0       0.99      0.99      0.99    183856\n",
      "           1       0.87      0.80      0.84     10941\n",
      "\n",
      "    accuracy                           0.98    194797\n",
      "   macro avg       0.93      0.90      0.91    194797\n",
      "weighted avg       0.98      0.98      0.98    194797\n",
      "\n"
     ]
    }
   ],
   "source": [
    "y_train_pred = model.predict(X_train) >= 0.5\n",
    "\n",
    "print(confusion_matrix(y_train, y_train_pred))\n",
    "print(\"-------------------------------------------------------\")\n",
    "print(classification_report(y_train, y_train_pred))"
   ]
  },
  {
   "cell_type": "code",
   "execution_count": null,
   "metadata": {
    "colab": {
     "base_uri": "https://localhost:8080/"
    },
    "id": "lL0SUTN1Gvy0",
    "outputId": "019e665e-5cfb-4de9-fe55-2e94a74b2a1e"
   },
   "outputs": [
    {
     "name": "stdout",
     "output_type": "stream",
     "text": [
      "[[45310   655]\n",
      " [ 1015  1720]]\n",
      "-------------------------------------------------------\n",
      "              precision    recall  f1-score   support\n",
      "\n",
      "           0       0.98      0.99      0.98     45965\n",
      "           1       0.72      0.63      0.67      2735\n",
      "\n",
      "    accuracy                           0.97     48700\n",
      "   macro avg       0.85      0.81      0.83     48700\n",
      "weighted avg       0.96      0.97      0.96     48700\n",
      "\n"
     ]
    }
   ],
   "source": [
    "y_pred = model.predict(X_test) >= 0.5\n",
    "\n",
    "print(confusion_matrix(y_test, y_pred))\n",
    "print(\"-------------------------------------------------------\")\n",
    "print(classification_report(y_test, y_pred))"
   ]
  },
  {
   "cell_type": "markdown",
   "metadata": {
    "id": "PlG-6uRCHEhX"
   },
   "source": [
    "## Base model without sample weights\n",
    "\n",
    "\n",
    "model.add(Embedding(input_dim=num_words,\n",
    "                    output_dim=embedding_size,\n",
    "                    input_length=max_tokens))\n",
    "\n",
    "model.add(Dropout(0.5))\n",
    "\n",
    "model.add(GRU(units=48, return_sequences=True))\n",
    "\n",
    "model.add(Dropout(0.5))\n",
    "\n",
    "model.add(GRU(units=12))\n",
    "\n",
    "model.add(Dense(1, activation='sigmoid'))\n",
    "\n",
    "\n",
    "optimizer = Adam(learning_rate=0.001)\n",
    "\n",
    "\n",
    "model.compile(loss='binary_crossentropy',\n",
    "              optimizer=optimizer,\n",
    "              metrics=['Recall'])\n",
    "\n",
    "\n",
    "model.fit(X_train, y_train, epochs=1, batch_size=128,\n",
    "         validation_data=(X_test, y_test))"
   ]
  },
  {
   "cell_type": "markdown",
   "metadata": {},
   "source": [
    "class_weight yapmadan sadece parametreler ile oynayarak aldigimiz skorlar asagida, overfit bu sekilde de engellenmis. Musteri icin recall degeri onemli ise yukaridaki class_weight ile kurdugumuz model sunulabilir. "
   ]
  },
  {
   "cell_type": "code",
   "execution_count": null,
   "metadata": {
    "colab": {
     "base_uri": "https://localhost:8080/"
    },
    "id": "komhkHk_Gt5u",
    "outputId": "00d33a27-8416-4f77-8927-151c11d3784a"
   },
   "outputs": [
    {
     "name": "stdout",
     "output_type": "stream",
     "text": [
      "[[182868    988]\n",
      " [  4445   6496]]\n",
      "-------------------------------------------------------\n",
      "              precision    recall  f1-score   support\n",
      "\n",
      "           0       0.98      0.99      0.99    183856\n",
      "           1       0.87      0.59      0.71     10941\n",
      "\n",
      "    accuracy                           0.97    194797\n",
      "   macro avg       0.92      0.79      0.85    194797\n",
      "weighted avg       0.97      0.97      0.97    194797\n",
      "\n"
     ]
    }
   ],
   "source": [
    "from sklearn.metrics import confusion_matrix, classification_report, accuracy_score, f1_score, roc_auc_score\n",
    "y_train_pred = model.predict(X_train) >= 0.5\n",
    "\n",
    "print(confusion_matrix(y_train, y_train_pred))\n",
    "print(\"-------------------------------------------------------\")\n",
    "print(classification_report(y_train, y_train_pred))"
   ]
  },
  {
   "cell_type": "code",
   "execution_count": null,
   "metadata": {
    "colab": {
     "base_uri": "https://localhost:8080/"
    },
    "id": "DCmq1phiAjz5",
    "outputId": "eed56df7-c1b6-41de-ae5d-cb0f2bc60905"
   },
   "outputs": [
    {
     "name": "stdout",
     "output_type": "stream",
     "text": [
      "[[45669   296]\n",
      " [ 1321  1414]]\n",
      "-------------------------------------------------------\n",
      "              precision    recall  f1-score   support\n",
      "\n",
      "           0       0.97      0.99      0.98     45965\n",
      "           1       0.83      0.52      0.64      2735\n",
      "\n",
      "    accuracy                           0.97     48700\n",
      "   macro avg       0.90      0.76      0.81     48700\n",
      "weighted avg       0.96      0.97      0.96     48700\n",
      "\n"
     ]
    }
   ],
   "source": [
    "y_pred = model.predict(X_test) >= 0.5\n",
    "\n",
    "print(confusion_matrix(y_test, y_pred))\n",
    "print(\"-------------------------------------------------------\")\n",
    "print(classification_report(y_test, y_pred))"
   ]
  },
  {
   "cell_type": "markdown",
   "metadata": {
    "id": "b0fcHGnY0aH9"
   },
   "source": [
    "## Model Saving"
   ]
  },
  {
   "cell_type": "code",
   "execution_count": null,
   "metadata": {
    "id": "Io2S2n_30UAx"
   },
   "outputs": [],
   "source": [
    "model.save('review_hepsiburada.h5')"
   ]
  },
  {
   "cell_type": "markdown",
   "metadata": {
    "id": "RvHJTK3N1M8I"
   },
   "source": [
    "## Loading Model"
   ]
  },
  {
   "cell_type": "markdown",
   "metadata": {},
   "source": [
    "Yukarida modelimizi kaydettik. Modelimiz hangi nerede kayitli ise load_model ile ordan cagirdik :"
   ]
  },
  {
   "cell_type": "code",
   "execution_count": null,
   "metadata": {
    "id": "6fF_Moci1Rl3"
   },
   "outputs": [],
   "source": [
    "from tensorflow.keras.models import load_model\n",
    "model_review = load_model('/content/drive/MyDrive/review_hepsiburada.h5')"
   ]
  },
  {
   "cell_type": "markdown",
   "metadata": {
    "id": "U3Z5WQt0MP3e"
   },
   "source": [
    "## Predicton"
   ]
  },
  {
   "cell_type": "markdown",
   "metadata": {},
   "source": [
    "Prediction icin sample' lar yazip modele verdik :"
   ]
  },
  {
   "cell_type": "code",
   "execution_count": null,
   "metadata": {
    "id": "XXl_3XopMP3e"
   },
   "outputs": [],
   "source": [
    "review1 = \"çok beğendim herkese tavsiye ederim\"\n",
    "review2 = \"süper ürün aynı gün elime geçti\"\n",
    "review3 = \"büyük bir hayal kırıklığı yaşadım bu ürünü bu markaya yakıştıramadım\"\n",
    "review4 = \"kelimelerle tarif edilemez\"\n",
    "review5 = \"tasarımı harika ancak kargo çok geç geldi ve ürün açılmıştı hayal kırıklığı gerçekten\"\n",
    "review6 = \"hiç resimde gösterildiği gibi değil\"\n",
    "review7 = \"kötü yorumlar gözümü korkutmuştu ancak hiçbir sorun yaşamadım teşekkürler\"\n",
    "review8 = \"hiç bu kadar kötü bir satıcıya denk gelmemiştim ürün siparişimi iptal ediyorum\"\n",
    "review9 = \"tam bir fiyat performans ürünü\"\n",
    "review10 = \"beklediğim gibi çıkmadı\"\n",
    "review11 = \"on numara beş yıldız\"\n",
    "review12 = \"üründe sıkıntı var\"\n",
    "review13 = \"televizyonun görüntü kalitesi çok kötü, dün akşam evde arkadaşlarla toplandık. yedik, içtik, sohbet ettik. Sonra televizyonda Türkiye - İngiltere maçını seyrettik. \"\n",
    "review14 = '1 gün gibi kısa bir sürede elime geçti. Ve bu fıyata süper bir ürün tavsiye ederim. Lakin eli büyük olan kişiler daha büyük modelini tercih edebilirler ortaboy ürün. Teşekkürler '\n",
    "reviews = [review1, review2, review3, review4, review5, review6, review7, review8, review9, review10, review11, review12, review13, review14]"
   ]
  },
  {
   "cell_type": "markdown",
   "metadata": {},
   "source": [
    "Bu yorumlari modele verebilmek icin oncelikle tokenizer islemine tabi tutarak tokenlerine ayirmamiz gerekir :"
   ]
  },
  {
   "cell_type": "code",
   "execution_count": null,
   "metadata": {
    "id": "XhxQQSEqMP3e"
   },
   "outputs": [],
   "source": [
    "tokens = tokenizer.texts_to_sequences(reviews)"
   ]
  },
  {
   "cell_type": "markdown",
   "metadata": {},
   "source": [
    "pad_sequences ile tum yorumlari 61 tokene sabitledik :"
   ]
  },
  {
   "cell_type": "code",
   "execution_count": null,
   "metadata": {
    "colab": {
     "base_uri": "https://localhost:8080/"
    },
    "id": "NNbh_gkTMP3e",
    "outputId": "028c501a-00a2-45fe-a83f-997069560551"
   },
   "outputs": [
    {
     "data": {
      "text/plain": [
       "(14, 61)"
      ]
     },
     "execution_count": 181,
     "metadata": {},
     "output_type": "execute_result"
    }
   ],
   "source": [
    "tokens_pad = pad_sequences(tokens, maxlen=max_tokens)\n",
    "tokens_pad.shape"
   ]
  },
  {
   "cell_type": "markdown",
   "metadata": {},
   "source": [
    "0 : Olumlu yorum, 1 : Olumsuz yorum"
   ]
  },
  {
   "cell_type": "markdown",
   "metadata": {},
   "source": [
    "Model, review7 haric butun yorumlari dogru olarak tahmin etti :"
   ]
  },
  {
   "cell_type": "code",
   "execution_count": 2,
   "metadata": {
    "id": "MSL1R81HMP3f"
   },
   "outputs": [],
   "source": [
    "# model_review.predict(tokens_pad)   ---> 0.5' ten kucuk olanlar 0 classina, 0.5 yuksek olanlar 1 class' ina ait."
   ]
  },
  {
   "cell_type": "code",
   "execution_count": null,
   "metadata": {
    "colab": {
     "base_uri": "https://localhost:8080/"
    },
    "id": "RTGxn4qwMP3f",
    "outputId": "33ac9eb4-4459-4e0a-8c62-eb142080b4ff"
   },
   "outputs": [
    {
     "data": {
      "text/plain": [
       "array([[0],\n",
       "       [0],\n",
       "       [1],\n",
       "       [0],\n",
       "       [1],\n",
       "       [1],\n",
       "       [1],\n",
       "       [1],\n",
       "       [0],\n",
       "       [1],\n",
       "       [0],\n",
       "       [1],\n",
       "       [1],\n",
       "       [0]])"
      ]
     },
     "execution_count": 182,
     "metadata": {},
     "output_type": "execute_result"
    }
   ],
   "source": [
    "(model_review.predict(tokens_pad) >0.5).astype(\"int\")"
   ]
  },
  {
   "cell_type": "code",
   "execution_count": null,
   "metadata": {},
   "outputs": [],
   "source": []
  }
 ],
 "metadata": {
  "accelerator": "GPU",
  "colab": {
   "name": "NLP-4 (NLP Application with DL)(TR)-30 Mar 2022.ipynb",
   "provenance": []
  },
  "kernelspec": {
   "display_name": "Python 3 (ipykernel)",
   "language": "python",
   "name": "python3"
  },
  "language_info": {
   "codemirror_mode": {
    "name": "ipython",
    "version": 3
   },
   "file_extension": ".py",
   "mimetype": "text/x-python",
   "name": "python",
   "nbconvert_exporter": "python",
   "pygments_lexer": "ipython3",
   "version": "3.9.7"
  }
 },
 "nbformat": 4,
 "nbformat_minor": 4
}
