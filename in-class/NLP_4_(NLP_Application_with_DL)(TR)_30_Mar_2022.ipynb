{
  "cells": [
    {
      "cell_type": "markdown",
      "metadata": {
        "id": "view-in-github",
        "colab_type": "text"
      },
      "source": [
        "<a href=\"https://colab.research.google.com/github/dilaraozcerit/NLP/blob/master/NLP_4_(NLP_Application_with_DL)(TR)_30_Mar_2022.ipynb\" target=\"_parent\"><img src=\"https://colab.research.google.com/assets/colab-badge.svg\" alt=\"Open In Colab\"/></a>"
      ]
    },
    {
      "cell_type": "markdown",
      "metadata": {
        "id": "6X73SBpsMP26"
      },
      "source": [
        "## NLP with DL"
      ]
    },
    {
      "cell_type": "code",
      "source": [
        "from google.colab import drive\n",
        "drive.mount('/content/drive')"
      ],
      "metadata": {
        "colab": {
          "base_uri": "https://localhost:8080/"
        },
        "id": "cgJ_HalfMSVB",
        "outputId": "3681863c-8a80-4195-f9aa-1e7c87f55e7d"
      },
      "execution_count": null,
      "outputs": [
        {
          "output_type": "stream",
          "name": "stdout",
          "text": [
            "Mounted at /content/drive\n"
          ]
        }
      ]
    },
    {
      "cell_type": "markdown",
      "metadata": {
        "id": "0Y6XdY0zMP3B"
      },
      "source": [
        "## Import libraries"
      ]
    },
    {
      "cell_type": "code",
      "execution_count": 1,
      "metadata": {
        "id": "yt8uihaEMP3B"
      },
      "outputs": [],
      "source": [
        "import numpy as np\n",
        "import pandas as pd\n",
        "from tensorflow.keras.models import Sequential\n",
        "from tensorflow.keras.layers import Dense, GRU, Embedding, Dropout, BatchNormalization, Activation\n",
        "from tensorflow.keras.optimizers import Adam\n",
        "from tensorflow.keras.preprocessing.text import Tokenizer\n",
        "from tensorflow.keras.preprocessing.sequence import pad_sequences"
      ]
    },
    {
      "cell_type": "code",
      "execution_count": 2,
      "metadata": {
        "id": "lN-e8sK4MP3D"
      },
      "outputs": [],
      "source": [
        "df = pd.read_csv('hepsiburada.csv')"
      ]
    },
    {
      "cell_type": "code",
      "execution_count": 3,
      "metadata": {
        "colab": {
          "base_uri": "https://localhost:8080/",
          "height": 206
        },
        "id": "kBw6YugKMP3D",
        "outputId": "394f64fa-7971-4535-9495-34e473a17489"
      },
      "outputs": [
        {
          "output_type": "execute_result",
          "data": {
            "text/plain": [
              "   Rating                                             Review\n",
              "0       1                            3 yıldır tık demedi. :)\n",
              "1       1                      3 yıldır kullanıyorum müthiş \n",
              "2       1  Ürün bugün elime geçti çok fazla inceleme fırs...\n",
              "3       1  Almaya karar verdim. Hemencecik geldi. Keyifle...\n",
              "4       1  Günlük kullanımınızı çok çok iyi karsılıyor kı..."
            ],
            "text/html": [
              "\n",
              "  <div id=\"df-647d6e99-c71f-4b13-8ed6-cffb154a2b7f\">\n",
              "    <div class=\"colab-df-container\">\n",
              "      <div>\n",
              "<style scoped>\n",
              "    .dataframe tbody tr th:only-of-type {\n",
              "        vertical-align: middle;\n",
              "    }\n",
              "\n",
              "    .dataframe tbody tr th {\n",
              "        vertical-align: top;\n",
              "    }\n",
              "\n",
              "    .dataframe thead th {\n",
              "        text-align: right;\n",
              "    }\n",
              "</style>\n",
              "<table border=\"1\" class=\"dataframe\">\n",
              "  <thead>\n",
              "    <tr style=\"text-align: right;\">\n",
              "      <th></th>\n",
              "      <th>Rating</th>\n",
              "      <th>Review</th>\n",
              "    </tr>\n",
              "  </thead>\n",
              "  <tbody>\n",
              "    <tr>\n",
              "      <th>0</th>\n",
              "      <td>1</td>\n",
              "      <td>3 yıldır tık demedi. :)</td>\n",
              "    </tr>\n",
              "    <tr>\n",
              "      <th>1</th>\n",
              "      <td>1</td>\n",
              "      <td>3 yıldır kullanıyorum müthiş</td>\n",
              "    </tr>\n",
              "    <tr>\n",
              "      <th>2</th>\n",
              "      <td>1</td>\n",
              "      <td>Ürün bugün elime geçti çok fazla inceleme fırs...</td>\n",
              "    </tr>\n",
              "    <tr>\n",
              "      <th>3</th>\n",
              "      <td>1</td>\n",
              "      <td>Almaya karar verdim. Hemencecik geldi. Keyifle...</td>\n",
              "    </tr>\n",
              "    <tr>\n",
              "      <th>4</th>\n",
              "      <td>1</td>\n",
              "      <td>Günlük kullanımınızı çok çok iyi karsılıyor kı...</td>\n",
              "    </tr>\n",
              "  </tbody>\n",
              "</table>\n",
              "</div>\n",
              "      <button class=\"colab-df-convert\" onclick=\"convertToInteractive('df-647d6e99-c71f-4b13-8ed6-cffb154a2b7f')\"\n",
              "              title=\"Convert this dataframe to an interactive table.\"\n",
              "              style=\"display:none;\">\n",
              "        \n",
              "  <svg xmlns=\"http://www.w3.org/2000/svg\" height=\"24px\"viewBox=\"0 0 24 24\"\n",
              "       width=\"24px\">\n",
              "    <path d=\"M0 0h24v24H0V0z\" fill=\"none\"/>\n",
              "    <path d=\"M18.56 5.44l.94 2.06.94-2.06 2.06-.94-2.06-.94-.94-2.06-.94 2.06-2.06.94zm-11 1L8.5 8.5l.94-2.06 2.06-.94-2.06-.94L8.5 2.5l-.94 2.06-2.06.94zm10 10l.94 2.06.94-2.06 2.06-.94-2.06-.94-.94-2.06-.94 2.06-2.06.94z\"/><path d=\"M17.41 7.96l-1.37-1.37c-.4-.4-.92-.59-1.43-.59-.52 0-1.04.2-1.43.59L10.3 9.45l-7.72 7.72c-.78.78-.78 2.05 0 2.83L4 21.41c.39.39.9.59 1.41.59.51 0 1.02-.2 1.41-.59l7.78-7.78 2.81-2.81c.8-.78.8-2.07 0-2.86zM5.41 20L4 18.59l7.72-7.72 1.47 1.35L5.41 20z\"/>\n",
              "  </svg>\n",
              "      </button>\n",
              "      \n",
              "  <style>\n",
              "    .colab-df-container {\n",
              "      display:flex;\n",
              "      flex-wrap:wrap;\n",
              "      gap: 12px;\n",
              "    }\n",
              "\n",
              "    .colab-df-convert {\n",
              "      background-color: #E8F0FE;\n",
              "      border: none;\n",
              "      border-radius: 50%;\n",
              "      cursor: pointer;\n",
              "      display: none;\n",
              "      fill: #1967D2;\n",
              "      height: 32px;\n",
              "      padding: 0 0 0 0;\n",
              "      width: 32px;\n",
              "    }\n",
              "\n",
              "    .colab-df-convert:hover {\n",
              "      background-color: #E2EBFA;\n",
              "      box-shadow: 0px 1px 2px rgba(60, 64, 67, 0.3), 0px 1px 3px 1px rgba(60, 64, 67, 0.15);\n",
              "      fill: #174EA6;\n",
              "    }\n",
              "\n",
              "    [theme=dark] .colab-df-convert {\n",
              "      background-color: #3B4455;\n",
              "      fill: #D2E3FC;\n",
              "    }\n",
              "\n",
              "    [theme=dark] .colab-df-convert:hover {\n",
              "      background-color: #434B5C;\n",
              "      box-shadow: 0px 1px 3px 1px rgba(0, 0, 0, 0.15);\n",
              "      filter: drop-shadow(0px 1px 2px rgba(0, 0, 0, 0.3));\n",
              "      fill: #FFFFFF;\n",
              "    }\n",
              "  </style>\n",
              "\n",
              "      <script>\n",
              "        const buttonEl =\n",
              "          document.querySelector('#df-647d6e99-c71f-4b13-8ed6-cffb154a2b7f button.colab-df-convert');\n",
              "        buttonEl.style.display =\n",
              "          google.colab.kernel.accessAllowed ? 'block' : 'none';\n",
              "\n",
              "        async function convertToInteractive(key) {\n",
              "          const element = document.querySelector('#df-647d6e99-c71f-4b13-8ed6-cffb154a2b7f');\n",
              "          const dataTable =\n",
              "            await google.colab.kernel.invokeFunction('convertToInteractive',\n",
              "                                                     [key], {});\n",
              "          if (!dataTable) return;\n",
              "\n",
              "          const docLinkHtml = 'Like what you see? Visit the ' +\n",
              "            '<a target=\"_blank\" href=https://colab.research.google.com/notebooks/data_table.ipynb>data table notebook</a>'\n",
              "            + ' to learn more about interactive tables.';\n",
              "          element.innerHTML = '';\n",
              "          dataTable['output_type'] = 'display_data';\n",
              "          await google.colab.output.renderOutput(dataTable, element);\n",
              "          const docLink = document.createElement('div');\n",
              "          docLink.innerHTML = docLinkHtml;\n",
              "          element.appendChild(docLink);\n",
              "        }\n",
              "      </script>\n",
              "    </div>\n",
              "  </div>\n",
              "  "
            ]
          },
          "metadata": {},
          "execution_count": 3
        }
      ],
      "source": [
        "df.head()"
      ]
    },
    {
      "cell_type": "code",
      "source": [
        "df.info()"
      ],
      "metadata": {
        "colab": {
          "base_uri": "https://localhost:8080/"
        },
        "id": "Wd9UfbvsSWJ5",
        "outputId": "29a5399e-e4a5-405c-beec-077b2766c7a5"
      },
      "execution_count": 4,
      "outputs": [
        {
          "output_type": "stream",
          "name": "stdout",
          "text": [
            "<class 'pandas.core.frame.DataFrame'>\n",
            "RangeIndex: 243497 entries, 0 to 243496\n",
            "Data columns (total 2 columns):\n",
            " #   Column  Non-Null Count   Dtype \n",
            "---  ------  --------------   ----- \n",
            " 0   Rating  243497 non-null  int64 \n",
            " 1   Review  243497 non-null  object\n",
            "dtypes: int64(1), object(1)\n",
            "memory usage: 3.7+ MB\n"
          ]
        }
      ]
    },
    {
      "cell_type": "code",
      "source": [
        "df.Rating.value_counts()\n",
        "# NLP'de missing value doldurma yok. Smote gibi veri arttırma var ama null dolduramıyoruz."
      ],
      "metadata": {
        "colab": {
          "base_uri": "https://localhost:8080/"
        },
        "id": "2l26CUKCSaig",
        "outputId": "befc240c-2b6f-4d27-b229-8cc2f85d7f96"
      },
      "execution_count": 5,
      "outputs": [
        {
          "output_type": "execute_result",
          "data": {
            "text/plain": [
              "1    229821\n",
              "0     13676\n",
              "Name: Rating, dtype: int64"
            ]
          },
          "metadata": {},
          "execution_count": 5
        }
      ]
    },
    {
      "cell_type": "code",
      "source": [
        "df.Rating = df.Rating.map({1:0, 0:1})"
      ],
      "metadata": {
        "id": "bc9I6PMBSyRe"
      },
      "execution_count": 6,
      "outputs": []
    },
    {
      "cell_type": "code",
      "source": [
        "df.Rating.value_counts()\n",
        "# Datamız çok dengesiz\n",
        "# Normalde sadece oranlara bakarak bunu söyleyemeyiz ama sayılarına da bakmak lazım."
      ],
      "metadata": {
        "colab": {
          "base_uri": "https://localhost:8080/"
        },
        "id": "Zvc0d7vCTNis",
        "outputId": "571229d1-4a0c-4646-c5bd-5eea27b5cd0d"
      },
      "execution_count": 7,
      "outputs": [
        {
          "output_type": "execute_result",
          "data": {
            "text/plain": [
              "0    229821\n",
              "1     13676\n",
              "Name: Rating, dtype: int64"
            ]
          },
          "metadata": {},
          "execution_count": 7
        }
      ]
    },
    {
      "cell_type": "code",
      "source": [
        "pd.Series(df.Rating).value_counts(normalize=True)"
      ],
      "metadata": {
        "colab": {
          "base_uri": "https://localhost:8080/"
        },
        "id": "ZFyOtp72cZIJ",
        "outputId": "0cc0572d-9ed1-4bcb-c000-aedace5037bf"
      },
      "execution_count": 8,
      "outputs": [
        {
          "output_type": "execute_result",
          "data": {
            "text/plain": [
              "0    0.943835\n",
              "1    0.056165\n",
              "Name: Rating, dtype: float64"
            ]
          },
          "metadata": {},
          "execution_count": 8
        }
      ]
    },
    {
      "cell_type": "markdown",
      "metadata": {
        "id": "ErzHzxUOMP3F"
      },
      "source": [
        "## Tokenization"
      ]
    },
    {
      "cell_type": "code",
      "execution_count": 9,
      "metadata": {
        "id": "amDd007iMP3F"
      },
      "outputs": [],
      "source": [
        "X = df['Review'].values\n",
        "y = df['Rating'].values"
      ]
    },
    {
      "cell_type": "code",
      "execution_count": 12,
      "metadata": {
        "id": "3ltwlIS9MP3G"
      },
      "outputs": [],
      "source": [
        "num_words = 15000 # corpusta geçen en fazla kullanılan ilk 15.000 kelimeyi(tokeni) alacağız gerisini yok sayacağız. \n",
        "# None değeri atanırsa tüm kelimeler dikkate alınır.\n",
        "tokenizer = Tokenizer(num_words=num_words) #filters='!\"#$%&()*+,-./:;<=>?@[\\\\]^_`{|}~\\t\\n1234567890' \n",
        "\n",
        "# Deep Learning'de temizlemesek de olur\n",
        "# num_words defaultu none'dır. Ama best practice, classification 10 bin ve 15 bin tavsiye edilir.\n",
        "# Biz burda sayıların da kalmasını istedik çünkü bazıları mesela '10 puan' '5 yıldız' falan numarayla yazıyorlar."
      ]
    },
    {
      "cell_type": "code",
      "execution_count": 13,
      "metadata": {
        "id": "7QnzlbfrMP3H"
      },
      "outputs": [],
      "source": [
        "tokenizer.fit_on_texts(X)\n",
        "# içerisine yorumlarımızı array şeklinde verince bu corpusumuzda geçen ilk 15 bin token'i alıyor"
      ]
    },
    {
      "cell_type": "markdown",
      "metadata": {
        "id": "qbBLA65iMP3I"
      },
      "source": [
        "## Creating word index"
      ]
    },
    {
      "cell_type": "code",
      "execution_count": 14,
      "metadata": {
        "colab": {
          "base_uri": "https://localhost:8080/"
        },
        "id": "ujCeRckiMP3I",
        "outputId": "04b5a721-e477-4eab-e346-da485b16cc99"
      },
      "outputs": [
        {
          "output_type": "execute_result",
          "data": {
            "text/plain": [
              "{'çok': 1,\n",
              " 'bir': 2,\n",
              " 've': 3,\n",
              " 'ürün': 4,\n",
              " 'bu': 5,\n",
              " 'iyi': 6,\n",
              " 'güzel': 7,\n",
              " 'için': 8,\n",
              " 'tavsiye': 9,\n",
              " 'ederim': 10,\n",
              " 'daha': 11,\n",
              " 'ama': 12,\n",
              " 'da': 13,\n",
              " 'gayet': 14,\n",
              " 'hızlı': 15,\n",
              " 'teşekkürler': 16,\n",
              " 'aldım': 17,\n",
              " 'de': 18,\n",
              " 'ürünü': 19,\n",
              " 'gibi': 20,\n",
              " 'yok': 21,\n",
              " 'uygun': 22,\n",
              " 'olarak': 23,\n",
              " 'kaliteli': 24,\n",
              " 'en': 25,\n",
              " '2': 26,\n",
              " 'kargo': 27,\n",
              " 'fiyat': 28,\n",
              " 'elime': 29,\n",
              " 'kadar': 30,\n",
              " 'ile': 31,\n",
              " 'göre': 32,\n",
              " 'geldi': 33,\n",
              " 'var': 34,\n",
              " 'hepsiburada': 35,\n",
              " 'ben': 36,\n",
              " 'gerçekten': 37,\n",
              " '1': 38,\n",
              " 'fiyata': 39,\n",
              " 'gün': 40,\n",
              " 'sonra': 41,\n",
              " 'cok': 42,\n",
              " 'kesinlikle': 43,\n",
              " 'telefon': 44,\n",
              " 'biraz': 45,\n",
              " 'hiç': 46,\n",
              " 'ulaştı': 47,\n",
              " 'memnun': 48,\n",
              " 'hem': 49,\n",
              " 'değil': 50,\n",
              " 'kullanışlı': 51,\n",
              " '3': 52,\n",
              " 'mükemmel': 53,\n",
              " 'oldu': 54,\n",
              " 'kullanıyorum': 55,\n",
              " 'önce': 56,\n",
              " 'sipariş': 57,\n",
              " 'tek': 58,\n",
              " 'her': 59,\n",
              " 'bence': 60,\n",
              " 'harika': 61,\n",
              " 'kalitesi': 62,\n",
              " 'bi': 63,\n",
              " 'ayrıca': 64,\n",
              " '5': 65,\n",
              " 'teşekkür': 66,\n",
              " 'fiyatı': 67,\n",
              " 'olması': 68,\n",
              " 'ne': 69,\n",
              " 'herkese': 70,\n",
              " 'bile': 71,\n",
              " 'uzun': 72,\n",
              " 'süper': 73,\n",
              " 'tam': 74,\n",
              " 'zaten': 75,\n",
              " 'fazla': 76,\n",
              " 'ilk': 77,\n",
              " 'o': 78,\n",
              " 'başarılı': 79,\n",
              " 'fakat': 80,\n",
              " 'memnunum': 81,\n",
              " 'ancak': 82,\n",
              " 'ediyorum': 83,\n",
              " 'şarj': 84,\n",
              " 'saat': 85,\n",
              " 'fiyatına': 86,\n",
              " 'oldukça': 87,\n",
              " 'hemen': 88,\n",
              " 'şekilde': 89,\n",
              " 'ses': 90,\n",
              " 'hepsi': 91,\n",
              " 'gerek': 92,\n",
              " 'rahat': 93,\n",
              " 'aynı': 94,\n",
              " '4': 95,\n",
              " 'şık': 96,\n",
              " 'verdim': 97,\n",
              " 'kolay': 98,\n",
              " 'diye': 99,\n",
              " 'ki': 100,\n",
              " 'sadece': 101,\n",
              " 'kaldım': 102,\n",
              " 'diğer': 103,\n",
              " 'büyük': 104,\n",
              " 'sorun': 105,\n",
              " 'alın': 106,\n",
              " 'burada': 107,\n",
              " 'kısa': 108,\n",
              " 'ürünün': 109,\n",
              " 'sorunsuz': 110,\n",
              " 'performans': 111,\n",
              " 'içinde': 112,\n",
              " 'olan': 113,\n",
              " 'günde': 114,\n",
              " 'olsun': 115,\n",
              " 'küçük': 116,\n",
              " 'urun': 117,\n",
              " '10': 118,\n",
              " 'benim': 119,\n",
              " 'başka': 120,\n",
              " 'iki': 121,\n",
              " 'olduğu': 122,\n",
              " 'teslimat': 123,\n",
              " 'com': 124,\n",
              " 'arkadaşlar': 125,\n",
              " 'sağlam': 126,\n",
              " 'oluyor': 127,\n",
              " 'teslim': 128,\n",
              " 'ettim': 129,\n",
              " 'zaman': 130,\n",
              " 'kalite': 131,\n",
              " 'almak': 132,\n",
              " 'az': 133,\n",
              " 'telefonu': 134,\n",
              " 'yeni': 135,\n",
              " 'cihaz': 136,\n",
              " 'marka': 137,\n",
              " 'son': 138,\n",
              " 'koku': 139,\n",
              " 'ise': 140,\n",
              " 'kullandım': 141,\n",
              " 'kokusu': 142,\n",
              " 'derim': 143,\n",
              " 'olduğunu': 144,\n",
              " 'özellikle': 145,\n",
              " 'beğendim': 146,\n",
              " 'sıkıntı': 147,\n",
              " 'ucuz': 148,\n",
              " 'rağmen': 149,\n",
              " 'geçti': 150,\n",
              " 'geliyor': 151,\n",
              " 'guzel': 152,\n",
              " 'bana': 153,\n",
              " 'ya': 154,\n",
              " 'ideal': 155,\n",
              " 'orjinal': 156,\n",
              " 'almıştım': 157,\n",
              " 'yeterli': 158,\n",
              " 'tane': 159,\n",
              " 'hediye': 160,\n",
              " 'sürede': 161,\n",
              " 'yani': 162,\n",
              " 'normal': 163,\n",
              " 'yaklaşık': 164,\n",
              " 'ediyor': 165,\n",
              " 'hafif': 166,\n",
              " 'bunu': 167,\n",
              " 'ekran': 168,\n",
              " 'aldığım': 169,\n",
              " 'veriyor': 170,\n",
              " '6': 171,\n",
              " 'yüksek': 172,\n",
              " 'tüm': 173,\n",
              " 'pişman': 174,\n",
              " 'tercih': 175,\n",
              " 'düşünmeden': 176,\n",
              " 'kötü': 177,\n",
              " 'düşünüyorum': 178,\n",
              " 'numara': 179,\n",
              " 'bi̇r': 180,\n",
              " 'süre': 181,\n",
              " 'kullanımı': 182,\n",
              " 'çıktı': 183,\n",
              " 'günü': 184,\n",
              " 'su': 185,\n",
              " 'adet': 186,\n",
              " 'şey': 187,\n",
              " 'hemde': 188,\n",
              " 'icin': 189,\n",
              " 'hizli': 190,\n",
              " 'çalışıyor': 191,\n",
              " 'ay': 192,\n",
              " 'hb': 193,\n",
              " 'hafta': 194,\n",
              " 'sesi': 195,\n",
              " 'alışveriş': 196,\n",
              " 'farklı': 197,\n",
              " 'kitap': 198,\n",
              " 'yine': 199,\n",
              " 'böyle': 200,\n",
              " 'zor': 201,\n",
              " 'alabilirsiniz': 202,\n",
              " 'hızı': 203,\n",
              " 'çünkü': 204,\n",
              " 'para': 205,\n",
              " 'ertesi': 206,\n",
              " 'bende': 207,\n",
              " 'kullanım': 208,\n",
              " 'sürekli': 209,\n",
              " 'duruyor': 210,\n",
              " 'aldim': 211,\n",
              " 'olur': 212,\n",
              " 'hoş': 213,\n",
              " 'artık': 214,\n",
              " 'yapıyor': 215,\n",
              " 'konusunda': 216,\n",
              " 'yorumlara': 217,\n",
              " 'gönderi': 218,\n",
              " 'olsa': 219,\n",
              " 'gücü': 220,\n",
              " 'şu': 221,\n",
              " 'vardı': 222,\n",
              " 'üründen': 223,\n",
              " 'malzeme': 224,\n",
              " 'biri': 225,\n",
              " 'pratik': 226,\n",
              " 'dışında': 227,\n",
              " 'defa': 228,\n",
              " 'kullandığım': 229,\n",
              " 'şimdi': 230,\n",
              " 'diş': 231,\n",
              " 'samsung': 232,\n",
              " 'onun': 233,\n",
              " 'bugün': 234,\n",
              " 'özelliği': 235,\n",
              " 'iş': 236,\n",
              " 'kurulumu': 237,\n",
              " 'tereddüt': 238,\n",
              " 'şarjı': 239,\n",
              " 'i̇lk': 240,\n",
              " '7': 241,\n",
              " 'ince': 242,\n",
              " 'gelen': 243,\n",
              " 'kullanmaya': 244,\n",
              " 'diyebilirim': 245,\n",
              " 'almayı': 246,\n",
              " 'pek': 247,\n",
              " 'aldık': 248,\n",
              " 'denedim': 249,\n",
              " '8': 250,\n",
              " 'tekrar': 251,\n",
              " 'çabuk': 252,\n",
              " 'karar': 253,\n",
              " 'kez': 254,\n",
              " 'sahip': 255,\n",
              " 'kendi': 256,\n",
              " 'basit': 257,\n",
              " 'dolayı': 258,\n",
              " 'derece': 259,\n",
              " 'veya': 260,\n",
              " 'kamera': 261,\n",
              " 'pil': 262,\n",
              " 'hiçbir': 263,\n",
              " 'öncelikle': 264,\n",
              " 'açısından': 265,\n",
              " 'iphone': 266,\n",
              " 'sonuç': 267,\n",
              " 'yanında': 268,\n",
              " 'sessiz': 269,\n",
              " 'pahalı': 270,\n",
              " 'işe': 271,\n",
              " 'gidiyor': 272,\n",
              " 'dan': 273,\n",
              " 'olmadı': 274,\n",
              " 'öyle': 275,\n",
              " 'tesekkurler': 276,\n",
              " 'bunun': 277,\n",
              " 'beni': 278,\n",
              " 'varsa': 279,\n",
              " 'yer': 280,\n",
              " 'gece': 281,\n",
              " 'zamanında': 282,\n",
              " 'yorum': 283,\n",
              " 'performansı': 284,\n",
              " 'parfüm': 285,\n",
              " 'evde': 286,\n",
              " 'belli': 287,\n",
              " 'eğer': 288,\n",
              " 'oyun': 289,\n",
              " 'ağır': 290,\n",
              " 'iyisi': 291,\n",
              " 'arada': 292,\n",
              " 'mutlaka': 293,\n",
              " 'zamanda': 294,\n",
              " 'usb': 295,\n",
              " 'ufak': 296,\n",
              " 'üzerinde': 297,\n",
              " 'hatta': 298,\n",
              " 'fark': 299,\n",
              " 'gönül': 300,\n",
              " 'paketleme': 301,\n",
              " 'eşim': 302,\n",
              " 'alacak': 303,\n",
              " '15': 304,\n",
              " 'gereken': 305,\n",
              " 'doğru': 306,\n",
              " 'eski': 307,\n",
              " 'herhangi': 308,\n",
              " 'aydır': 309,\n",
              " 'tl': 310,\n",
              " 'kalıcı': 311,\n",
              " 'rahatlıkla': 312,\n",
              " 'vs': 313,\n",
              " 'satın': 314,\n",
              " 'alınabilecek': 315,\n",
              " 'bundan': 316,\n",
              " 'farkı': 317,\n",
              " 'görüntü': 318,\n",
              " 'lazım': 319,\n",
              " 'gercekten': 320,\n",
              " 'şiddetle': 321,\n",
              " 'kullanmak': 322,\n",
              " 'kaçırmayın': 323,\n",
              " 'alırken': 324,\n",
              " 'kargoya': 325,\n",
              " 'yaşamadım': 326,\n",
              " 'mi': 327,\n",
              " 'yaptım': 328,\n",
              " 'prima': 329,\n",
              " 'birlikte': 330,\n",
              " 'gördüm': 331,\n",
              " 'gerekiyor': 332,\n",
              " 'telefonun': 333,\n",
              " 'ürünler': 334,\n",
              " 'ayrı': 335,\n",
              " 'önemli': 336,\n",
              " 'sayesinde': 337,\n",
              " 'bütün': 338,\n",
              " 'yıl': 339,\n",
              " 'gb': 340,\n",
              " 'alalı': 341,\n",
              " 'beklediğimden': 342,\n",
              " 'almaya': 343,\n",
              " 'yerde': 344,\n",
              " 'olmasına': 345,\n",
              " 'tv': 346,\n",
              " 'sabah': 347,\n",
              " 'devam': 348,\n",
              " 'kutu': 349,\n",
              " 'henüz': 350,\n",
              " 'falan': 351,\n",
              " 'sorunu': 352,\n",
              " 'tabi': 353,\n",
              " 'a': 354,\n",
              " '20': 355,\n",
              " 'bakarak': 356,\n",
              " 'sanırım': 357,\n",
              " 'hepsiburadaya': 358,\n",
              " 'kulaklık': 359,\n",
              " 'süresi': 360,\n",
              " 'hala': 361,\n",
              " 'muhteşem': 362,\n",
              " 'dikkat': 363,\n",
              " 'güvenilir': 364,\n",
              " 'rahatsız': 365,\n",
              " 'edilir': 366,\n",
              " 'çıkıyor': 367,\n",
              " 'alıp': 368,\n",
              " 'yüzden': 369,\n",
              " 'toz': 370,\n",
              " 'kere': 371,\n",
              " 'orijinal': 372,\n",
              " 'sağlıyor': 373,\n",
              " 'kamerası': 374,\n",
              " 'dün': 375,\n",
              " 'ürüne': 376,\n",
              " 'düşük': 377,\n",
              " 'spor': 378,\n",
              " 'i̇yi': 379,\n",
              " 'problem': 380,\n",
              " 'öneririm': 381,\n",
              " 'edildi': 382,\n",
              " 'plastik': 383,\n",
              " 'içerisinde': 384,\n",
              " 'makine': 385,\n",
              " 'beri': 386,\n",
              " 'fazlasıyla': 387,\n",
              " 'baya': 388,\n",
              " 'kullanımda': 389,\n",
              " '30': 390,\n",
              " 'tavsi̇ye': 391,\n",
              " 'an': 392,\n",
              " 'yalnız': 393,\n",
              " 'özellikleri': 394,\n",
              " 'on': 395,\n",
              " 'den': 396,\n",
              " 'satıcı': 397,\n",
              " 'ilgili': 398,\n",
              " 'genel': 399,\n",
              " 'oldum': 400,\n",
              " 'kaç': 401,\n",
              " 'etkili': 402,\n",
              " 'sıcak': 403,\n",
              " 'haftadır': 404,\n",
              " 'üstelik': 405,\n",
              " 'fiyatıda': 406,\n",
              " 'olmuş': 407,\n",
              " '24': 408,\n",
              " 'yada': 409,\n",
              " 'hep': 410,\n",
              " 'üst': 411,\n",
              " 'olabilir': 412,\n",
              " 'paket': 413,\n",
              " 'bazı': 414,\n",
              " 'almışım': 415,\n",
              " 'güçlü': 416,\n",
              " 'piyasada': 417,\n",
              " 'yerine': 418,\n",
              " 'arasında': 419,\n",
              " 'renk': 420,\n",
              " 'inanılmaz': 421,\n",
              " 'arkadaşlara': 422,\n",
              " 'paraya': 423,\n",
              " 'kurulum': 424,\n",
              " 'umarım': 425,\n",
              " 'sert': 426,\n",
              " 'kitabı': 427,\n",
              " 'ederi̇m': 428,\n",
              " 'olmuyor': 429,\n",
              " 'fena': 430,\n",
              " 'gitti': 431,\n",
              " 'servis': 432,\n",
              " 'altında': 433,\n",
              " 'üzerine': 434,\n",
              " 'nasıl': 435,\n",
              " 'birde': 436,\n",
              " 'ye': 437,\n",
              " 'gelince': 438,\n",
              " 'birşey': 439,\n",
              " 'note': 440,\n",
              " 'yorumları': 441,\n",
              " 'başladım': 442,\n",
              " 'olanlar': 443,\n",
              " 'ön': 444,\n",
              " '0': 445,\n",
              " 'dk': 446,\n",
              " 'üründe': 447,\n",
              " 'sanki': 448,\n",
              " 'kalitesini': 449,\n",
              " 'i̇yi̇': 450,\n",
              " 'sarj': 451,\n",
              " 'almadan': 452,\n",
              " 'etti': 453,\n",
              " 'alıyorum': 454,\n",
              " 'ev': 455,\n",
              " 'cihazı': 456,\n",
              " 'kullanıyoruz': 457,\n",
              " 'geç': 458,\n",
              " 'eşime': 459,\n",
              " 'görünce': 460,\n",
              " 'memnunuz': 461,\n",
              " 'yıldır': 462,\n",
              " 'edici': 463,\n",
              " 'bez': 464,\n",
              " 'arka': 465,\n",
              " 'saatte': 466,\n",
              " 'anda': 467,\n",
              " 'tamamen': 468,\n",
              " 'hizmet': 469,\n",
              " 'çekim': 470,\n",
              " 'herkes': 471,\n",
              " 'parmak': 472,\n",
              " 'akşam': 473,\n",
              " 'tutuyor': 474,\n",
              " 'geçen': 475,\n",
              " 'gore': 476,\n",
              " 'android': 477,\n",
              " 'elimize': 478,\n",
              " '12': 479,\n",
              " 'telefona': 480,\n",
              " 'temizlik': 481,\n",
              " 'görünüyor': 482,\n",
              " 'yumuşak': 483,\n",
              " 'kablo': 484,\n",
              " 'buradan': 485,\n",
              " '100': 486,\n",
              " 'kısmı': 487,\n",
              " 'size': 488,\n",
              " 'orta': 489,\n",
              " 'piyasadaki': 490,\n",
              " 'net': 491,\n",
              " 'hak': 492,\n",
              " 'yere': 493,\n",
              " 'günlük': 494,\n",
              " 'beğendi': 495,\n",
              " 'rahatlığıyla': 496,\n",
              " 'eder': 497,\n",
              " 'hız': 498,\n",
              " 'müzik': 499,\n",
              " 'kalın': 500,\n",
              " 'siyah': 501,\n",
              " 'urunu': 502,\n",
              " 'degil': 503,\n",
              " 'bedava': 504,\n",
              " 'istediğim': 505,\n",
              " 'oğlum': 506,\n",
              " 'saç': 507,\n",
              " 'güvenli': 508,\n",
              " 'kılıf': 509,\n",
              " 'onu': 510,\n",
              " 'yıldız': 511,\n",
              " 'yoksa': 512,\n",
              " 'çıkan': 513,\n",
              " 'hesaplı': 514,\n",
              " 'etmeden': 515,\n",
              " 'hava': 516,\n",
              " 'piyasaya': 517,\n",
              " 'kilo': 518,\n",
              " 'ışık': 519,\n",
              " 'neredeyse': 520,\n",
              " 'fotoğraf': 521,\n",
              " 'i̇çi̇n': 522,\n",
              " 'tşk': 523,\n",
              " 'belki': 524,\n",
              " 'olurdu': 525,\n",
              " 'kablosu': 526,\n",
              " 'bır': 527,\n",
              " 'mı': 528,\n",
              " 'gündür': 529,\n",
              " 'temiz': 530,\n",
              " 'garantili': 531,\n",
              " 'içine': 532,\n",
              " 'alınabilir': 533,\n",
              " 'herşey': 534,\n",
              " 'almanızı': 535,\n",
              " 'siparişi': 536,\n",
              " 'olmaz': 537,\n",
              " 'keşke': 538,\n",
              " 'kendini': 539,\n",
              " 'olacak': 540,\n",
              " 'yakın': 541,\n",
              " 'rengi': 542,\n",
              " 'gun': 543,\n",
              " 'süpürge': 544,\n",
              " 'traş': 545,\n",
              " 'çift': 546,\n",
              " 'şuan': 547,\n",
              " 'gönderim': 548,\n",
              " 'buna': 549,\n",
              " 'motor': 550,\n",
              " 'birkaç': 551,\n",
              " 'hoşuma': 552,\n",
              " 'tasarımı': 553,\n",
              " 'kaldık': 554,\n",
              " 'verdiğim': 555,\n",
              " 'hic': 556,\n",
              " 'değer': 557,\n",
              " 'yağ': 558,\n",
              " 'ekonomik': 559,\n",
              " 'dedim': 560,\n",
              " 'tatmin': 561,\n",
              " 'isteyenlere': 562,\n",
              " 'içinden': 563,\n",
              " 'araştırdım': 564,\n",
              " 'oda': 565,\n",
              " 'yıllardır': 566,\n",
              " 'mevcut': 567,\n",
              " 'kızım': 568,\n",
              " 'kalıyor': 569,\n",
              " 'yapmak': 570,\n",
              " 'buldum': 571,\n",
              " 'şimdilik': 572,\n",
              " 'yanı': 573,\n",
              " 'makina': 574,\n",
              " 'görüyor': 575,\n",
              " 'model': 576,\n",
              " 'kargoda': 577,\n",
              " 'kaldı': 578,\n",
              " '9': 579,\n",
              " 'üstünde': 580,\n",
              " 'avantaj': 581,\n",
              " 'sizi': 582,\n",
              " 'alet': 583,\n",
              " 'müthiş': 584,\n",
              " 'metal': 585,\n",
              " 'ürünleri': 586,\n",
              " 'mouse': 587,\n",
              " 'beraber': 588,\n",
              " 'bebek': 589,\n",
              " 'kullanıyordum': 590,\n",
              " 'geri': 591,\n",
              " 'ederiz': 592,\n",
              " 'başta': 593,\n",
              " 'makul': 594,\n",
              " 'olmazsınız': 595,\n",
              " 'apple': 596,\n",
              " 'yaptı': 597,\n",
              " 'okudum': 598,\n",
              " 'elimde': 599,\n",
              " 'görür': 600,\n",
              " 'olduğundan': 601,\n",
              " 'fiyatının': 602,\n",
              " 'açık': 603,\n",
              " 'üzerinden': 604,\n",
              " 'aşırı': 605,\n",
              " 'özellik': 606,\n",
              " 'e': 607,\n",
              " 'olanlara': 608,\n",
              " 'izi': 609,\n",
              " 'garanti': 610,\n",
              " 'film': 611,\n",
              " 'biz': 612,\n",
              " 'yavaş': 613,\n",
              " 'ucuza': 614,\n",
              " 'bişey': 615,\n",
              " 'tartışılmaz': 616,\n",
              " 'sene': 617,\n",
              " 'super': 618,\n",
              " 'site': 619,\n",
              " 'birçok': 620,\n",
              " 'ücretsiz': 621,\n",
              " 'sonunda': 622,\n",
              " 'ısınma': 623,\n",
              " 'saati': 624,\n",
              " 'batarya': 625,\n",
              " 'kapalı': 626,\n",
              " 'olumsuz': 627,\n",
              " 'alan': 628,\n",
              " 'hediyesi': 629,\n",
              " 'kullaniyorum': 630,\n",
              " 'yapmıyor': 631,\n",
              " 'eve': 632,\n",
              " 'evet': 633,\n",
              " 'önceki': 634,\n",
              " 'sık': 635,\n",
              " 'hakkını': 636,\n",
              " 'beklediğim': 637,\n",
              " 'kelimeyle': 638,\n",
              " 'beyaz': 639,\n",
              " 'zorunda': 640,\n",
              " 'üç': 641,\n",
              " 'kat': 642,\n",
              " 'telefonda': 643,\n",
              " 'tasarım': 644,\n",
              " 'dakika': 645,\n",
              " 'etmek': 646,\n",
              " 'uyumlu': 647,\n",
              " 'önceden': 648,\n",
              " 'olunca': 649,\n",
              " 'severek': 650,\n",
              " 'isteyenler': 651,\n",
              " 'diyorum': 652,\n",
              " 'çanta': 653,\n",
              " 'el': 654,\n",
              " 'istedim': 655,\n",
              " 'iyiki': 656,\n",
              " 'kullanın': 657,\n",
              " 'yoktu': 658,\n",
              " 'sıkıntısı': 659,\n",
              " 'ikinci': 660,\n",
              " 'yorumlarda': 661,\n",
              " 'çekiyor': 662,\n",
              " 'bilmiyorum': 663,\n",
              " 'kullanma': 664,\n",
              " 'araç': 665,\n",
              " 'edin': 666,\n",
              " 'görüntüsü': 667,\n",
              " 'firma': 668,\n",
              " 'alıyor': 669,\n",
              " 'hepsi̇burada': 670,\n",
              " 'alt': 671,\n",
              " 'olmadan': 672,\n",
              " 'bazen': 673,\n",
              " 'dayanıklı': 674,\n",
              " 'olmaması': 675,\n",
              " 'ona': 676,\n",
              " 'iade': 677,\n",
              " 'fiyatlı': 678,\n",
              " 'internet': 679,\n",
              " 'geniş': 680,\n",
              " 'philips': 681,\n",
              " 'koltuk': 682,\n",
              " 'elimdeydi': 683,\n",
              " 'kullanan': 684,\n",
              " 'yaparken': 685,\n",
              " 'derecede': 686,\n",
              " 'asla': 687,\n",
              " '16': 688,\n",
              " 'kalitede': 689,\n",
              " 'taktım': 690,\n",
              " 'resmen': 691,\n",
              " 'eden': 692,\n",
              " 'halde': 693,\n",
              " 'merhaba': 694,\n",
              " 'mukemmel': 695,\n",
              " 'hassas': 696,\n",
              " 'başladı': 697,\n",
              " 'zarar': 698,\n",
              " 'kalitesiz': 699,\n",
              " 'aylık': 700,\n",
              " 'açıkçası': 701,\n",
              " 'mutlu': 702,\n",
              " 'alin': 703,\n",
              " 'yeri': 704,\n",
              " 'ram': 705,\n",
              " 'neden': 706,\n",
              " 'eksiksiz': 707,\n",
              " 'paketlenmiş': 708,\n",
              " 'idi': 709,\n",
              " 'idare': 710,\n",
              " 'iyiydi': 711,\n",
              " 'olabilirdi': 712,\n",
              " 'yarıyor': 713,\n",
              " 'gerekli': 714,\n",
              " 'olduğum': 715,\n",
              " '50': 716,\n",
              " 'parfümü': 717,\n",
              " 'buradaya': 718,\n",
              " 'kelime': 719,\n",
              " 'herkesin': 720,\n",
              " 'olmasi': 721,\n",
              " 'ara': 722,\n",
              " 'verildi': 723,\n",
              " 'yoğun': 724,\n",
              " 'etkisi': 725,\n",
              " 'vermeye': 726,\n",
              " 'saçlarım': 727,\n",
              " 'siz': 728,\n",
              " 'kullanıyor': 729,\n",
              " 'b': 730,\n",
              " '40': 731,\n",
              " 'zamandır': 732,\n",
              " 'yapan': 733,\n",
              " 'olmayan': 734,\n",
              " 'yorumlar': 735,\n",
              " 'ayrica': 736,\n",
              " 'yinede': 737,\n",
              " 'kendim': 738,\n",
              " 'ulasti': 739,\n",
              " 'hafıza': 740,\n",
              " 'etmiyor': 741,\n",
              " 'almış': 742,\n",
              " 'yapılmış': 743,\n",
              " 'verdikten': 744,\n",
              " 'kendime': 745,\n",
              " 'yedek': 746,\n",
              " 'düşünenlere': 747,\n",
              " 'durum': 748,\n",
              " 'sonuçta': 749,\n",
              " 'yerden': 750,\n",
              " 'etmiyorum': 751,\n",
              " 'video': 752,\n",
              " 'çekiş': 753,\n",
              " 'cuma': 754,\n",
              " 'cam': 755,\n",
              " 'uygulama': 756,\n",
              " 'içi': 757,\n",
              " 'işi': 758,\n",
              " 'eksik': 759,\n",
              " 'ihtiyacı': 760,\n",
              " 'eksiği': 761,\n",
              " 'faydalı': 762,\n",
              " 'göz': 763,\n",
              " 'deneme': 764,\n",
              " 'isteyen': 765,\n",
              " 'acaba': 766,\n",
              " 'kısacası': 767,\n",
              " 'kullanabilirsiniz': 768,\n",
              " 'merak': 769,\n",
              " 'temizliyor': 770,\n",
              " 'ürünle': 771,\n",
              " 'rahatlığı': 772,\n",
              " 'p': 773,\n",
              " 'türkiye': 774,\n",
              " 'hepsiburadadan': 775,\n",
              " 'aldı': 776,\n",
              " 'görmedim': 777,\n",
              " 'test': 778,\n",
              " 'ana': 779,\n",
              " 'aldıktan': 780,\n",
              " 'aleti': 781,\n",
              " 'şimdiye': 782,\n",
              " 'yapıyorum': 783,\n",
              " 'olumlu': 784,\n",
              " 'hakkında': 785,\n",
              " 'piyasa': 786,\n",
              " 'ekranı': 787,\n",
              " 'mümkün': 788,\n",
              " 'kış': 789,\n",
              " 'siparis': 790,\n",
              " 'd': 791,\n",
              " 'malı': 792,\n",
              " 'elinize': 793,\n",
              " 'km': 794,\n",
              " 'gösteriyor': 795,\n",
              " 'haricinde': 796,\n",
              " 'donma': 797,\n",
              " 'denemek': 798,\n",
              " 'türlü': 799,\n",
              " 'i': 800,\n",
              " 'alacaklara': 801,\n",
              " 'elde': 802,\n",
              " 'dış': 803,\n",
              " 'dokunmatik': 804,\n",
              " 'gerçek': 805,\n",
              " 'tabiki': 806,\n",
              " 'ürünlere': 807,\n",
              " 'boyutu': 808,\n",
              " 'hissi': 809,\n",
              " 'söyleyebilirim': 810,\n",
              " 'cabası': 811,\n",
              " 'kaldim': 812,\n",
              " 'emiş': 813,\n",
              " 'kanal': 814,\n",
              " 'takip': 815,\n",
              " 'problemi': 816,\n",
              " 'tavsiyem': 817,\n",
              " 'kargolama': 818,\n",
              " 'aslında': 819,\n",
              " 'dahi': 820,\n",
              " 'yardımcı': 821,\n",
              " 'akıcı': 822,\n",
              " 'ütü': 823,\n",
              " 'konuda': 824,\n",
              " 'hayırlı': 825,\n",
              " 'değilim': 826,\n",
              " 'herkeze': 827,\n",
              " 'karşı': 828,\n",
              " 'markanın': 829,\n",
              " 'kutusu': 830,\n",
              " 'elektrik': 831,\n",
              " 'yaz': 832,\n",
              " 'yerli': 833,\n",
              " 'tavsıye': 834,\n",
              " 'emin': 835,\n",
              " 's': 836,\n",
              " 'lg': 837,\n",
              " 'once': 838,\n",
              " 'araba': 839,\n",
              " 'pazartesi': 840,\n",
              " 'f': 841,\n",
              " 'kullandıktan': 842,\n",
              " 'yatak': 843,\n",
              " 'zarif': 844,\n",
              " 'gelir': 845,\n",
              " 'beden': 846,\n",
              " 'özel': 847,\n",
              " 'ciddi': 848,\n",
              " 'kontrol': 849,\n",
              " 'olmak': 850,\n",
              " 'i̇ki': 851,\n",
              " 'zamanla': 852,\n",
              " 'fayda': 853,\n",
              " 'istiyorsanız': 854,\n",
              " 'bağlantı': 855,\n",
              " 'sıfır': 856,\n",
              " 'çıkmadı': 857,\n",
              " 'ayni': 858,\n",
              " 'parasını': 859,\n",
              " 'fön': 860,\n",
              " 'anladım': 861,\n",
              " 'düzgün': 862,\n",
              " 'olmadığı': 863,\n",
              " 'fiyatını': 864,\n",
              " 'kibar': 865,\n",
              " 'veren': 866,\n",
              " 'sağlıklı': 867,\n",
              " 'birisi': 868,\n",
              " 'soğuk': 869,\n",
              " 'montaj': 870,\n",
              " 'klasik': 871,\n",
              " 'parça': 872,\n",
              " 'yarım': 873,\n",
              " 'telefondan': 874,\n",
              " 'okuma': 875,\n",
              " 'makinesi': 876,\n",
              " 'verilen': 877,\n",
              " 'düzenli': 878,\n",
              " 'düşünmeyin': 879,\n",
              " 'kullanılabilir': 880,\n",
              " 'koruyucu': 881,\n",
              " 'anneme': 882,\n",
              " 'hale': 883,\n",
              " 'ömrü': 884,\n",
              " 'kalitesine': 885,\n",
              " 'bulmak': 886,\n",
              " 'kullanmadım': 887,\n",
              " 'saglam': 888,\n",
              " 'normalde': 889,\n",
              " 'cm': 890,\n",
              " 'xiaomi': 891,\n",
              " 'beklemeyin': 892,\n",
              " 'çoğu': 893,\n",
              " 'pili': 894,\n",
              " 'çocuk': 895,\n",
              " 'bakımından': 896,\n",
              " 'birebir': 897,\n",
              " 'yazma': 898,\n",
              " 'boyu': 899,\n",
              " 'hareket': 900,\n",
              " 'siteden': 901,\n",
              " 'cihazın': 902,\n",
              " 'led': 903,\n",
              " 'tahmin': 904,\n",
              " 'kapak': 905,\n",
              " 'bilgisayar': 906,\n",
              " 'ısınıyor': 907,\n",
              " 'eksi': 908,\n",
              " 'gelmesi': 909,\n",
              " 'kalmadı': 910,\n",
              " 'begendim': 911,\n",
              " 'kullanisli': 912,\n",
              " 'verip': 913,\n",
              " 'günden': 914,\n",
              " 'kaçmaz': 915,\n",
              " 'sürükleyici': 916,\n",
              " 'sonucu': 917,\n",
              " 'markası': 918,\n",
              " 'indirim': 919,\n",
              " 'oranı': 920,\n",
              " 'arkadaşım': 921,\n",
              " 'telefonum': 922,\n",
              " 'temizliği': 923,\n",
              " 'şarjlı': 924,\n",
              " 'kullanırken': 925,\n",
              " 'zayıf': 926,\n",
              " 'tesekkur': 927,\n",
              " 'çıkarıyor': 928,\n",
              " 'karşıladı': 929,\n",
              " 'sistemi': 930,\n",
              " 'akıllı': 931,\n",
              " 'ortalama': 932,\n",
              " 'direk': 933,\n",
              " 'alınır': 934,\n",
              " 'olsaydı': 935,\n",
              " 'arkadaslar': 936,\n",
              " 'profesyonel': 937,\n",
              " 'boşuna': 938,\n",
              " 'hd': 939,\n",
              " 'sony': 940,\n",
              " 'iç': 941,\n",
              " 'ekstra': 942,\n",
              " 'yi': 943,\n",
              " 'kuru': 944,\n",
              " 'sonrası': 945,\n",
              " 'almayın': 946,\n",
              " 'lik': 947,\n",
              " 'kusursuz': 948,\n",
              " 'başlık': 949,\n",
              " 'seviyede': 950,\n",
              " 'bluetooth': 951,\n",
              " 'kullanmıştım': 952,\n",
              " 'burda': 953,\n",
              " 'genelde': 954,\n",
              " 'kokuyu': 955,\n",
              " 'olacağını': 956,\n",
              " 'siparişim': 957,\n",
              " 'burdan': 958,\n",
              " 'kampanya': 959,\n",
              " 'nin': 960,\n",
              " 'olanı': 961,\n",
              " 'vestel': 962,\n",
              " 'alacağım': 963,\n",
              " 'tarafı': 964,\n",
              " 'insan': 965,\n",
              " 'artı': 966,\n",
              " 'paketi': 967,\n",
              " 'ayarı': 968,\n",
              " 'karşılıyor': 969,\n",
              " 'üstüne': 970,\n",
              " 'premium': 971,\n",
              " 'kalıcılığı': 972,\n",
              " 'eminim': 973,\n",
              " 'olup': 974,\n",
              " 'ürünlerden': 975,\n",
              " 'malzemesi': 976,\n",
              " 'mavi': 977,\n",
              " 'buradaki': 978,\n",
              " 'markalara': 979,\n",
              " 'parlak': 980,\n",
              " 'söz': 981,\n",
              " 'ergonomik': 982,\n",
              " 'yaptığım': 983,\n",
              " 'kendisi': 984,\n",
              " 'düşünen': 985,\n",
              " 'hızlıydı': 986,\n",
              " 'kasma': 987,\n",
              " 'fiyatta': 988,\n",
              " 'enerji': 989,\n",
              " 'kolayca': 990,\n",
              " 'yan': 991,\n",
              " 'pc': 992,\n",
              " '00': 993,\n",
              " 'bol': 994,\n",
              " 'kablosuz': 995,\n",
              " 'full': 996,\n",
              " 'işinizi': 997,\n",
              " 'modeli': 998,\n",
              " 'oturuyor': 999,\n",
              " 'kişi': 1000,\n",
              " ...}"
            ]
          },
          "metadata": {},
          "execution_count": 14
        }
      ],
      "source": [
        "tokenizer.word_index\n",
        "# Sırasıyla corpusumuzda en fazla kullanılan tokeni 1den başlayarak aşağıya doğru sıralıyor"
      ]
    },
    {
      "cell_type": "code",
      "execution_count": null,
      "metadata": {
        "colab": {
          "base_uri": "https://localhost:8080/"
        },
        "id": "01oWtDTTMP3J",
        "outputId": "c043f7a4-a57a-4f70-94c7-33625eb25c90"
      },
      "outputs": [
        {
          "output_type": "execute_result",
          "data": {
            "text/plain": [
              "217983"
            ]
          },
          "metadata": {},
          "execution_count": 19
        }
      ],
      "source": [
        "len(tokenizer.word_index)\n",
        "# hafızasında ilk 15 bini kullanacağı bilgisi var hala."
      ]
    },
    {
      "cell_type": "markdown",
      "metadata": {
        "id": "1sENSxrzMP3J"
      },
      "source": [
        "## Converting tokens to numeric"
      ]
    },
    {
      "cell_type": "code",
      "execution_count": 15,
      "metadata": {
        "id": "OL-LESXtMP3J"
      },
      "outputs": [],
      "source": [
        "X_num_tokens = tokenizer.texts_to_sequences(X)\n",
        "# her bir tokeni"
      ]
    },
    {
      "cell_type": "code",
      "execution_count": 16,
      "metadata": {
        "colab": {
          "base_uri": "https://localhost:8080/",
          "height": 35
        },
        "id": "UR0ED18aMP3K",
        "outputId": "bcf8e979-0d17-49ad-c70d-9c47376477af"
      },
      "outputs": [
        {
          "output_type": "execute_result",
          "data": {
            "text/plain": [
              "'Logitech ürünlerinin geneli kalite olarak çok iyidir. Adedini tam saymadım ama 10 un üzerinde kendime akrabalarıma arkadaşlarıma almışımdır hepside memnunlar. İhtiyacı olan kaçırmasın başkada ürün aramasın derim.'"
            ],
            "application/vnd.google.colaboratory.intrinsic+json": {
              "type": "string"
            }
          },
          "metadata": {},
          "execution_count": 16
        }
      ],
      "source": [
        "X[105]\n",
        "# 105. yoruma baktık"
      ]
    },
    {
      "cell_type": "code",
      "execution_count": null,
      "metadata": {
        "colab": {
          "base_uri": "https://localhost:8080/"
        },
        "id": "sFpOQBoqMP3K",
        "outputId": "ccd56582-0e50-4c80-c772-b430018c0853"
      },
      "outputs": [
        {
          "output_type": "stream",
          "name": "stdout",
          "text": [
            "[1816, 5360, 131, 23, 1, 1849, 74, 12, 118, 1533, 297, 745, 3216, 13402, 6326, 5030, 2463, 113, 2534, 8858, 4, 143]\n"
          ]
        }
      ],
      "source": [
        "print(X_num_tokens[105])\n",
        "# yukardaki kelimeleri sayısal değerlere dönüştürdü\n",
        "# ilk 15 bini aldığımız için. Yukarda çok 6. ama burda 5. mesela. Sebebi ilk 15 binde yok yukardaki kelimelerden biri.\n",
        "# Büyük iht. Logitech."
      ]
    },
    {
      "cell_type": "code",
      "execution_count": null,
      "metadata": {
        "colab": {
          "base_uri": "https://localhost:8080/"
        },
        "id": "h8qwAwEHMP3L",
        "outputId": "e3642f75-d16a-4710-990e-6d2a76c9ffa6"
      },
      "outputs": [
        {
          "output_type": "execute_result",
          "data": {
            "text/plain": [
              "22"
            ]
          },
          "metadata": {},
          "execution_count": 23
        }
      ],
      "source": [
        "len(X_num_tokens[105])\n",
        "# Kaç tokenden oluşuyor onlara bakıyoruz."
      ]
    },
    {
      "cell_type": "code",
      "execution_count": null,
      "metadata": {
        "colab": {
          "base_uri": "https://localhost:8080/"
        },
        "id": "1E-ySfDiMP3M",
        "outputId": "28c1c2a3-3fea-487f-a51e-7e49b67a3650"
      },
      "outputs": [
        {
          "output_type": "execute_result",
          "data": {
            "text/plain": [
              "18"
            ]
          },
          "metadata": {},
          "execution_count": 24
        }
      ],
      "source": [
        "len(X_num_tokens[106])"
      ]
    },
    {
      "cell_type": "code",
      "source": [
        "len(X_num_tokens[6150])"
      ],
      "metadata": {
        "colab": {
          "base_uri": "https://localhost:8080/"
        },
        "id": "mOQfFfutfMTn",
        "outputId": "2f517db6-c0af-4c17-aa29-3bc8d8acdb80"
      },
      "execution_count": null,
      "outputs": [
        {
          "output_type": "execute_result",
          "data": {
            "text/plain": [
              "88"
            ]
          },
          "metadata": {},
          "execution_count": 26
        }
      ]
    },
    {
      "cell_type": "code",
      "execution_count": 17,
      "metadata": {
        "id": "dp7-tP7MMP3M"
      },
      "outputs": [],
      "source": [
        "num_tokens = [len(tokens) for tokens in X_num_tokens]\n",
        "num_tokens = np.array(num_tokens)\n",
        "# her seferinde tokenleri sayıyoruz.\n",
        "# teker teker her biri için kaç tokenden oluştuğunu saydırıyoruz"
      ]
    },
    {
      "cell_type": "markdown",
      "metadata": {
        "id": "6wec7mUpMP3N"
      },
      "source": [
        "## Maximum number of tokens for all documents"
      ]
    },
    {
      "cell_type": "code",
      "execution_count": null,
      "metadata": {
        "colab": {
          "base_uri": "https://localhost:8080/"
        },
        "id": "4mIHsbiDMP3N",
        "outputId": "6e83742a-303d-4a2d-b90c-84f5f8a88c76"
      },
      "outputs": [
        {
          "output_type": "execute_result",
          "data": {
            "text/plain": [
              "21.36101060793357"
            ]
          },
          "metadata": {},
          "execution_count": 28
        }
      ],
      "source": [
        "num_tokens.mean()"
      ]
    },
    {
      "cell_type": "code",
      "execution_count": null,
      "metadata": {
        "colab": {
          "base_uri": "https://localhost:8080/"
        },
        "id": "c-iTNs-0MP3N",
        "outputId": "2e7fbac5-bcb3-4621-d8f5-05d76a09dc8f"
      },
      "outputs": [
        {
          "output_type": "execute_result",
          "data": {
            "text/plain": [
              "298"
            ]
          },
          "metadata": {},
          "execution_count": 29
        }
      ],
      "source": [
        "num_tokens.max()"
      ]
    },
    {
      "cell_type": "code",
      "execution_count": null,
      "metadata": {
        "colab": {
          "base_uri": "https://localhost:8080/"
        },
        "id": "Wdpbr6TPMP3O",
        "outputId": "3da54828-7832-49f0-fcd8-bcaee16fc8b9"
      },
      "outputs": [
        {
          "output_type": "execute_result",
          "data": {
            "text/plain": [
              "21941"
            ]
          },
          "metadata": {},
          "execution_count": 30
        }
      ],
      "source": [
        "num_tokens.argmax() # listedeki en uzun yorumun indexini argmax ile bulabiliyoruz."
      ]
    },
    {
      "cell_type": "code",
      "execution_count": null,
      "metadata": {
        "colab": {
          "base_uri": "https://localhost:8080/",
          "height": 145
        },
        "id": "bv29eaR2MP3P",
        "outputId": "cc2ccd9d-be93-4ce2-9f72-76c9ee73c709"
      },
      "outputs": [
        {
          "output_type": "execute_result",
          "data": {
            "text/plain": [
              "'Özellikle bu kısma yazıyorum iyice okuyunuz,cihazın hızı çok iyi.Isınma normal boyutlarda.Kamerası elinizi sabit tutarsanız ve gündüz çok net gece ise çok net çekmez.Görüntülü konuşma özelliği yok ancak uygulama ile olur,anten çekimi gayet iyi.Parmak izi okuyucusu gayet hızlı bazen tuşu silmenizi istiyor ve okuyamıyor kirden vs...Ön kamera da tatmin edici,çekim esnasında ekran beyaz ışık vererek flaş görevi görür.Batarya bana 1 hafta gidiyor sık kullanımda ise 2-3 gün gidiyor.Hızlı şarj 1 saatte doluyor , şekilleri ele oturuyor ve şık bir görüntü var.Telefonu aldığım gün gittim ve ilk girdiğim yerden ekran koruyucu ve kılıf buldum.Kulaklık sesi çok net ve yüksek ancak kendi hoparlörü biraz zayıf sesi.Ekrana bakarken açık kalma özelliği yok.Diğer akıllı cihaz özellikleri %90 ı bu cihazda mevcut.Güç tasarrufu 2 ayrı modu var ve çok başarılı çalışıyor.4gb ram var genelde yarısı boş kalıyor.Bir de yeni cihazların çoğu titreşimi az ve sesi de az çıkıyor.Bu cihaz da içine dahil...Bu cihazlar güncelleme almaz ve rom bulunmuyormuş.Benim için güncelleme sorun olmaz -cihaz parasına göre s serisi ile yarışıyor çünkü.Biraz metal olmasından dolayı elden kolay kaysada duruşu ve gösterişi iyidir.Çift flaşı var arkada.Kısaca şöyle ki bu fiyata bu ürün alınır.5 aydır kullanıyorum kasma donma felan zaten olmaz,bataryası iyi,şekli iyi,özellikler de iyi....En büyük kafa karıştıran soru şu ki hadi cihaz arıza yaptı veya düştü ekranı kırıldı.Bunun bir servisi var,ithalatçı garantisi de var.Cihazın adı sanı belli...Parça bulanmaz tamir olmaz derseniz size kalmış.Zaten normal bir cihazı da düşürseniz farkedermi?.Güncelleme almaz diyorlar bu konuda düşünebilirsiniz.S serisi cihazlarla hızını kıyaslarsınız ama güncelleme ile araya fark koymuşlar.İki katı fiyata satılan cihazla farkı olmasa zaten olmaz değil mi?Almayı düşünenler başka bir cihazla kıyas yapacaksa yine  7pro veya 9 baksınlar.C5 pro da biraz boyutu kısa ve kibar....Sonuçta ömürlük değil alın fazla düşünmeyin'"
            ],
            "application/vnd.google.colaboratory.intrinsic+json": {
              "type": "string"
            }
          },
          "metadata": {},
          "execution_count": 31
        }
      ],
      "source": [
        "X[21941]"
      ]
    },
    {
      "cell_type": "code",
      "source": [
        "len(X_num_tokens[21941])"
      ],
      "metadata": {
        "colab": {
          "base_uri": "https://localhost:8080/"
        },
        "id": "_W8AuJEcfe7s",
        "outputId": "6f4bc936-1020-4113-8c7d-2e37ff735634"
      },
      "execution_count": null,
      "outputs": [
        {
          "output_type": "execute_result",
          "data": {
            "text/plain": [
              "298"
            ]
          },
          "metadata": {},
          "execution_count": 34
        }
      ]
    },
    {
      "cell_type": "code",
      "execution_count": 22,
      "metadata": {
        "colab": {
          "base_uri": "https://localhost:8080/"
        },
        "id": "66JrdJCtMP3P",
        "outputId": "f449daf2-3b63-4013-d4a0-b3887e625043"
      },
      "outputs": [
        {
          "output_type": "stream",
          "name": "stdout",
          "text": [
            "[ True False  True  True False False]\n",
            "3\n",
            "0.5\n"
          ]
        }
      ],
      "source": [
        "list = [5, 10, 8, 9, 12, 15]\n",
        "print(np.array(list) < 10)\n",
        "print(sum(np.array(list) < 10))\n",
        "print(sum(np.array(list) < 10)/len(list))\n",
        "# 10 tokenden "
      ]
    },
    {
      "cell_type": "code",
      "execution_count": 21,
      "metadata": {
        "id": "-k5VZDpjMP3Q"
      },
      "outputs": [],
      "source": [
        "max_tokens = 61\n",
        "# her yorumu kaç tokene sabitleyeyim? Bunun için yapıyorum."
      ]
    },
    {
      "cell_type": "code",
      "execution_count": null,
      "metadata": {
        "colab": {
          "base_uri": "https://localhost:8080/"
        },
        "id": "Xal4WMNoMP3Q",
        "outputId": "03f0a370-3fd8-4f3c-ac71-062304b5c350"
      },
      "outputs": [
        {
          "output_type": "execute_result",
          "data": {
            "text/plain": [
              "0.9598968365113328"
            ]
          },
          "metadata": {},
          "execution_count": 39
        }
      ],
      "source": [
        "sum(num_tokens < max_tokens) / len(num_tokens)\n",
        "# Bizim yorumlarımızın 96'sında sıkıntı yok. Sadece 4'ünde değişiklik yapacağız.\n",
        "# Yani yüzde 4'ünde bilgi kaybımız olacak.\n",
        "# Johnson hocamız genelde 95 i kullanırmış. Bunu deneye yanıla öğreneceğiz.\n",
        "# Model çok güçlüyse 98 bile olur ama best practice 95."
      ]
    },
    {
      "cell_type": "code",
      "execution_count": null,
      "metadata": {
        "colab": {
          "base_uri": "https://localhost:8080/"
        },
        "id": "M2U7lFjMMP3R",
        "outputId": "3a52eaaa-de65-423d-88e3-f6182cd28b8b"
      },
      "outputs": [
        {
          "output_type": "execute_result",
          "data": {
            "text/plain": [
              "233732"
            ]
          },
          "metadata": {},
          "execution_count": 40
        }
      ],
      "source": [
        "sum(num_tokens < max_tokens)\n",
        "# Bunlar 61 yorumlardan küçük olanlar. bunlarda bilgi kaybı olmayacak\n",
        "# Burda tokenler kelimeler oluyor."
      ]
    },
    {
      "cell_type": "markdown",
      "source": [
        "Çok güzel bir televizyon --> 4 token var."
      ],
      "metadata": {
        "id": "LsdugKa5Dczm"
      }
    },
    {
      "cell_type": "code",
      "execution_count": null,
      "metadata": {
        "colab": {
          "base_uri": "https://localhost:8080/"
        },
        "id": "1lGeDqduMP3R",
        "outputId": "469cf025-fa24-4160-fee0-bbd4d0b9eab5"
      },
      "outputs": [
        {
          "output_type": "execute_result",
          "data": {
            "text/plain": [
              "243497"
            ]
          },
          "metadata": {},
          "execution_count": 41
        }
      ],
      "source": [
        "len(num_tokens) # Bu da tüm tokenimiz"
      ]
    },
    {
      "cell_type": "markdown",
      "metadata": {
        "id": "fvfHyoaKMP3R"
      },
      "source": [
        "## Fixing token counts of all documents (pad_sequences)"
      ]
    },
    {
      "cell_type": "markdown",
      "source": [
        "Küçültme işleminde rastgele token siliyor."
      ],
      "metadata": {
        "id": "LiK20QIdEACx"
      }
    },
    {
      "cell_type": "code",
      "execution_count": 23,
      "metadata": {
        "id": "bs3CarRdMP3R"
      },
      "outputs": [],
      "source": [
        "X_pad = pad_sequences(X_num_tokens, maxlen=max_tokens)\n",
        "# Ben bunu hangi uzunluğa sabitleyeyim? Şuan 61'e sabitliyoruz."
      ]
    },
    {
      "cell_type": "code",
      "execution_count": 24,
      "metadata": {
        "colab": {
          "base_uri": "https://localhost:8080/"
        },
        "id": "NJsSbXm_MP3S",
        "outputId": "dbb5a0ce-02f6-4263-c27c-4743a40b57a2"
      },
      "outputs": [
        {
          "output_type": "execute_result",
          "data": {
            "text/plain": [
              "(243497, 61)"
            ]
          },
          "metadata": {},
          "execution_count": 24
        }
      ],
      "source": [
        "X_pad.shape"
      ]
    },
    {
      "cell_type": "code",
      "execution_count": null,
      "metadata": {
        "colab": {
          "base_uri": "https://localhost:8080/"
        },
        "id": "9byUlLyPMP3S",
        "outputId": "fd984ae0-e649-4168-e21c-3a3bbc1930b5"
      },
      "outputs": [
        {
          "output_type": "execute_result",
          "data": {
            "text/plain": [
              "array([  19,  341,   52,  194,   30,   54, 7992,   55,  209,  603, 7887,\n",
              "          3,   36,  114,  164,  479,   85,    1, 1682,  782,   30,    2,\n",
              "        380,  326,    3,    1,   81,  132,  562,    9,   10])"
            ]
          },
          "metadata": {},
          "execution_count": 44
        }
      ],
      "source": [
        "np.array(X_num_tokens[800])"
      ]
    },
    {
      "cell_type": "code",
      "execution_count": null,
      "metadata": {
        "colab": {
          "base_uri": "https://localhost:8080/"
        },
        "id": "AZOPw83rMP3S",
        "outputId": "a83a41b5-9b85-4da5-adcf-5570d3b3fffd"
      },
      "outputs": [
        {
          "output_type": "execute_result",
          "data": {
            "text/plain": [
              "array([   0,    0,    0,    0,    0,    0,    0,    0,    0,    0,    0,\n",
              "          0,    0,    0,    0,    0,    0,    0,    0,    0,    0,    0,\n",
              "          0,    0,    0,    0,    0,    0,    0,    0,   19,  341,   52,\n",
              "        194,   30,   54, 7992,   55,  209,  603, 7887,    3,   36,  114,\n",
              "        164,  479,   85,    1, 1682,  782,   30,    2,  380,  326,    3,\n",
              "          1,   81,  132,  562,    9,   10], dtype=int32)"
            ]
          },
          "metadata": {},
          "execution_count": 45
        }
      ],
      "source": [
        "X_pad[800]\n",
        "# Padding işlemini yapmış 61'den küçük olanlara."
      ]
    },
    {
      "cell_type": "code",
      "execution_count": null,
      "metadata": {
        "colab": {
          "base_uri": "https://localhost:8080/"
        },
        "id": "4skufTFRMP3T",
        "outputId": "e5cea3b5-75c0-42f3-c01f-14e28ea0ad6b"
      },
      "outputs": [
        {
          "output_type": "execute_result",
          "data": {
            "text/plain": [
              "array([  145,     5,  5876,  2225,  1653,   902,   203,     1,     6,\n",
              "        2958,   163,  4248,   374,  3449,  1521, 12582,     3,  1381,\n",
              "           1,   491,   281,   140,     1,   491,  3391,  2388,   235,\n",
              "          21,    82,   756,    31,   212,  4458,  1448,    14,     6,\n",
              "         472,   609,  2159,    14,    15,   673,  1681,  2152,     3,\n",
              "         313,   444,   261,    13,   561,   463,   470,  1664,   168,\n",
              "         639,   519,  3209,  5455,  6409,   600,   625,   153,    38,\n",
              "         194,   272,   635,   389,   140,    26,    52,    40,   272,\n",
              "          15,    84,    38,   466,  1679, 12350,  1036,   999,     3,\n",
              "          96,     2,   318,    34,   134,   169,    40,  2752,     3,\n",
              "          77,   750,   168,   881,     3,   509,   571,   359,   195,\n",
              "           1,   491,     3,   172,    82,   256,  6460,    45,   926,\n",
              "         195,  2061,  6575,   603,  7031,   235,    21,   103,   931,\n",
              "         136,   394,  1316,  1917,     5,  2167,   567,  1034,  2217,\n",
              "          26,   335,  1883,    34,     3,     1,    79,   191,  3542,\n",
              "         705,    34,   954,  2751,  1341,   569,     2,    18,   135,\n",
              "        6653,   893,  3326,   133,     3,   195,    18,   133,   367,\n",
              "           5,   136,    13,   532,  1191,     5,  3051,  1308,  1865,\n",
              "           3,  4803,   119,     8,  1308,   105,   537,   136,  1181,\n",
              "          32,   836,  1640,    31,   204,    45,   585,  1346,   258,\n",
              "        3977,    98,  1976,     3,  1849,   546, 14186,    34,  3637,\n",
              "        1350,  1787,   100,     5,    39,     5,     4,   934,    65,\n",
              "         309,    55,   987,   797,  1612,    75,   537,  1433,     6,\n",
              "        1897,     6,  1205,    18,     6,    25,   104,  1902,  1421,\n",
              "         221,   100,  4468,   136,  2411,   597,   260,  1530,   787,\n",
              "        2889,   277,     2,  1425,    34,  2532,  1057,    18,    34,\n",
              "         902,  1869,   287,   872,  3501,   537,  1804,   488,  2218,\n",
              "          75,   163,     2,   456,    13,  1308,  1865,  3432,     5,\n",
              "         824,  7798,   836,  1640,  7838,  3344,    12,  1308,    31,\n",
              "        3063,   299,  2704,   851,  1052,    39,  1490,  3436,   317,\n",
              "        1170,    75,   537,    50,   327,   246,  1322,   120,     2,\n",
              "        3436,  7527,   199,   260,   579,  6176,  1800,    13,    45,\n",
              "         808,   108,     3,   865,   749,  5840,    50,   106,    76,\n",
              "         879])"
            ]
          },
          "metadata": {},
          "execution_count": 46
        }
      ],
      "source": [
        "np.array(X_num_tokens[21941])"
      ]
    },
    {
      "cell_type": "code",
      "execution_count": null,
      "metadata": {
        "colab": {
          "base_uri": "https://localhost:8080/"
        },
        "id": "n_yR_ZsfMP3T",
        "outputId": "5f1ebf1e-4387-4640-cddb-7ec7f761a655"
      },
      "outputs": [
        {
          "output_type": "execute_result",
          "data": {
            "text/plain": [
              "array([ 872, 3501,  537, 1804,  488, 2218,   75,  163,    2,  456,   13,\n",
              "       1308, 1865, 3432,    5,  824, 7798,  836, 1640, 7838, 3344,   12,\n",
              "       1308,   31, 3063,  299, 2704,  851, 1052,   39, 1490, 3436,  317,\n",
              "       1170,   75,  537,   50,  327,  246, 1322,  120,    2, 3436, 7527,\n",
              "        199,  260,  579, 6176, 1800,   13,   45,  808,  108,    3,  865,\n",
              "        749, 5840,   50,  106,   76,  879], dtype=int32)"
            ]
          },
          "metadata": {},
          "execution_count": 47
        }
      ],
      "source": [
        "X_pad[21941]\n",
        "# 61'den büyük olanlarda ise son 61'i almış"
      ]
    },
    {
      "cell_type": "markdown",
      "source": [
        "![image.png](data:image/png;base64,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)"
      ],
      "metadata": {
        "id": "oP8s8jKtEbWn"
      }
    },
    {
      "cell_type": "markdown",
      "metadata": {
        "id": "cdZpEZg0MP3V"
      },
      "source": [
        "## Train Test Split"
      ]
    },
    {
      "cell_type": "code",
      "execution_count": 19,
      "metadata": {
        "id": "uuzziHMgMP3V"
      },
      "outputs": [],
      "source": [
        "from sklearn.model_selection import train_test_split\n",
        "# NLP'de önemli olan cümlelerin kendi aralarında sıraları önemli o yüzden machine learning'deki test split'i kullanabiliriz."
      ]
    },
    {
      "cell_type": "code",
      "execution_count": 25,
      "metadata": {
        "id": "-r7MDXwWMP3V"
      },
      "outputs": [],
      "source": [
        "X_train, X_test, y_train, y_test = train_test_split(X_pad, y, test_size=0.2, stratify=y, random_state=0)"
      ]
    },
    {
      "cell_type": "markdown",
      "metadata": {
        "id": "RY35Ev1rMP3W"
      },
      "source": [
        "## Modelling"
      ]
    },
    {
      "cell_type": "code",
      "execution_count": 26,
      "metadata": {
        "id": "GPoCxQyXMP3W"
      },
      "outputs": [],
      "source": [
        "model = Sequential()"
      ]
    },
    {
      "cell_type": "code",
      "execution_count": 27,
      "metadata": {
        "id": "XXOdeDTXMP3W"
      },
      "outputs": [],
      "source": [
        "embedding_size = 50\n",
        "# NLP modeller, özellikle de imbalance datalar overfittinge çok yatkın oluyor. \n",
        "# embedding size ile oynarak overfiti giderebiliriz.\n",
        "# Johnson hcmız birkaç seçenek denemiş ve en iyisini 50'de aldığı için 50'de bırakmış."
      ]
    },
    {
      "cell_type": "code",
      "execution_count": null,
      "metadata": {
        "id": "w6xvp2kQMP3X"
      },
      "outputs": [],
      "source": [
        "# pip install -U numpy==1.19.5\n",
        "# Eğer Jupyter'de çalışıyorsak bunu çalıştırmalıymışız."
      ]
    },
    {
      "cell_type": "markdown",
      "source": [
        "Geldik en önemli kısımaa !!!"
      ],
      "metadata": {
        "id": "Z-5mRaHqGEp5"
      }
    },
    {
      "cell_type": "markdown",
      "source": [
        "Biz burada 3 boyutlu matrix oluşturacağız."
      ],
      "metadata": {
        "id": "dwG24CVrGK2T"
      }
    },
    {
      "cell_type": "code",
      "execution_count": 30,
      "metadata": {
        "id": "WDFpf4fSMP3X"
      },
      "outputs": [],
      "source": [
        "model.add(Embedding(input_dim=num_words, # input dim corpusumda (en çok) kullanılan corpus? en çok kullanılan ilk 15 bin\n",
        "                    output_dim=embedding_size, # tokenlerim kaç boyutlu olacak? 50\n",
        "                    input_length=max_tokens)) # modelime verdiğim textlerin uzunluğu kaç olacak? 61\n",
        "\n",
        "model.add(Dropout(0.2))\n",
        "\n",
        "model.add(GRU(units=48, return_sequences=True)) # unit'ler?? time seriesde bunlar nörondu. NLP'de bunlar bizim word embedding'i düşürdüğümüz boyut.\n",
        "model.add(Dropout(0.2)) # return_sequences layerlar arası bilgi aktarımı için şart.\n",
        "\n",
        "#model.add(GRU(units=24, return_sequences=True))\n",
        "#model.add(Dropout(0.2))\n",
        "\n",
        "model.add(GRU(units=12)) \n",
        "# Genelde NLP'de RNN modellerinde 5 layer'i geçmeyin diye tavsiye edilir.\n",
        "# İlk başta biz 3 vermişiz mesela ama sonradan overfiti engellemek için 2'ye indirmişiz.\n",
        "\n",
        "model.add(Dense(1, activation='sigmoid'))\n",
        "\n",
        "# Burda batch_norm gerek yok çünkü LSTM ve GRU batch_norm işini yapabiliyor zaten."
      ]
    },
    {
      "cell_type": "markdown",
      "source": [
        "Burda GRU yerine LSTM de kullanabiliriz.\n",
        "\n",
        "Johnson hocamız overfittingi bu değerlerle kurtarmış ama."
      ],
      "metadata": {
        "id": "YLpdIpAoHny7"
      }
    },
    {
      "cell_type": "code",
      "execution_count": 31,
      "metadata": {
        "id": "pKOLaAIlMP3X"
      },
      "outputs": [],
      "source": [
        "optimizer = Adam(learning_rate=0.01)\n",
        "# Learningle de oynadık overfitting'i engellemek için."
      ]
    },
    {
      "cell_type": "code",
      "execution_count": 32,
      "metadata": {
        "id": "zQqwx6KkMP3X"
      },
      "outputs": [],
      "source": [
        "model.compile(loss='binary_crossentropy',\n",
        "              optimizer=optimizer,\n",
        "              metrics=['Recall'])\n",
        "# Biz recall'u takip edeceğiz.\n",
        "# Binary cross entropy compares each of the predicted probabilities to actual class output which can be either 0 or 1."
      ]
    },
    {
      "cell_type": "markdown",
      "metadata": {
        "id": "25o7tm7cMP3X"
      },
      "source": [
        "https://stats.stackexchange.com/questions/328926/how-many-parameters-are-in-a-gated-recurrent-unit-gru-recurrent-neural-network"
      ]
    },
    {
      "cell_type": "code",
      "execution_count": 33,
      "metadata": {
        "colab": {
          "base_uri": "https://localhost:8080/"
        },
        "id": "kuUR-OshMP3Y",
        "outputId": "21b48db5-1383-4c0f-cf28-ceeb13bb6ae2"
      },
      "outputs": [
        {
          "output_type": "stream",
          "name": "stdout",
          "text": [
            "Model: \"sequential\"\n",
            "_________________________________________________________________\n",
            " Layer (type)                Output Shape              Param #   \n",
            "=================================================================\n",
            " embedding (Embedding)       (None, 61, 50)            750000    \n",
            "                                                                 \n",
            " dropout (Dropout)           (None, 61, 50)            0         \n",
            "                                                                 \n",
            " gru (GRU)                   (None, 61, 48)            14400     \n",
            "                                                                 \n",
            " dropout_1 (Dropout)         (None, 61, 48)            0         \n",
            "                                                                 \n",
            " gru_1 (GRU)                 (None, 12)                2232      \n",
            "                                                                 \n",
            " dense (Dense)               (None, 1)                 13        \n",
            "                                                                 \n",
            " embedding_1 (Embedding)     (None, 1, 50)             750000    \n",
            "                                                                 \n",
            " dropout_2 (Dropout)         (None, 1, 50)             0         \n",
            "                                                                 \n",
            " gru_2 (GRU)                 (None, 1, 48)             14400     \n",
            "                                                                 \n",
            " dropout_3 (Dropout)         (None, 1, 48)             0         \n",
            "                                                                 \n",
            " gru_3 (GRU)                 (None, 12)                2232      \n",
            "                                                                 \n",
            " dense_1 (Dense)             (None, 1)                 13        \n",
            "                                                                 \n",
            "=================================================================\n",
            "Total params: 1,533,290\n",
            "Trainable params: 1,533,290\n",
            "Non-trainable params: 0\n",
            "_________________________________________________________________\n"
          ]
        }
      ],
      "source": [
        "model.summary() \n",
        "# 3 x (n2 + nm + 2n) m= input, n= output\n",
        "# (48*48 + 100*48 +2*48)*3 ==> m = 100, n = 48\n",
        "# (24*24 + 48*24  +2*24)*3 ==> m =  48, n = 24\n",
        "# (12*12 + 24*12  +2*12)*3 ==> m =  24, n = 12\n",
        "\n",
        "# burda None kısmımız batch_size'ımız.\n",
        "# Henüz fit uygulamadığımız için none diyor.\n",
        "# GRU modellerin 3 kapısı vardı, sayıları da yukarda ona göre çarpmışız."
      ]
    },
    {
      "cell_type": "markdown",
      "source": [
        " mode'u \"auto\" olarak bırakmayın. auto trendi takip eder. Ya max ya min yapacağız.\n",
        " \n",
        " recall, precision >> max\n",
        "\n",
        " val_recall, val_loss >> min"
      ],
      "metadata": {
        "id": "TllCxssdQxYK"
      }
    },
    {
      "cell_type": "code",
      "execution_count": 42,
      "metadata": {
        "id": "5LxZGh5EMP3Y"
      },
      "outputs": [],
      "source": [
        "from tensorflow.keras.callbacks import EarlyStopping\n",
        "\n",
        "early_stop = EarlyStopping(monitor=\"val_recall\", mode=\"max\", \n",
        "                           verbose=1, patience = 1, restore_best_weights=True)\n",
        "\n",
        "# in \"auto\" mode, the direction is automatically inferred from the name of the monitored quantity.\n",
        "# verbose=1 ayrıntı istemedik\n",
        "# patience küçük tuttuk ki overfite gitmesin\n",
        "# restore_best_weights=True en yüksek skoru alsın"
      ]
    },
    {
      "cell_type": "code",
      "execution_count": 43,
      "metadata": {
        "colab": {
          "base_uri": "https://localhost:8080/"
        },
        "id": "JSHMJXiRMP3Z",
        "outputId": "5d5ba2e4-fe6d-4057-ed7f-49df69fda91b"
      },
      "outputs": [
        {
          "output_type": "execute_result",
          "data": {
            "text/plain": [
              "array([0.52975426, 8.90215702])"
            ]
          },
          "metadata": {},
          "execution_count": 43
        }
      ],
      "source": [
        "from sklearn.utils import class_weight\n",
        "classes_weights = class_weight.compute_sample_weight(class_weight='balanced', y=y_train)\n",
        "pd.Series(classes_weights).unique()\n",
        "# ağırlıklandırma yaptık burda"
      ]
    },
    {
      "cell_type": "markdown",
      "source": [
        "https://keras.io/getting_started/faq/#why-is-my-training-loss-much-higher-than-my-testing-loss"
      ],
      "metadata": {
        "id": "E2Mm-c-Yg1PU"
      }
    },
    {
      "cell_type": "code",
      "execution_count": 44,
      "metadata": {
        "colab": {
          "base_uri": "https://localhost:8080/"
        },
        "id": "Aq7oVrxLMP3Z",
        "outputId": "3978f947-1842-46c3-b9e2-21e30d2013fd"
      },
      "outputs": [
        {
          "output_type": "stream",
          "name": "stdout",
          "text": [
            "Epoch 1/10\n",
            "761/761 [==============================] - 62s 82ms/step - loss: 0.6932 - recall: 0.5404 - val_loss: 0.6892 - val_recall: 0.0000e+00\n",
            "Epoch 2/10\n",
            "761/761 [==============================] - 60s 78ms/step - loss: 0.6932 - recall: 0.4393 - val_loss: 0.7215 - val_recall: 1.0000\n",
            "Epoch 3/10\n",
            "761/761 [==============================] - ETA: 0s - loss: 0.6934 - recall: 0.4996Restoring model weights from the end of the best epoch: 2.\n",
            "761/761 [==============================] - 68s 90ms/step - loss: 0.6934 - recall: 0.4996 - val_loss: 0.6855 - val_recall: 0.0000e+00\n",
            "Epoch 3: early stopping\n"
          ]
        },
        {
          "output_type": "execute_result",
          "data": {
            "text/plain": [
              "<keras.callbacks.History at 0x7f7733dbde10>"
            ]
          },
          "metadata": {},
          "execution_count": 44
        }
      ],
      "source": [
        "model.fit(X_train, y_train, epochs=10, batch_size=256, sample_weight= classes_weights,\n",
        "         validation_data=(X_test, y_test), callbacks=[early_stop])\n",
        "# batch_size aşama aşama artırılabilir. 16, 32, 64, 128, 256...."
      ]
    },
    {
      "cell_type": "markdown",
      "source": [
        "Diyelim ki bir sürü parametre değiştirdik ama overfiti bir türlü engelleyemedik. O zaman -->> 1 epoch yapacağız"
      ],
      "metadata": {
        "id": "iRSLXHK_RffL"
      }
    },
    {
      "cell_type": "markdown",
      "source": [
        "Peki bu loss nedir? \n",
        "Diyelim bir sınıfı tahmin ediyoruz. Loss ne kadar 0'a yakın o kadar iyi.  \n",
        "Özellikle dengesiz data setlerindeki NLP'deki loss = machine learning'deki accuracy gibidir. Bu çok kritik!!!!"
      ],
      "metadata": {
        "id": "0j1Xfr5PRwy4"
      }
    },
    {
      "cell_type": "markdown",
      "source": [
        "Diğer bir problem! NLP'de genelde çok epoch yapmayacağız. Genelde 1 epochle işi halledeceğiz. Genelde Train değerleri daha yüksek olacak ilk epochlarda. MAkalede de bunu anlatıyor. İlk train skorlarımızın yüksek olması normal. Ama ilerde loss ve val_loss değerlerimiz arasında fark olabilir. Biz aşağıdaki tabloya bakarak overfit var mı yok mu anlamıyoruz. Mutlaka train ve test'i karşılaştırmalıyız."
      ],
      "metadata": {
        "id": "pD1MpOH9SZWs"
      }
    },
    {
      "cell_type": "markdown",
      "metadata": {
        "id": "fUZGuKlgMP3Z"
      },
      "source": [
        "## Model evaluation"
      ]
    },
    {
      "cell_type": "code",
      "execution_count": null,
      "metadata": {
        "colab": {
          "base_uri": "https://localhost:8080/",
          "height": 112
        },
        "id": "FY1--hF-MP3Z",
        "outputId": "c114d306-082e-4d3e-f36b-16f472675935"
      },
      "outputs": [
        {
          "output_type": "execute_result",
          "data": {
            "text/plain": [
              "       loss    recall  val_loss  val_recall\n",
              "0  0.320903  0.859245  0.322289    0.927971\n",
              "1  0.197325  0.928434  0.181824    0.832541"
            ],
            "text/html": [
              "\n",
              "  <div id=\"df-fb90e9bf-babe-4b04-bc8c-951acf6fbe40\">\n",
              "    <div class=\"colab-df-container\">\n",
              "      <div>\n",
              "<style scoped>\n",
              "    .dataframe tbody tr th:only-of-type {\n",
              "        vertical-align: middle;\n",
              "    }\n",
              "\n",
              "    .dataframe tbody tr th {\n",
              "        vertical-align: top;\n",
              "    }\n",
              "\n",
              "    .dataframe thead th {\n",
              "        text-align: right;\n",
              "    }\n",
              "</style>\n",
              "<table border=\"1\" class=\"dataframe\">\n",
              "  <thead>\n",
              "    <tr style=\"text-align: right;\">\n",
              "      <th></th>\n",
              "      <th>loss</th>\n",
              "      <th>recall</th>\n",
              "      <th>val_loss</th>\n",
              "      <th>val_recall</th>\n",
              "    </tr>\n",
              "  </thead>\n",
              "  <tbody>\n",
              "    <tr>\n",
              "      <th>0</th>\n",
              "      <td>0.320903</td>\n",
              "      <td>0.859245</td>\n",
              "      <td>0.322289</td>\n",
              "      <td>0.927971</td>\n",
              "    </tr>\n",
              "    <tr>\n",
              "      <th>1</th>\n",
              "      <td>0.197325</td>\n",
              "      <td>0.928434</td>\n",
              "      <td>0.181824</td>\n",
              "      <td>0.832541</td>\n",
              "    </tr>\n",
              "  </tbody>\n",
              "</table>\n",
              "</div>\n",
              "      <button class=\"colab-df-convert\" onclick=\"convertToInteractive('df-fb90e9bf-babe-4b04-bc8c-951acf6fbe40')\"\n",
              "              title=\"Convert this dataframe to an interactive table.\"\n",
              "              style=\"display:none;\">\n",
              "        \n",
              "  <svg xmlns=\"http://www.w3.org/2000/svg\" height=\"24px\"viewBox=\"0 0 24 24\"\n",
              "       width=\"24px\">\n",
              "    <path d=\"M0 0h24v24H0V0z\" fill=\"none\"/>\n",
              "    <path d=\"M18.56 5.44l.94 2.06.94-2.06 2.06-.94-2.06-.94-.94-2.06-.94 2.06-2.06.94zm-11 1L8.5 8.5l.94-2.06 2.06-.94-2.06-.94L8.5 2.5l-.94 2.06-2.06.94zm10 10l.94 2.06.94-2.06 2.06-.94-2.06-.94-.94-2.06-.94 2.06-2.06.94z\"/><path d=\"M17.41 7.96l-1.37-1.37c-.4-.4-.92-.59-1.43-.59-.52 0-1.04.2-1.43.59L10.3 9.45l-7.72 7.72c-.78.78-.78 2.05 0 2.83L4 21.41c.39.39.9.59 1.41.59.51 0 1.02-.2 1.41-.59l7.78-7.78 2.81-2.81c.8-.78.8-2.07 0-2.86zM5.41 20L4 18.59l7.72-7.72 1.47 1.35L5.41 20z\"/>\n",
              "  </svg>\n",
              "      </button>\n",
              "      \n",
              "  <style>\n",
              "    .colab-df-container {\n",
              "      display:flex;\n",
              "      flex-wrap:wrap;\n",
              "      gap: 12px;\n",
              "    }\n",
              "\n",
              "    .colab-df-convert {\n",
              "      background-color: #E8F0FE;\n",
              "      border: none;\n",
              "      border-radius: 50%;\n",
              "      cursor: pointer;\n",
              "      display: none;\n",
              "      fill: #1967D2;\n",
              "      height: 32px;\n",
              "      padding: 0 0 0 0;\n",
              "      width: 32px;\n",
              "    }\n",
              "\n",
              "    .colab-df-convert:hover {\n",
              "      background-color: #E2EBFA;\n",
              "      box-shadow: 0px 1px 2px rgba(60, 64, 67, 0.3), 0px 1px 3px 1px rgba(60, 64, 67, 0.15);\n",
              "      fill: #174EA6;\n",
              "    }\n",
              "\n",
              "    [theme=dark] .colab-df-convert {\n",
              "      background-color: #3B4455;\n",
              "      fill: #D2E3FC;\n",
              "    }\n",
              "\n",
              "    [theme=dark] .colab-df-convert:hover {\n",
              "      background-color: #434B5C;\n",
              "      box-shadow: 0px 1px 3px 1px rgba(0, 0, 0, 0.15);\n",
              "      filter: drop-shadow(0px 1px 2px rgba(0, 0, 0, 0.3));\n",
              "      fill: #FFFFFF;\n",
              "    }\n",
              "  </style>\n",
              "\n",
              "      <script>\n",
              "        const buttonEl =\n",
              "          document.querySelector('#df-fb90e9bf-babe-4b04-bc8c-951acf6fbe40 button.colab-df-convert');\n",
              "        buttonEl.style.display =\n",
              "          google.colab.kernel.accessAllowed ? 'block' : 'none';\n",
              "\n",
              "        async function convertToInteractive(key) {\n",
              "          const element = document.querySelector('#df-fb90e9bf-babe-4b04-bc8c-951acf6fbe40');\n",
              "          const dataTable =\n",
              "            await google.colab.kernel.invokeFunction('convertToInteractive',\n",
              "                                                     [key], {});\n",
              "          if (!dataTable) return;\n",
              "\n",
              "          const docLinkHtml = 'Like what you see? Visit the ' +\n",
              "            '<a target=\"_blank\" href=https://colab.research.google.com/notebooks/data_table.ipynb>data table notebook</a>'\n",
              "            + ' to learn more about interactive tables.';\n",
              "          element.innerHTML = '';\n",
              "          dataTable['output_type'] = 'display_data';\n",
              "          await google.colab.output.renderOutput(dataTable, element);\n",
              "          const docLink = document.createElement('div');\n",
              "          docLink.innerHTML = docLinkHtml;\n",
              "          element.appendChild(docLink);\n",
              "        }\n",
              "      </script>\n",
              "    </div>\n",
              "  </div>\n",
              "  "
            ]
          },
          "metadata": {},
          "execution_count": 156
        }
      ],
      "source": [
        "model_loss = pd.DataFrame(model.history.history)\n",
        "model_loss.head()"
      ]
    },
    {
      "cell_type": "code",
      "execution_count": null,
      "metadata": {
        "colab": {
          "base_uri": "https://localhost:8080/",
          "height": 283
        },
        "id": "BDVnpeScMP3Z",
        "outputId": "aebd1e83-1f4e-449f-9395-cfcd59fa3ac5"
      },
      "outputs": [
        {
          "output_type": "execute_result",
          "data": {
            "text/plain": [
              "<matplotlib.axes._subplots.AxesSubplot at 0x7fc89a809250>"
            ]
          },
          "metadata": {},
          "execution_count": 157
        },
        {
          "output_type": "display_data",
          "data": {
            "text/plain": [
              "<Figure size 432x288 with 1 Axes>"
            ],
            "image/png": "[encoded data removed]"
          },
          "metadata": {
            "needs_background": "light"
          }
        }
      ],
      "source": [
        "model_loss.plot()"
      ]
    },
    {
      "cell_type": "code",
      "source": [
        ""
      ],
      "metadata": {
        "id": "jfo1PLy9FW32"
      },
      "execution_count": null,
      "outputs": []
    },
    {
      "cell_type": "code",
      "execution_count": null,
      "metadata": {
        "colab": {
          "base_uri": "https://localhost:8080/"
        },
        "id": "VW9rUaYgMP3a",
        "outputId": "1b696894-ebce-40bf-a98c-c53f22e36c7d"
      },
      "outputs": [
        {
          "output_type": "stream",
          "name": "stdout",
          "text": [
            "6088/6088 [==============================] - 85s 14ms/step - loss: 0.2940 - recall: 0.9679\n"
          ]
        },
        {
          "output_type": "execute_result",
          "data": {
            "text/plain": [
              "[0.2940090596675873, 0.9679188132286072]"
            ]
          },
          "metadata": {},
          "execution_count": 158
        }
      ],
      "source": [
        "model.evaluate(X_train, y_train)\n",
        "# loss ve val_loss değerlerimiz\n",
        "# Burda 0.29 ve yukarda 0.32."
      ]
    },
    {
      "cell_type": "code",
      "execution_count": null,
      "metadata": {
        "colab": {
          "base_uri": "https://localhost:8080/"
        },
        "id": "hVZ2aAfMMP3a",
        "outputId": "2f3a2b94-7cda-4f83-9124-a377db215bce"
      },
      "outputs": [
        {
          "output_type": "stream",
          "name": "stdout",
          "text": [
            "1522/1522 [==============================] - 22s 14ms/step - loss: 0.3223 - recall: 0.9280\n"
          ]
        },
        {
          "output_type": "execute_result",
          "data": {
            "text/plain": [
              "[0.3222893178462982, 0.9279707670211792]"
            ]
          },
          "metadata": {},
          "execution_count": 159
        }
      ],
      "source": [
        "model.evaluate(X_test, y_test)"
      ]
    },
    {
      "cell_type": "code",
      "source": [
        "from sklearn.metrics import confusion_matrix, classification_report, accuracy_score, f1_score, roc_auc_score\n",
        "y_train_pred = model.predict(X_train) >= 0.5\n",
        "\n",
        "print(confusion_matrix(y_train, y_train_pred))\n",
        "print(\"-------------------------------------------------------\")\n",
        "print(classification_report(y_train, y_train_pred))\n",
        "\n",
        "# 1 class'ı için, recall iyi ama precision üzüyor."
      ],
      "metadata": {
        "colab": {
          "base_uri": "https://localhost:8080/"
        },
        "id": "lh2CIUcJy9dt",
        "outputId": "20e29168-4671-4d25-b44b-b7f1a8b17148"
      },
      "execution_count": null,
      "outputs": [
        {
          "output_type": "stream",
          "name": "stdout",
          "text": [
            "[[160497  23359]\n",
            " [   351  10590]]\n",
            "-------------------------------------------------------\n",
            "              precision    recall  f1-score   support\n",
            "\n",
            "           0       1.00      0.87      0.93    183856\n",
            "           1       0.31      0.97      0.47     10941\n",
            "\n",
            "    accuracy                           0.88    194797\n",
            "   macro avg       0.65      0.92      0.70    194797\n",
            "weighted avg       0.96      0.88      0.91    194797\n",
            "\n"
          ]
        }
      ]
    },
    {
      "cell_type": "code",
      "source": [
        "y_pred = model.predict(X_test) >= 0.5\n",
        "\n",
        "print(confusion_matrix(y_test, y_pred))\n",
        "print(\"-------------------------------------------------------\")\n",
        "print(classification_report(y_test, y_pred))\n",
        "# overfitting giderilmiş"
      ],
      "metadata": {
        "colab": {
          "base_uri": "https://localhost:8080/"
        },
        "id": "PfAxi22ry8t9",
        "outputId": "37c1ea08-93bb-45c5-8797-9091da2336b4"
      },
      "execution_count": null,
      "outputs": [
        {
          "output_type": "stream",
          "name": "stdout",
          "text": [
            "[[39583  6382]\n",
            " [  197  2538]]\n",
            "-------------------------------------------------------\n",
            "              precision    recall  f1-score   support\n",
            "\n",
            "           0       1.00      0.86      0.92     45965\n",
            "           1       0.28      0.93      0.44      2735\n",
            "\n",
            "    accuracy                           0.86     48700\n",
            "   macro avg       0.64      0.89      0.68     48700\n",
            "weighted avg       0.96      0.86      0.90     48700\n",
            "\n"
          ]
        }
      ]
    },
    {
      "cell_type": "code",
      "source": [
        "from sklearn.metrics import precision_recall_curve, average_precision_score\n",
        "import matplotlib.pyplot as plt\n",
        "\n",
        "y_pred_proba = model.predict(X_test)\n",
        "precision, recall, thresholds = precision_recall_curve(y_test, y_pred_proba,)\n",
        "plt.plot([1,0],[0,1],'k--')\n",
        "plt.plot(recall, precision)\n",
        "plt.xlabel('recall')\n",
        "plt.ylabel('precision')\n",
        "plt.title('precision recall curve')\n",
        "plt.show()"
      ],
      "metadata": {
        "colab": {
          "base_uri": "https://localhost:8080/",
          "height": 295
        },
        "id": "kF0ks_UphsVL",
        "outputId": "043bd45b-07f2-438a-853d-407f9a8cfe6c"
      },
      "execution_count": null,
      "outputs": [
        {
          "output_type": "display_data",
          "data": {
            "text/plain": [
              "<Figure size 432x288 with 1 Axes>"
            ],
            "image/png": "[encoded data removed]"
          },
          "metadata": {
            "needs_background": "light"
          }
        }
      ]
    },
    {
      "cell_type": "code",
      "source": [
        "average_precision_score(y_test, y_pred_proba)\n",
        "# modelin %73 tahmin başarısı var"
      ],
      "metadata": {
        "colab": {
          "base_uri": "https://localhost:8080/"
        },
        "id": "PngCc_Ofk3ek",
        "outputId": "58736827-dfad-4f36-f783-d3d123b5a7e1"
      },
      "execution_count": null,
      "outputs": [
        {
          "output_type": "execute_result",
          "data": {
            "text/plain": [
              "0.7356418283772912"
            ]
          },
          "metadata": {},
          "execution_count": 163
        }
      ]
    },
    {
      "cell_type": "markdown",
      "source": [
        "##Scores without sample_weight"
      ],
      "metadata": {
        "id": "xAbTifhcHvyX"
      }
    },
    {
      "cell_type": "code",
      "execution_count": null,
      "metadata": {
        "colab": {
          "base_uri": "https://localhost:8080/"
        },
        "outputId": "f977a4bf-eb6d-45e2-8a5a-67851417ca6a",
        "id": "SSL0jBuAGvyz"
      },
      "outputs": [
        {
          "output_type": "stream",
          "name": "stdout",
          "text": [
            "[[182573   1283]\n",
            " [  2146   8795]]\n",
            "-------------------------------------------------------\n",
            "              precision    recall  f1-score   support\n",
            "\n",
            "           0       0.99      0.99      0.99    183856\n",
            "           1       0.87      0.80      0.84     10941\n",
            "\n",
            "    accuracy                           0.98    194797\n",
            "   macro avg       0.93      0.90      0.91    194797\n",
            "weighted avg       0.98      0.98      0.98    194797\n",
            "\n"
          ]
        }
      ],
      "source": [
        "y_train_pred = model.predict(X_train) >= 0.5\n",
        "\n",
        "print(confusion_matrix(y_train, y_train_pred))\n",
        "print(\"-------------------------------------------------------\")\n",
        "print(classification_report(y_train, y_train_pred))\n",
        "# overfitting var mlsf. Train ve test seti arasında uçurumlar var."
      ]
    },
    {
      "cell_type": "code",
      "execution_count": null,
      "metadata": {
        "colab": {
          "base_uri": "https://localhost:8080/"
        },
        "outputId": "019e665e-5cfb-4de9-fe55-2e94a74b2a1e",
        "id": "lL0SUTN1Gvy0"
      },
      "outputs": [
        {
          "output_type": "stream",
          "name": "stdout",
          "text": [
            "[[45310   655]\n",
            " [ 1015  1720]]\n",
            "-------------------------------------------------------\n",
            "              precision    recall  f1-score   support\n",
            "\n",
            "           0       0.98      0.99      0.98     45965\n",
            "           1       0.72      0.63      0.67      2735\n",
            "\n",
            "    accuracy                           0.97     48700\n",
            "   macro avg       0.85      0.81      0.83     48700\n",
            "weighted avg       0.96      0.97      0.96     48700\n",
            "\n"
          ]
        }
      ],
      "source": [
        "y_pred = model.predict(X_test) >= 0.5\n",
        "\n",
        "print(confusion_matrix(y_test, y_pred))\n",
        "print(\"-------------------------------------------------------\")\n",
        "print(classification_report(y_test, y_pred))"
      ]
    },
    {
      "cell_type": "markdown",
      "source": [
        "## Base model without sample weights\n",
        "\n",
        "\n",
        "model.add(Embedding(input_dim=num_words,\n",
        "                    output_dim=embedding_size,\n",
        "                    input_length=max_tokens))\n",
        "\n",
        "model.add(Dropout(0.5))\n",
        "\n",
        "model.add(GRU(units=48, return_sequences=True))\n",
        "\n",
        "model.add(Dropout(0.5))\n",
        "\n",
        "model.add(GRU(units=12))\n",
        "\n",
        "model.add(Dense(1, activation='sigmoid'))\n",
        "\n",
        "\n",
        "optimizer = Adam(learning_rate=0.001)\n",
        "\n",
        "\n",
        "model.compile(loss='binary_crossentropy',\n",
        "              optimizer=optimizer,\n",
        "              metrics=['Recall'])\n",
        "\n",
        "\n",
        "model.fit(X_train, y_train, epochs=1, batch_size=128,\n",
        "         validation_data=(X_test, y_test))"
      ],
      "metadata": {
        "id": "PlG-6uRCHEhX"
      }
    },
    {
      "cell_type": "code",
      "source": [
        "from sklearn.metrics import confusion_matrix, classification_report, accuracy_score, f1_score, roc_auc_score\n",
        "y_train_pred = model.predict(X_train) >= 0.5\n",
        "\n",
        "print(confusion_matrix(y_train, y_train_pred))\n",
        "print(\"-------------------------------------------------------\")\n",
        "print(classification_report(y_train, y_train_pred))"
      ],
      "metadata": {
        "colab": {
          "base_uri": "https://localhost:8080/"
        },
        "id": "komhkHk_Gt5u",
        "outputId": "00d33a27-8416-4f77-8927-151c11d3784a"
      },
      "execution_count": null,
      "outputs": [
        {
          "output_type": "stream",
          "name": "stdout",
          "text": [
            "[[182868    988]\n",
            " [  4445   6496]]\n",
            "-------------------------------------------------------\n",
            "              precision    recall  f1-score   support\n",
            "\n",
            "           0       0.98      0.99      0.99    183856\n",
            "           1       0.87      0.59      0.71     10941\n",
            "\n",
            "    accuracy                           0.97    194797\n",
            "   macro avg       0.92      0.79      0.85    194797\n",
            "weighted avg       0.97      0.97      0.97    194797\n",
            "\n"
          ]
        }
      ]
    },
    {
      "cell_type": "code",
      "source": [
        "y_pred = model.predict(X_test) >= 0.5\n",
        "\n",
        "print(confusion_matrix(y_test, y_pred))\n",
        "print(\"-------------------------------------------------------\")\n",
        "print(classification_report(y_test, y_pred))"
      ],
      "metadata": {
        "colab": {
          "base_uri": "https://localhost:8080/"
        },
        "id": "DCmq1phiAjz5",
        "outputId": "eed56df7-c1b6-41de-ae5d-cb0f2bc60905"
      },
      "execution_count": null,
      "outputs": [
        {
          "output_type": "stream",
          "name": "stdout",
          "text": [
            "[[45669   296]\n",
            " [ 1321  1414]]\n",
            "-------------------------------------------------------\n",
            "              precision    recall  f1-score   support\n",
            "\n",
            "           0       0.97      0.99      0.98     45965\n",
            "           1       0.83      0.52      0.64      2735\n",
            "\n",
            "    accuracy                           0.97     48700\n",
            "   macro avg       0.90      0.76      0.81     48700\n",
            "weighted avg       0.96      0.97      0.96     48700\n",
            "\n"
          ]
        }
      ]
    },
    {
      "cell_type": "markdown",
      "source": [
        "## Model Saving"
      ],
      "metadata": {
        "id": "b0fcHGnY0aH9"
      }
    },
    {
      "cell_type": "code",
      "source": [
        "model.save('review_hepsiburada.h5') # deep learning modeli olduğu için h5'le kaydediyoruz."
      ],
      "metadata": {
        "id": "Io2S2n_30UAx"
      },
      "execution_count": null,
      "outputs": []
    },
    {
      "cell_type": "markdown",
      "source": [
        "##Loading Model"
      ],
      "metadata": {
        "id": "RvHJTK3N1M8I"
      }
    },
    {
      "cell_type": "code",
      "source": [
        "from tensorflow.keras.models import load_model\n",
        "model_review = load_model('/content/drive/MyDrive/review_hepsiburada.h5')\n",
        "# modeli bu şekilde kaydediyoruz drive'ımıza ve çağırıyoruz."
      ],
      "metadata": {
        "id": "6fF_Moci1Rl3"
      },
      "execution_count": null,
      "outputs": []
    },
    {
      "cell_type": "markdown",
      "metadata": {
        "id": "U3Z5WQt0MP3e"
      },
      "source": [
        "## Predicton"
      ]
    },
    {
      "cell_type": "code",
      "execution_count": null,
      "metadata": {
        "id": "XXl_3XopMP3e"
      },
      "outputs": [],
      "source": [
        "review1 = \"çok beğendim herkese tavsiye ederim\"\n",
        "review2 = \"süper ürün aynı gün elime geçti\"\n",
        "review3 = \"büyük bir hayal kırıklığı yaşadım bu ürünü bu markaya yakıştıramadım\"\n",
        "review4 = \"kelimelerle tarif edilemez\"\n",
        "review5 = \"tasarımı harika ancak kargo çok geç geldi ve ürün açılmıştı hayal kırıklığı gerçekten\"\n",
        "review6 = \"hiç resimde gösterildiği gibi değil\"\n",
        "review7 = \"kötü yorumlar gözümü korkutmuştu ancak hiçbir sorun yaşamadım teşekkürler\"\n",
        "review8 = \"hiç bu kadar kötü bir satıcıya denk gelmemiştim ürün siparişimi iptal ediyorum\"\n",
        "review9 = \"tam bir fiyat performans ürünü\"\n",
        "review10 = \"beklediğim gibi çıkmadı\"\n",
        "review11 = \"on numara beş yıldız\"\n",
        "review12 = \"üründe sıkıntı var\"\n",
        "review13 = \"televizyonun görüntü kalitesi çok kötü, dün akşam evde arkadaşlarla toplandık. yedik, içtik, sohbet ettik. Sonra televizyonda Türkiye - İngiltere maçını seyrettik. \"\n",
        "review14 = '1 gün gibi kısa bir sürede elime geçti. Ve bu fıyata süper bir ürün tavsiye ederim. Lakin eli büyük olan kişiler daha büyük modelini tercih edebilirler ortaboy ürün. Teşekkürler '\n",
        "reviews = [review1, review2, review3, review4, review5, review6, review7, review8, review9, review10, review11, review12, review13, review14]"
      ]
    },
    {
      "cell_type": "code",
      "execution_count": null,
      "metadata": {
        "id": "XhxQQSEqMP3e"
      },
      "outputs": [],
      "source": [
        "tokens = tokenizer.texts_to_sequences(reviews)"
      ]
    },
    {
      "cell_type": "code",
      "execution_count": null,
      "metadata": {
        "id": "NNbh_gkTMP3e",
        "outputId": "028c501a-00a2-45fe-a83f-997069560551",
        "colab": {
          "base_uri": "https://localhost:8080/"
        }
      },
      "outputs": [
        {
          "output_type": "execute_result",
          "data": {
            "text/plain": [
              "(14, 61)"
            ]
          },
          "metadata": {},
          "execution_count": 181
        }
      ],
      "source": [
        "tokens_pad = pad_sequences(tokens, maxlen=max_tokens)\n",
        "tokens_pad.shape"
      ]
    },
    {
      "cell_type": "code",
      "execution_count": null,
      "metadata": {
        "id": "RTGxn4qwMP3f",
        "outputId": "33ac9eb4-4459-4e0a-8c62-eb142080b4ff",
        "colab": {
          "base_uri": "https://localhost:8080/"
        }
      },
      "outputs": [
        {
          "output_type": "execute_result",
          "data": {
            "text/plain": [
              "array([[0],\n",
              "       [0],\n",
              "       [1],\n",
              "       [0],\n",
              "       [1],\n",
              "       [1],\n",
              "       [1],\n",
              "       [1],\n",
              "       [0],\n",
              "       [1],\n",
              "       [0],\n",
              "       [1],\n",
              "       [1],\n",
              "       [0]])"
            ]
          },
          "metadata": {},
          "execution_count": 182
        }
      ],
      "source": [
        "(model_review.predict(tokens_pad) >0.5).astype(\"int\")\n",
        "# bunu integer'a ç"
      ]
    }
  ],
  "metadata": {
    "kernelspec": {
      "display_name": "Python 3 (ipykernel)",
      "language": "python",
      "name": "python3"
    },
    "language_info": {
      "codemirror_mode": {
        "name": "ipython",
        "version": 3
      },
      "file_extension": ".py",
      "mimetype": "text/x-python",
      "name": "python",
      "nbconvert_exporter": "python",
      "pygments_lexer": "ipython3",
      "version": "3.7.9"
    },
    "colab": {
      "name": "NLP_4_(NLP_Application_with_DL)(TR)_30_Mar_2022.ipynb",
      "provenance": [],
      "include_colab_link": true
    },
    "accelerator": "TPU"
  },
  "nbformat": 4,
  "nbformat_minor": 0
}